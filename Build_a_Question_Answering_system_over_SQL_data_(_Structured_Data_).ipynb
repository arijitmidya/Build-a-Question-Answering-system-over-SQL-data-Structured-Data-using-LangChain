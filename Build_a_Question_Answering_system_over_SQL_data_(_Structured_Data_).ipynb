{
  "nbformat": 4,
  "nbformat_minor": 0,
  "metadata": {
    "colab": {
      "provenance": []
    },
    "kernelspec": {
      "name": "python3",
      "display_name": "Python 3"
    },
    "language_info": {
      "name": "python"
    }
  },
  "cells": [
    {
      "cell_type": "markdown",
      "source": [
        "# Build a Question/Answering system over SQL data ( Structured Data )"
      ],
      "metadata": {
        "id": "8Uf2bpJcbGAv"
      }
    },
    {
      "cell_type": "markdown",
      "source": [
        "# 1. Install necessary dependencies"
      ],
      "metadata": {
        "id": "emheT3kDchti"
      }
    },
    {
      "cell_type": "code",
      "source": [
        "!apt-get update\n",
        "!apt-get install sqlite3"
      ],
      "metadata": {
        "id": "c4onlnTVJgXx",
        "colab": {
          "base_uri": "https://localhost:8080/"
        },
        "outputId": "0fb3c2fd-9f9d-4531-ba3d-9b59f9d91dab"
      },
      "execution_count": 2,
      "outputs": [
        {
          "output_type": "stream",
          "name": "stdout",
          "text": [
            "Get:1 https://cloud.r-project.org/bin/linux/ubuntu jammy-cran40/ InRelease [3,632 B]\n",
            "Hit:2 http://archive.ubuntu.com/ubuntu jammy InRelease\n",
            "Get:3 http://security.ubuntu.com/ubuntu jammy-security InRelease [129 kB]\n",
            "Get:4 https://developer.download.nvidia.com/compute/cuda/repos/ubuntu2204/x86_64  InRelease [1,581 B]\n",
            "Get:5 http://archive.ubuntu.com/ubuntu jammy-updates InRelease [128 kB]\n",
            "Get:6 https://r2u.stat.illinois.edu/ubuntu jammy InRelease [6,555 B]\n",
            "Hit:7 https://ppa.launchpadcontent.net/deadsnakes/ppa/ubuntu jammy InRelease\n",
            "Hit:8 https://ppa.launchpadcontent.net/graphics-drivers/ppa/ubuntu jammy InRelease\n",
            "Hit:9 https://ppa.launchpadcontent.net/ubuntugis/ppa/ubuntu jammy InRelease\n",
            "Get:10 http://archive.ubuntu.com/ubuntu jammy-backports InRelease [127 kB]\n",
            "Get:11 https://developer.download.nvidia.com/compute/cuda/repos/ubuntu2204/x86_64  Packages [1,318 kB]\n",
            "Get:12 https://r2u.stat.illinois.edu/ubuntu jammy/main amd64 Packages [2,659 kB]\n",
            "Get:13 https://r2u.stat.illinois.edu/ubuntu jammy/main all Packages [8,696 kB]\n",
            "Get:14 http://security.ubuntu.com/ubuntu jammy-security/universe amd64 Packages [1,230 kB]\n",
            "Get:15 http://security.ubuntu.com/ubuntu jammy-security/restricted amd64 Packages [3,657 kB]\n",
            "Get:16 http://archive.ubuntu.com/ubuntu jammy-updates/main amd64 Packages [2,939 kB]\n",
            "Get:17 http://security.ubuntu.com/ubuntu jammy-security/main amd64 Packages [2,634 kB]\n",
            "Get:18 http://archive.ubuntu.com/ubuntu jammy-updates/universe amd64 Packages [1,526 kB]\n",
            "Get:19 http://archive.ubuntu.com/ubuntu jammy-backports/universe amd64 Packages [35.2 kB]\n",
            "Fetched 25.1 MB in 4s (7,030 kB/s)\n",
            "Reading package lists... Done\n",
            "W: Skipping acquire of configured file 'main/source/Sources' as repository 'https://r2u.stat.illinois.edu/ubuntu jammy InRelease' does not seem to provide it (sources.list entry misspelt?)\n",
            "Reading package lists... Done\n",
            "Building dependency tree... Done\n",
            "Reading state information... Done\n",
            "Suggested packages:\n",
            "  sqlite3-doc\n",
            "The following NEW packages will be installed:\n",
            "  sqlite3\n",
            "0 upgraded, 1 newly installed, 0 to remove and 26 not upgraded.\n",
            "Need to get 768 kB of archives.\n",
            "After this operation, 1,873 kB of additional disk space will be used.\n",
            "Get:1 http://archive.ubuntu.com/ubuntu jammy-updates/main amd64 sqlite3 amd64 3.37.2-2ubuntu0.3 [768 kB]\n",
            "Fetched 768 kB in 1s (989 kB/s)\n",
            "Selecting previously unselected package sqlite3.\n",
            "(Reading database ... 124935 files and directories currently installed.)\n",
            "Preparing to unpack .../sqlite3_3.37.2-2ubuntu0.3_amd64.deb ...\n",
            "Unpacking sqlite3 (3.37.2-2ubuntu0.3) ...\n",
            "Setting up sqlite3 (3.37.2-2ubuntu0.3) ...\n",
            "Processing triggers for man-db (2.10.2-1) ...\n"
          ]
        }
      ]
    },
    {
      "cell_type": "code",
      "source": [
        "%%capture --no-stderr\n",
        "%pip install --upgrade --quiet langchain-community langchainhub langgraph"
      ],
      "metadata": {
        "id": "Ayp_-4_mb-xi"
      },
      "execution_count": 1,
      "outputs": []
    },
    {
      "cell_type": "code",
      "source": [
        "pip install -qU \"langchain[openai]\""
      ],
      "metadata": {
        "colab": {
          "base_uri": "https://localhost:8080/"
        },
        "id": "RB4-U9OjiT8-",
        "outputId": "2605a948-7dac-49f9-d035-ec349b2468f3"
      },
      "execution_count": 3,
      "outputs": [
        {
          "output_type": "stream",
          "name": "stdout",
          "text": [
            "\u001b[?25l   \u001b[90m━━━━━━━━━━━━━━━━━━━━━━━━━━━━━━━━━━━━━━━━\u001b[0m \u001b[32m0.0/55.3 kB\u001b[0m \u001b[31m?\u001b[0m eta \u001b[36m-:--:--\u001b[0m\r\u001b[2K   \u001b[90m━━━━━━━━━━━━━━━━━━━━━━━━━━━━━━━━━━━━━━━━\u001b[0m \u001b[32m55.3/55.3 kB\u001b[0m \u001b[31m1.9 MB/s\u001b[0m eta \u001b[36m0:00:00\u001b[0m\n",
            "\u001b[2K   \u001b[90m━━━━━━━━━━━━━━━━━━━━━━━━━━━━━━━━━━━━━━━━\u001b[0m \u001b[32m414.1/414.1 kB\u001b[0m \u001b[31m9.5 MB/s\u001b[0m eta \u001b[36m0:00:00\u001b[0m\n",
            "\u001b[2K   \u001b[90m━━━━━━━━━━━━━━━━━━━━━━━━━━━━━━━━━━━━━━━━\u001b[0m \u001b[32m1.2/1.2 MB\u001b[0m \u001b[31m39.9 MB/s\u001b[0m eta \u001b[36m0:00:00\u001b[0m\n",
            "\u001b[?25h"
          ]
        }
      ]
    },
    {
      "cell_type": "markdown",
      "source": [
        "# 2. Setup Colab environment and Langsmith\n",
        "\n",
        "This code snippet sets up an environment in Google Colab to create and populate an SQLite database called Chinook.db. It does this by:\n",
        "\n",
        "Mounting your Google Drive.\n",
        "Creating a specific directory in your Google Drive to store the database.\n",
        "Downloading a SQL script from a GitHub repository.\n",
        "Using the sqlite3 command-line tool to create the database and execute the SQL script, thereby populating the database with data.\n",
        "This is a typical workflow for setting up a data science environment in Google Colab, where you need to access and create files in your Google Drive and use command-line tools to interact with data."
      ],
      "metadata": {
        "id": "HYU1gyzq-PB1"
      }
    },
    {
      "cell_type": "markdown",
      "source": [
        "### Mounts Google Drive\n",
        "\n",
        "a. from google.colab import drive: Imports the drive module from the google.colab library, which is specific to Google Colaboratory.\n",
        "\n",
        "b. drive.mount('/content/drive'): This line mounts your Google Drive to the Colab runtime. After executing this, you'll be prompted to authorize Colab to access your Google Drive. Once authorized, your Drive files become accessible within the Colab environment under the /content/drive directory."
      ],
      "metadata": {
        "id": "Pj5kayBa-Wxp"
      }
    },
    {
      "cell_type": "code",
      "source": [
        "from google.colab import drive\n",
        "drive.mount('/content/drive')"
      ],
      "metadata": {
        "id": "6ARJRrvIYJ4Y",
        "colab": {
          "base_uri": "https://localhost:8080/"
        },
        "outputId": "28ca1d00-da49-49d3-e800-2b04143397e7"
      },
      "execution_count": 4,
      "outputs": [
        {
          "output_type": "stream",
          "name": "stdout",
          "text": [
            "Mounted at /content/drive\n"
          ]
        }
      ]
    },
    {
      "cell_type": "markdown",
      "source": [
        "### Sets up the directory\n",
        "\n",
        "a. import os: Imports the os module for interacting with the operating system, specifically for file and directory operations.\n",
        "\n",
        "b. directory_path = '/content/drive/MyDrive/Colab Notebooks/Chinook': Defines the path to a directory within your Google Drive. This is where the SQLite database will be created.\n",
        "\n",
        "c. if not os.path.exists(directory_path): os.makedirs(directory_path): This checks if the specified directory exists. If it doesn't, it creates the directory and any necessary parent directories. This is important to ensure that the database file can be created in the correct location."
      ],
      "metadata": {
        "id": "PLugDVSd-p8p"
      }
    },
    {
      "cell_type": "code",
      "source": [
        "import os\n",
        "\n",
        "# Path to the directory within your Google Drive\n",
        "directory_path = '/content/drive/MyDrive/Colab Notebooks/Chinook'\n",
        "\n",
        "# Create the directory if it doesn't exist\n",
        "if not os.path.exists(directory_path):\n",
        "    os.makedirs(directory_path)"
      ],
      "metadata": {
        "id": "Oc7GIhmSgqet"
      },
      "execution_count": 5,
      "outputs": []
    },
    {
      "cell_type": "markdown",
      "source": [
        "### Downloads and Creates the SQLite Database\n",
        "\n",
        "This line executes a shell command that downloads a SQL script and uses it to create an SQLite database."
      ],
      "metadata": {
        "id": "5HYR0_g0_GQs"
      }
    },
    {
      "cell_type": "code",
      "source": [
        "!curl -s https://raw.githubusercontent.com/lerocha/chinook-database/master/ChinookDatabase/DataSources/Chinook_Sqlite.sql | sqlite3 '/content/drive/MyDrive/Colab Notebooks/Chinook/Chinook.db'"
      ],
      "metadata": {
        "id": "9KSXxPuUg1mL"
      },
      "execution_count": 6,
      "outputs": []
    },
    {
      "cell_type": "markdown",
      "source": [
        "### Setup Langsmith to trace"
      ],
      "metadata": {
        "id": "yKkezKIK_ULI"
      }
    },
    {
      "cell_type": "code",
      "source": [
        "import os\n",
        "import getpass\n",
        "# Comment out the below to opt-out of using LangSmith in this notebook. Not required.\n",
        "if not os.environ.get(\"LANGSMITH_API_KEY\"):\n",
        "    os.environ[\"LANGSMITH_API_KEY\"] = getpass.getpass()\n",
        "    os.environ[\"LANGSMITH_TRACING\"] = \"true\""
      ],
      "metadata": {
        "colab": {
          "base_uri": "https://localhost:8080/"
        },
        "id": "fbvJo6CzjGU_",
        "outputId": "6221e42a-2b78-420c-9798-fdcf0062f0ea"
      },
      "execution_count": 9,
      "outputs": [
        {
          "name": "stdout",
          "output_type": "stream",
          "text": [
            "··········\n"
          ]
        }
      ]
    },
    {
      "cell_type": "markdown",
      "source": [
        "### Testing the connection\n",
        "\n",
        "This code snippet establishes a connection to an SQLite database (Chinook.db) using LangChain's SQLDatabase utility, prints the database dialect and usable table names, and then executes a simple SQL query to retrieve and display the first 20 rows from the Artist table. This demonstrates how to use LangChain to interact with SQL databases and execute SQL queries."
      ],
      "metadata": {
        "id": "7mH7AfWA_vfQ"
      }
    },
    {
      "cell_type": "code",
      "source": [
        "from langchain_community.utilities import SQLDatabase\n",
        "\n",
        "db = SQLDatabase.from_uri(\"sqlite:////content/drive/MyDrive/Colab Notebooks/Chinook/Chinook.db\")\n",
        "print(db.dialect)\n",
        "print(db.get_usable_table_names())\n",
        "db.run(\"SELECT * FROM Artist LIMIT 20;\")"
      ],
      "metadata": {
        "colab": {
          "base_uri": "https://localhost:8080/",
          "height": 87
        },
        "id": "1nmNTd2-jLNv",
        "outputId": "1f8c98f0-8d8b-4349-fc0f-9ab32c6dce25"
      },
      "execution_count": 10,
      "outputs": [
        {
          "output_type": "stream",
          "name": "stdout",
          "text": [
            "sqlite\n",
            "['Album', 'Artist', 'Customer', 'Employee', 'Genre', 'Invoice', 'InvoiceLine', 'MediaType', 'Playlist', 'PlaylistTrack', 'Track']\n"
          ]
        },
        {
          "output_type": "execute_result",
          "data": {
            "text/plain": [
              "\"[(1, 'AC/DC'), (2, 'Accept'), (3, 'Aerosmith'), (4, 'Alanis Morissette'), (5, 'Alice In Chains'), (6, 'Antônio Carlos Jobim'), (7, 'Apocalyptica'), (8, 'Audioslave'), (9, 'BackBeat'), (10, 'Billy Cobham'), (11, 'Black Label Society'), (12, 'Black Sabbath'), (13, 'Body Count'), (14, 'Bruce Dickinson'), (15, 'Buddy Guy'), (16, 'Caetano Veloso'), (17, 'Chico Buarque'), (18, 'Chico Science & Nação Zumbi'), (19, 'Cidade Negra'), (20, 'Cláudio Zoli')]\""
            ],
            "application/vnd.google.colaboratory.intrinsic+json": {
              "type": "string"
            }
          },
          "metadata": {},
          "execution_count": 10
        }
      ]
    },
    {
      "cell_type": "code",
      "source": [
        "db.run(\"SELECT * FROM Album LIMIT 20;\")"
      ],
      "metadata": {
        "colab": {
          "base_uri": "https://localhost:8080/",
          "height": 70
        },
        "id": "iZu7hPONjedC",
        "outputId": "c51ed8e7-bac4-42c6-a43a-03af96cfca57"
      },
      "execution_count": 11,
      "outputs": [
        {
          "output_type": "execute_result",
          "data": {
            "text/plain": [
              "\"[(1, 'For Those About To Rock We Salute You', 1), (2, 'Balls to the Wall', 2), (3, 'Restless and Wild', 2), (4, 'Let There Be Rock', 1), (5, 'Big Ones', 3), (6, 'Jagged Little Pill', 4), (7, 'Facelift', 5), (8, 'Warner 25 Anos', 6), (9, 'Plays Metallica By Four Cellos', 7), (10, 'Audioslave', 8), (11, 'Out Of Exile', 8), (12, 'BackBeat Soundtrack', 9), (13, 'The Best Of Billy Cobham', 10), (14, 'Alcohol Fueled Brewtality Live! [Disc 1]', 11), (15, 'Alcohol Fueled Brewtality Live! [Disc 2]', 11), (16, 'Black Sabbath', 12), (17, 'Black Sabbath Vol. 4 (Remaster)', 12), (18, 'Body Count', 13), (19, 'Chemical Wedding', 14), (20, 'The Best Of Buddy Guy - The Millenium Collection', 15)]\""
            ],
            "application/vnd.google.colaboratory.intrinsic+json": {
              "type": "string"
            }
          },
          "metadata": {},
          "execution_count": 11
        }
      ]
    },
    {
      "cell_type": "code",
      "source": [
        "db.run(\"SELECT * FROM Customer LIMIT 10;\")"
      ],
      "metadata": {
        "colab": {
          "base_uri": "https://localhost:8080/",
          "height": 105
        },
        "id": "i0jspm7Hj91t",
        "outputId": "6d889fe4-83e0-4d01-d667-f5b11f5ceb43"
      },
      "execution_count": 12,
      "outputs": [
        {
          "output_type": "execute_result",
          "data": {
            "text/plain": [
              "\"[(1, 'Luís', 'Gonçalves', 'Embraer - Empresa Brasileira de Aeronáutica S.A.', 'Av. Brigadeiro Faria Lima, 2170', 'São José dos Campos', 'SP', 'Brazil', '12227-000', '+55 (12) 3923-5555', '+55 (12) 3923-5566', 'luisg@embraer.com.br', 3), (2, 'Leonie', 'Köhler', None, 'Theodor-Heuss-Straße 34', 'Stuttgart', None, 'Germany', '70174', '+49 0711 2842222', None, 'leonekohler@surfeu.de', 5), (3, 'François', 'Tremblay', None, '1498 rue Bélanger', 'Montréal', 'QC', 'Canada', 'H2G 1A7', '+1 (514) 721-4711', None, 'ftremblay@gmail.com', 3), (4, 'Bjørn', 'Hansen', None, 'Ullevålsveien 14', 'Oslo', None, 'Norway', '0171', '+47 22 44 22 22', None, 'bjorn.hansen@yahoo.no', 4), (5, 'František', 'Wichterlová', 'JetBrains s.r.o.', 'Klanova 9/506', 'Prague', None, 'Czech Republic', '14700', '+420 2 4172 5555', '+420 2 4172 5555', 'frantisekw@jetbrains.com', 4), (6, 'Helena', 'Holý', None, 'Rilská 3174/6', 'Prague', None, 'Czech Republic', '14300', '+420 2 4177 0449', None, 'hholy@gmail.com', 5), (7, 'Astrid', 'Gruber', None, 'Rotenturmstraße 4, 1010 Innere Stadt', 'Vienne', None, 'Austria', '1010', '+43 01 5134505', None, 'astrid.gruber@apple.at', 5), (8, 'Daan', 'Peeters', None, 'Grétrystraat 63', 'Brussels', None, 'Belgium', '1000', '+32 02 219 03 03', None, 'daan_peeters@apple.be', 4), (9, 'Kara', 'Nielsen', None, 'Sønder Boulevard 51', 'Copenhagen', None, 'Denmark', '1720', '+453 3331 9991', None, 'kara.nielsen@jubii.dk', 4), (10, 'Eduardo', 'Martins', 'Woodstock Discos', 'Rua Dr. Falcão Filho, 155', 'São Paulo', 'SP', 'Brazil', '01007-010', '+55 (11) 3033-5446', '+55 (11) 3033-4564', 'eduardo@woodstock.com.br', 4)]\""
            ],
            "application/vnd.google.colaboratory.intrinsic+json": {
              "type": "string"
            }
          },
          "metadata": {},
          "execution_count": 12
        }
      ]
    },
    {
      "cell_type": "markdown",
      "source": [
        "# 3. Define the Chain in LangGraph\n",
        "\n",
        "The sequence of steps :\n",
        "\n",
        "1. converts the question into a SQL query\n",
        "\n",
        "2. executes the query\n",
        "\n",
        "3. uses the result to answer the original question"
      ],
      "metadata": {
        "id": "H2KvAMVadjIO"
      }
    },
    {
      "cell_type": "markdown",
      "source": [
        "### a. Define Application State\n",
        "\n",
        "This code snippet defines a type called State that represents a dictionary with four specific keys: question, query, result, and answer. Each of these keys is expected to have a string value.\n",
        "\n",
        "Purpose and Usage:\n",
        "\n",
        "This State type is used to represent the state of the question-answering system. It is  used to store:\n",
        "\n",
        "question: The original question asked by the user.\n",
        "\n",
        "query: The modified or processed version of the question used for retrieval or querying.\n",
        "\n",
        "result: The result obtained from a retrieval system or a database query.\n",
        "answer: The final answer generated by the system.\n",
        "\n",
        "By using TypedDict, we can ensure that the data being passed around in your application has the correct structure and types, which can help to prevent errors and improve code readability."
      ],
      "metadata": {
        "id": "aO_SgTexk33R"
      }
    },
    {
      "cell_type": "code",
      "source": [
        "from typing_extensions import TypedDict\n",
        "\n",
        "\n",
        "class State(TypedDict):\n",
        "    question: str\n",
        "    query: str\n",
        "    result: str\n",
        "    answer: str"
      ],
      "metadata": {
        "id": "N2s9kJPskWXY"
      },
      "execution_count": 13,
      "outputs": []
    },
    {
      "cell_type": "markdown",
      "source": [
        "### b. Convert question to SQL query"
      ],
      "metadata": {
        "id": "EzTmtoMwlEV0"
      }
    },
    {
      "cell_type": "markdown",
      "source": [
        "### Define the Chat model for the application"
      ],
      "metadata": {
        "id": "X1tPOv5Wlco0"
      }
    },
    {
      "cell_type": "code",
      "source": [
        "import getpass\n",
        "import os\n",
        "\n",
        "if not os.environ.get(\"OPENAI_API_KEY\"):\n",
        "  os.environ[\"OPENAI_API_KEY\"] = getpass.getpass(\"Enter API key for OpenAI: \")\n",
        "\n",
        "from langchain.chat_models import init_chat_model\n",
        "\n",
        "llm = init_chat_model(\"gpt-4o-mini\", model_provider=\"openai\")"
      ],
      "metadata": {
        "colab": {
          "base_uri": "https://localhost:8080/"
        },
        "id": "89-zzSeMk9xQ",
        "outputId": "b937fc6b-604b-45d1-885b-2154148128df"
      },
      "execution_count": 14,
      "outputs": [
        {
          "name": "stdout",
          "output_type": "stream",
          "text": [
            "Enter API key for OpenAI: ··········\n"
          ]
        }
      ]
    },
    {
      "cell_type": "markdown",
      "source": [
        "### Reuse a Prompt template defined in Hub"
      ],
      "metadata": {
        "id": "Z4xFAOgMlv8q"
      }
    },
    {
      "cell_type": "code",
      "source": [
        "from langchain import hub\n",
        "\n",
        "query_prompt_template = hub.pull(\"langchain-ai/sql-query-system-prompt\")\n",
        "\n",
        "assert len(query_prompt_template.messages) == 1\n",
        "query_prompt_template.messages[0].pretty_print()"
      ],
      "metadata": {
        "colab": {
          "base_uri": "https://localhost:8080/"
        },
        "id": "5p7dDX5SltY9",
        "outputId": "e33f4ce6-af22-4860-d56e-5142505746bd"
      },
      "execution_count": 15,
      "outputs": [
        {
          "output_type": "stream",
          "name": "stdout",
          "text": [
            "================================\u001b[1m System Message \u001b[0m================================\n",
            "\n",
            "Given an input question, create a syntactically correct \u001b[33;1m\u001b[1;3m{dialect}\u001b[0m query to run to help find the answer. Unless the user specifies in his question a specific number of examples they wish to obtain, always limit your query to at most \u001b[33;1m\u001b[1;3m{top_k}\u001b[0m results. You can order the results by a relevant column to return the most interesting examples in the database.\n",
            "\n",
            "Never query for all the columns from a specific table, only ask for a the few relevant columns given the question.\n",
            "\n",
            "Pay attention to use only the column names that you can see in the schema description. Be careful to not query for columns that do not exist. Also, pay attention to which column is in which table.\n",
            "\n",
            "Only use the following tables:\n",
            "\u001b[33;1m\u001b[1;3m{table_info}\u001b[0m\n",
            "\n",
            "Question: \u001b[33;1m\u001b[1;3m{input}\u001b[0m\n"
          ]
        }
      ]
    },
    {
      "cell_type": "markdown",
      "source": [
        "### Define the Utility function\n",
        "\n",
        "The write_query function takes a user's question, uses a prompt template to create a prompt for an LLM, and then invokes the LLM with structured output to generate an SQL query. The generated SQL query is then returned as a dictionary. The QueryOutput TypedDict is used to enforce the LLM output to always be a valid SQL query, which is very important."
      ],
      "metadata": {
        "id": "nWFoRjFxmIQ7"
      }
    },
    {
      "cell_type": "code",
      "source": [
        "from typing_extensions import Annotated\n",
        "\n",
        "\n",
        "class QueryOutput(TypedDict):\n",
        "    \"\"\"Generated SQL query.\"\"\"\n",
        "\n",
        "    query: Annotated[str, ..., \"Syntactically valid SQL query.\"]\n",
        "\n",
        "\n",
        "def write_query(state: State):\n",
        "    \"\"\"Generate SQL query to fetch information.\"\"\"\n",
        "    prompt = query_prompt_template.invoke(\n",
        "        {\n",
        "            \"dialect\": db.dialect,\n",
        "            \"top_k\": 10,\n",
        "            \"table_info\": db.get_table_info(),\n",
        "            \"input\": state[\"question\"],\n",
        "        }\n",
        "    )\n",
        "    structured_llm = llm.with_structured_output(QueryOutput)\n",
        "    result = structured_llm.invoke(prompt)\n",
        "    return {\"query\": result[\"query\"]}"
      ],
      "metadata": {
        "id": "PmcCyqfkl55k"
      },
      "execution_count": 16,
      "outputs": []
    },
    {
      "cell_type": "code",
      "source": [
        "write_query({\"question\": \"How many Employees are there?\"})"
      ],
      "metadata": {
        "colab": {
          "base_uri": "https://localhost:8080/"
        },
        "id": "MJF9wHwImNGg",
        "outputId": "a2af20f7-065f-415b-f454-af2c5c85897e"
      },
      "execution_count": 17,
      "outputs": [
        {
          "output_type": "execute_result",
          "data": {
            "text/plain": [
              "{'query': 'SELECT COUNT(*) AS TotalEmployees FROM Employee;'}"
            ]
          },
          "metadata": {},
          "execution_count": 17
        }
      ]
    },
    {
      "cell_type": "markdown",
      "source": [
        "### c. Execute query\n",
        "\n",
        "This code snippet defines a function execute_query that takes an SQL query as input, creates a QuerySQLDatabaseTool object, and executes the query against the database. The result of the query is then returned as a dictionary. The last line of code directly calls the function with a query to count the employees. Effectively, this code allows you to programmatically execute SQL queries using LangChain."
      ],
      "metadata": {
        "id": "vDX8AcsEmdTb"
      }
    },
    {
      "cell_type": "code",
      "source": [
        "from langchain_community.tools.sql_database.tool import QuerySQLDatabaseTool\n",
        "\n",
        "\n",
        "def execute_query(state: State):\n",
        "    \"\"\"Execute SQL query.\"\"\"\n",
        "    execute_query_tool = QuerySQLDatabaseTool(db=db)\n",
        "    return {\"result\": execute_query_tool.invoke(state[\"query\"])}"
      ],
      "metadata": {
        "id": "uSYUPxvAmVks"
      },
      "execution_count": 18,
      "outputs": []
    },
    {
      "cell_type": "code",
      "source": [
        "execute_query({\"query\": \"SELECT COUNT(EmployeeId) AS EmployeeCount FROM Employee;\"})"
      ],
      "metadata": {
        "colab": {
          "base_uri": "https://localhost:8080/"
        },
        "id": "bc9t1mmamnqa",
        "outputId": "8a407fe0-fa95-483e-954a-131d55eb63a3"
      },
      "execution_count": 19,
      "outputs": [
        {
          "output_type": "execute_result",
          "data": {
            "text/plain": [
              "{'result': '[(8,)]'}"
            ]
          },
          "metadata": {},
          "execution_count": 19
        }
      ]
    },
    {
      "cell_type": "markdown",
      "source": [
        "### d. Generate answer\n",
        "\n",
        "The generate_answer function takes a State object, which contains the question, query, and result. It then constructs a prompt that includes all of these pieces of information. This prompt is then sent to an LLM, which generates a natural language answer based on the provided context. The resulting answer is then returned in a dictionary. This function essentially acts as a post-processing step, taking the raw results of a database query and making them more user-friendly."
      ],
      "metadata": {
        "id": "ZAbub3MBmxoW"
      }
    },
    {
      "cell_type": "code",
      "source": [
        "def generate_answer(state: State):\n",
        "    \"\"\"Answer question using retrieved information as context.\"\"\"\n",
        "    prompt = (\n",
        "        \"Given the following user question, corresponding SQL query, \"\n",
        "        \"and SQL result, answer the user question.\\n\\n\"\n",
        "        f'Question: {state[\"question\"]}\\n'\n",
        "        f'SQL Query: {state[\"query\"]}\\n'\n",
        "        f'SQL Result: {state[\"result\"]}'\n",
        "    )\n",
        "    response = llm.invoke(prompt)\n",
        "    return {\"answer\": response.content}"
      ],
      "metadata": {
        "id": "CHVCb7Fvmq4s"
      },
      "execution_count": 20,
      "outputs": []
    },
    {
      "cell_type": "markdown",
      "source": [
        "# 4. Orchestrating the Chain with LangGraph"
      ],
      "metadata": {
        "id": "SZukQtVhfxyW"
      }
    },
    {
      "cell_type": "markdown",
      "source": [
        "### Define the Graph\n",
        "\n",
        "This code snippet creates a LangGraph that represents a workflow for answering questions using a database. The workflow consists of three steps:\n",
        "\n",
        "write_query: Generates an SQL query based on the user's question.\n",
        "\n",
        "execute_query: Executes the generated SQL query against the database.\n",
        "\n",
        "generate_answer: Generates a natural language answer based on the query result.\n",
        "\n",
        "The StateGraph class is used to define the graph structure, and the add_sequence() and add_edge() methods are used to add nodes and edges to the graph.\n",
        "\n",
        "Finally, the compile() method is used to create an executable graph object."
      ],
      "metadata": {
        "id": "pK8qY0MNCvIm"
      }
    },
    {
      "cell_type": "code",
      "source": [
        "from langgraph.graph import START, StateGraph\n",
        "\n",
        "graph_builder = StateGraph(State).add_sequence(\n",
        "    [write_query, execute_query, generate_answer]\n",
        ")\n",
        "graph_builder.add_edge(START, \"write_query\")\n",
        "graph = graph_builder.compile()"
      ],
      "metadata": {
        "id": "KXjqKdlBnRTw"
      },
      "execution_count": 21,
      "outputs": []
    },
    {
      "cell_type": "markdown",
      "source": [
        "### Visualize the Graph"
      ],
      "metadata": {
        "id": "z0WLH_IQDQEs"
      }
    },
    {
      "cell_type": "code",
      "source": [
        "from IPython.display import Image, display\n",
        "\n",
        "display(Image(graph.get_graph().draw_mermaid_png()))"
      ],
      "metadata": {
        "colab": {
          "base_uri": "https://localhost:8080/",
          "height": 350
        },
        "id": "Wc10RxTHoq5m",
        "outputId": "6f5951cc-7f07-4fb3-b0c4-44da1a27fedb"
      },
      "execution_count": 22,
      "outputs": [
        {
          "output_type": "display_data",
          "data": {
            "image/png": "[encoded data removed]",
            "text/plain": [
              "<IPython.core.display.Image object>"
            ]
          },
          "metadata": {}
        }
      ]
    },
    {
      "cell_type": "markdown",
      "source": [
        "### Invoking the Graph"
      ],
      "metadata": {
        "id": "q4zgqdWNDUvy"
      }
    },
    {
      "cell_type": "code",
      "source": [
        "for step in graph.stream(\n",
        "    {\"question\": \"How many employees are there?\"}, stream_mode=\"updates\"\n",
        "):\n",
        "    print(step)"
      ],
      "metadata": {
        "colab": {
          "base_uri": "https://localhost:8080/"
        },
        "id": "smZODxLnotO8",
        "outputId": "d3471355-25b2-4127-e956-7bbc25da5d79"
      },
      "execution_count": 23,
      "outputs": [
        {
          "output_type": "stream",
          "name": "stdout",
          "text": [
            "{'write_query': {'query': 'SELECT COUNT(*) AS NumberOfEmployees FROM Employee;'}}\n",
            "{'execute_query': {'result': '[(8,)]'}}\n",
            "{'generate_answer': {'answer': 'There are 8 employees.'}}\n"
          ]
        }
      ]
    },
    {
      "cell_type": "markdown",
      "source": [
        "### Update the Graph by Adding Human-in-the-loop as part of the workflow"
      ],
      "metadata": {
        "id": "V9tV9Kxzgwfh"
      }
    },
    {
      "cell_type": "code",
      "source": [
        "from langgraph.checkpoint.memory import MemorySaver\n",
        "\n",
        "memory = MemorySaver()\n",
        "graph = graph_builder.compile(checkpointer=memory, interrupt_before=[\"execute_query\"])\n",
        "\n",
        "# Now that we're using persistence, we need to specify a thread ID\n",
        "# so that we can continue the run after review.\n",
        "config = {\"configurable\": {\"thread_id\": \"1\"}}"
      ],
      "metadata": {
        "id": "v2ETxnWLov0X"
      },
      "execution_count": 24,
      "outputs": []
    },
    {
      "cell_type": "markdown",
      "source": [
        "### Visualize the Graph"
      ],
      "metadata": {
        "id": "06aXiEeiDmsg"
      }
    },
    {
      "cell_type": "code",
      "source": [
        "display(Image(graph.get_graph().draw_mermaid_png()))"
      ],
      "metadata": {
        "colab": {
          "base_uri": "https://localhost:8080/",
          "height": 392
        },
        "id": "AXLV21F4o3ks",
        "outputId": "0dbd13eb-2317-4178-b380-4b50a787b641"
      },
      "execution_count": 25,
      "outputs": [
        {
          "output_type": "display_data",
          "data": {
            "image/png": "[encoded data removed]",
            "text/plain": [
              "<IPython.core.display.Image object>"
            ]
          },
          "metadata": {}
        }
      ]
    },
    {
      "cell_type": "markdown",
      "source": [
        "### Invoke the Graph and say yes as parameter in runtime"
      ],
      "metadata": {
        "id": "JCzT3osADsp8"
      }
    },
    {
      "cell_type": "code",
      "source": [
        "for step in graph.stream(\n",
        "    {\"question\": \"How many employees are there?\"},\n",
        "    config,\n",
        "    stream_mode=\"updates\",\n",
        "):\n",
        "    print(step)\n",
        "\n",
        "try:\n",
        "    user_approval = input(\"Do you want to go to execute query? (yes/no): \")\n",
        "except Exception:\n",
        "    user_approval = \"no\"\n",
        "\n",
        "if user_approval.lower() == \"yes\":\n",
        "    # If approved, continue the graph execution\n",
        "    for step in graph.stream(None, config, stream_mode=\"updates\"):\n",
        "        print(step)\n",
        "else:\n",
        "    print(\"Operation cancelled by user.\")"
      ],
      "metadata": {
        "colab": {
          "base_uri": "https://localhost:8080/"
        },
        "id": "nkRSQE1Do6KM",
        "outputId": "bace8974-379d-4a1c-f042-29fdc71db501"
      },
      "execution_count": 26,
      "outputs": [
        {
          "output_type": "stream",
          "name": "stdout",
          "text": [
            "{'write_query': {'query': 'SELECT COUNT(*) AS NumberOfEmployees FROM Employee;'}}\n",
            "{'__interrupt__': ()}\n",
            "Do you want to go to execute query? (yes/no): yes\n",
            "{'execute_query': {'result': '[(8,)]'}}\n",
            "{'generate_answer': {'answer': 'There are 8 employees.'}}\n"
          ]
        }
      ]
    },
    {
      "cell_type": "markdown",
      "source": [
        "### Invoke the Graph and say no as parameter in runtime"
      ],
      "metadata": {
        "id": "fD5WmW60D4Am"
      }
    },
    {
      "cell_type": "code",
      "source": [
        "for step in graph.stream(\n",
        "    {\"question\": \"How many employees are there?\"},\n",
        "    config,\n",
        "    stream_mode=\"updates\",\n",
        "):\n",
        "    print(step)\n",
        "\n",
        "try:\n",
        "    user_approval = input(\"Do you want to go to execute query? (yes/no): \")\n",
        "except Exception:\n",
        "    user_approval = \"no\"\n",
        "\n",
        "if user_approval.lower() == \"yes\":\n",
        "    # If approved, continue the graph execution\n",
        "    for step in graph.stream(None, config, stream_mode=\"updates\"):\n",
        "        print(step)\n",
        "else:\n",
        "    print(\"Operation cancelled by user.\")"
      ],
      "metadata": {
        "colab": {
          "base_uri": "https://localhost:8080/"
        },
        "id": "jFF9fZR5g9Xc",
        "outputId": "6ad5dde6-883f-4311-b475-ca661288a583"
      },
      "execution_count": 27,
      "outputs": [
        {
          "output_type": "stream",
          "name": "stdout",
          "text": [
            "{'write_query': {'query': 'SELECT COUNT(*) AS EmployeeCount FROM Employee;'}}\n",
            "{'__interrupt__': ()}\n",
            "Do you want to go to execute query? (yes/no): no\n",
            "Operation cancelled by user.\n"
          ]
        }
      ]
    },
    {
      "cell_type": "markdown",
      "source": [
        "Observation : When you pass 'no' runtime , it will not execute the query and abort the operation , that's how you can control the execution"
      ],
      "metadata": {
        "id": "Vr_HzRwHD9Qm"
      }
    },
    {
      "cell_type": "markdown",
      "source": [
        "# 5. Define Agents to perform the same action\n",
        "\n",
        "Agents leverage the reasoning capabilities of LLMs to make decisions during execution. Using agents allows you to offload additional discretion over the query generation and execution process. Although their behavior is less predictable than the above \"chain\", they feature some advantages:\n",
        "\n",
        "a. They can query the database as many times as needed to answer the user question.\n",
        "\n",
        "b. They can recover from errors by running a generated query, catching the traceback and regenerating it correctly.\n",
        "\n",
        "c. They can answer questions based on the databases' schema as well as on the databases' content (like describing a specific table)."
      ],
      "metadata": {
        "id": "wbz_jtAFh4Ek"
      }
    },
    {
      "cell_type": "markdown",
      "source": [
        "### tools\n",
        "\n",
        "The SQLDatabaseToolkit typically provides tools like:\n",
        "\n",
        "QuerySQLDatabaseTool: To execute SQL queries against the database.\n",
        "ListTablesSQLDatabaseTool: To list the tables in the database.\n",
        "DescribeTableSQLDatabaseTool: To get information about a specific table's schema.\n",
        "These tools allow a LangChain agent to interact with a SQL database in a structured and controlled manner. The agent can use these tools to:\n",
        "\n",
        "Understand the database schema.\n",
        "Generate and execute SQL queries.\n",
        "Retrieve and process the results of queries.\n",
        "In summary:\n",
        "\n",
        "This code snippet creates an SQLDatabaseToolkit object, which provides a set of tools for interacting with a SQL database. It then retrieves these tools and displays them. This is a common step when you want to use a LangChain agent to interact with a database."
      ],
      "metadata": {
        "id": "cFVFWRD4ib1a"
      }
    },
    {
      "cell_type": "code",
      "source": [
        "from langchain_community.agent_toolkits import SQLDatabaseToolkit\n",
        "\n",
        "toolkit = SQLDatabaseToolkit(db=db, llm=llm)\n",
        "\n",
        "tools = toolkit.get_tools()\n",
        "\n",
        "tools"
      ],
      "metadata": {
        "colab": {
          "base_uri": "https://localhost:8080/"
        },
        "id": "RZM_qhkWo9A8",
        "outputId": "5cec21a0-b809-42ea-889f-ecf315946305"
      },
      "execution_count": 28,
      "outputs": [
        {
          "output_type": "execute_result",
          "data": {
            "text/plain": [
              "[QuerySQLDatabaseTool(description=\"Input to this tool is a detailed and correct SQL query, output is a result from the database. If the query is not correct, an error message will be returned. If an error is returned, rewrite the query, check the query, and try again. If you encounter an issue with Unknown column 'xxxx' in 'field list', use sql_db_schema to query the correct table fields.\", db=<langchain_community.utilities.sql_database.SQLDatabase object at 0x7a11ec0cb810>),\n",
              " InfoSQLDatabaseTool(description='Input to this tool is a comma-separated list of tables, output is the schema and sample rows for those tables. Be sure that the tables actually exist by calling sql_db_list_tables first! Example Input: table1, table2, table3', db=<langchain_community.utilities.sql_database.SQLDatabase object at 0x7a11ec0cb810>),\n",
              " ListSQLDatabaseTool(db=<langchain_community.utilities.sql_database.SQLDatabase object at 0x7a11ec0cb810>),\n",
              " QuerySQLCheckerTool(description='Use this tool to double check if your query is correct before executing it. Always use this tool before executing a query with sql_db_query!', db=<langchain_community.utilities.sql_database.SQLDatabase object at 0x7a11ec0cb810>, llm=ChatOpenAI(client=<openai.resources.chat.completions.Completions object at 0x7a11d6388dd0>, async_client=<openai.resources.chat.completions.AsyncCompletions object at 0x7a11d637f5d0>, root_client=<openai.OpenAI object at 0x7a11d7238f10>, root_async_client=<openai.AsyncOpenAI object at 0x7a11d6388790>, model_name='gpt-4o-mini', model_kwargs={}, openai_api_key=SecretStr('**********')), llm_chain=LLMChain(verbose=False, prompt=PromptTemplate(input_variables=['dialect', 'query'], input_types={}, partial_variables={}, template='\\n{query}\\nDouble check the {dialect} query above for common mistakes, including:\\n- Using NOT IN with NULL values\\n- Using UNION when UNION ALL should have been used\\n- Using BETWEEN for exclusive ranges\\n- Data type mismatch in predicates\\n- Properly quoting identifiers\\n- Using the correct number of arguments for functions\\n- Casting to the correct data type\\n- Using the proper columns for joins\\n\\nIf there are any of the above mistakes, rewrite the query. If there are no mistakes, just reproduce the original query.\\n\\nOutput the final SQL query only.\\n\\nSQL Query: '), llm=ChatOpenAI(client=<openai.resources.chat.completions.Completions object at 0x7a11d6388dd0>, async_client=<openai.resources.chat.completions.AsyncCompletions object at 0x7a11d637f5d0>, root_client=<openai.OpenAI object at 0x7a11d7238f10>, root_async_client=<openai.AsyncOpenAI object at 0x7a11d6388790>, model_name='gpt-4o-mini', model_kwargs={}, openai_api_key=SecretStr('**********')), output_parser=StrOutputParser(), llm_kwargs={}))]"
            ]
          },
          "metadata": {},
          "execution_count": 28
        }
      ]
    },
    {
      "cell_type": "markdown",
      "source": [
        "### Reuse a Prompt template defined in Hub"
      ],
      "metadata": {
        "id": "M98_Mwe3irWw"
      }
    },
    {
      "cell_type": "code",
      "source": [
        "from langchain import hub\n",
        "\n",
        "prompt_template = hub.pull(\"langchain-ai/sql-agent-system-prompt\")\n",
        "\n",
        "assert len(prompt_template.messages) == 1\n",
        "prompt_template.messages[0].pretty_print()"
      ],
      "metadata": {
        "colab": {
          "base_uri": "https://localhost:8080/"
        },
        "id": "uJtdEylzq-1i",
        "outputId": "cb11a84e-3f7e-4ade-b678-7349185dd4f4"
      },
      "execution_count": 29,
      "outputs": [
        {
          "output_type": "stream",
          "name": "stdout",
          "text": [
            "================================\u001b[1m System Message \u001b[0m================================\n",
            "\n",
            "You are an agent designed to interact with a SQL database.\n",
            "Given an input question, create a syntactically correct \u001b[33;1m\u001b[1;3m{dialect}\u001b[0m query to run, then look at the results of the query and return the answer.\n",
            "Unless the user specifies a specific number of examples they wish to obtain, always limit your query to at most \u001b[33;1m\u001b[1;3m{top_k}\u001b[0m results.\n",
            "You can order the results by a relevant column to return the most interesting examples in the database.\n",
            "Never query for all the columns from a specific table, only ask for the relevant columns given the question.\n",
            "You have access to tools for interacting with the database.\n",
            "Only use the below tools. Only use the information returned by the below tools to construct your final answer.\n",
            "You MUST double check your query before executing it. If you get an error while executing a query, rewrite the query and try again.\n",
            "\n",
            "DO NOT make any DML statements (INSERT, UPDATE, DELETE, DROP etc.) to the database.\n",
            "\n",
            "To start you should ALWAYS look at the tables in the database to see what you can query.\n",
            "Do NOT skip this step.\n",
            "Then you should query the schema of the most relevant tables.\n"
          ]
        }
      ]
    },
    {
      "cell_type": "code",
      "source": [
        "system_message = prompt_template.format(dialect=\"SQLite\", top_k=5)"
      ],
      "metadata": {
        "id": "9M6D59SnrCFa"
      },
      "execution_count": 30,
      "outputs": []
    },
    {
      "cell_type": "markdown",
      "source": [
        "### Initializing the agent"
      ],
      "metadata": {
        "id": "P1d56m2jjIpC"
      }
    },
    {
      "cell_type": "code",
      "source": [
        "from langchain_core.messages import HumanMessage\n",
        "from langgraph.prebuilt import create_react_agent\n",
        "\n",
        "agent_executor = create_react_agent(llm, tools, prompt=system_message)"
      ],
      "metadata": {
        "id": "HeJ0xrQNrE32"
      },
      "execution_count": 32,
      "outputs": []
    },
    {
      "cell_type": "markdown",
      "source": [
        "### Invoking the agent"
      ],
      "metadata": {
        "id": "eIWcXsHFGNID"
      }
    },
    {
      "cell_type": "markdown",
      "source": [
        "Query 1 : Expecting Quantitative output"
      ],
      "metadata": {
        "id": "SfbtOFR1jgoU"
      }
    },
    {
      "cell_type": "code",
      "source": [
        "question = \"Which country's customers spent the most?\"\n",
        "\n",
        "for step in agent_executor.stream(\n",
        "    {\"messages\": [{\"role\": \"user\", \"content\": question}]},\n",
        "    stream_mode=\"values\",\n",
        "):\n",
        "    step[\"messages\"][-1].pretty_print()"
      ],
      "metadata": {
        "colab": {
          "base_uri": "https://localhost:8080/"
        },
        "id": "j0SAT6DMrHGN",
        "outputId": "90d8dc9d-9d3f-4f90-e7d5-b6d4cf41068d"
      },
      "execution_count": 33,
      "outputs": [
        {
          "output_type": "stream",
          "name": "stdout",
          "text": [
            "================================\u001b[1m Human Message \u001b[0m=================================\n",
            "\n",
            "Which country's customers spent the most?\n",
            "==================================\u001b[1m Ai Message \u001b[0m==================================\n",
            "Tool Calls:\n",
            "  sql_db_list_tables (call_zHVGdVEy1gYyFTtMPfjsTe8Y)\n",
            " Call ID: call_zHVGdVEy1gYyFTtMPfjsTe8Y\n",
            "  Args:\n",
            "=================================\u001b[1m Tool Message \u001b[0m=================================\n",
            "Name: sql_db_list_tables\n",
            "\n",
            "Album, Artist, Customer, Employee, Genre, Invoice, InvoiceLine, MediaType, Playlist, PlaylistTrack, Track\n",
            "==================================\u001b[1m Ai Message \u001b[0m==================================\n",
            "Tool Calls:\n",
            "  sql_db_schema (call_mxJ2ojNdESiGDlt76v8kgrrz)\n",
            " Call ID: call_mxJ2ojNdESiGDlt76v8kgrrz\n",
            "  Args:\n",
            "    table_names: Customer\n",
            "  sql_db_schema (call_96Zu1tY7P4dGfPhGzBG9E4tc)\n",
            " Call ID: call_96Zu1tY7P4dGfPhGzBG9E4tc\n",
            "  Args:\n",
            "    table_names: Invoice\n",
            "  sql_db_schema (call_EbBpBlKMt8ZGcAuH2oTpO2KC)\n",
            " Call ID: call_EbBpBlKMt8ZGcAuH2oTpO2KC\n",
            "  Args:\n",
            "    table_names: InvoiceLine\n",
            "=================================\u001b[1m Tool Message \u001b[0m=================================\n",
            "Name: sql_db_schema\n",
            "\n",
            "\n",
            "CREATE TABLE \"InvoiceLine\" (\n",
            "\t\"InvoiceLineId\" INTEGER NOT NULL, \n",
            "\t\"InvoiceId\" INTEGER NOT NULL, \n",
            "\t\"TrackId\" INTEGER NOT NULL, \n",
            "\t\"UnitPrice\" NUMERIC(10, 2) NOT NULL, \n",
            "\t\"Quantity\" INTEGER NOT NULL, \n",
            "\tPRIMARY KEY (\"InvoiceLineId\"), \n",
            "\tFOREIGN KEY(\"TrackId\") REFERENCES \"Track\" (\"TrackId\"), \n",
            "\tFOREIGN KEY(\"InvoiceId\") REFERENCES \"Invoice\" (\"InvoiceId\")\n",
            ")\n",
            "\n",
            "/*\n",
            "3 rows from InvoiceLine table:\n",
            "InvoiceLineId\tInvoiceId\tTrackId\tUnitPrice\tQuantity\n",
            "1\t1\t2\t0.99\t1\n",
            "2\t1\t4\t0.99\t1\n",
            "3\t2\t6\t0.99\t1\n",
            "*/\n",
            "==================================\u001b[1m Ai Message \u001b[0m==================================\n",
            "Tool Calls:\n",
            "  sql_db_query_checker (call_4rILDDOkGmACj7SBEIEc82eb)\n",
            " Call ID: call_4rILDDOkGmACj7SBEIEc82eb\n",
            "  Args:\n",
            "    query: SELECT c.Country, SUM(i.Total) AS TotalSpent \n",
            "FROM Customer c \n",
            "JOIN Invoice i ON c.CustomerId = i.CustomerId \n",
            "GROUP BY c.Country \n",
            "ORDER BY TotalSpent DESC \n",
            "LIMIT 5;\n",
            "=================================\u001b[1m Tool Message \u001b[0m=================================\n",
            "Name: sql_db_query_checker\n",
            "\n",
            "```sql\n",
            "SELECT c.Country, SUM(i.Total) AS TotalSpent \n",
            "FROM Customer c \n",
            "JOIN Invoice i ON c.CustomerId = i.CustomerId \n",
            "GROUP BY c.Country \n",
            "ORDER BY TotalSpent DESC \n",
            "LIMIT 5;\n",
            "```\n",
            "==================================\u001b[1m Ai Message \u001b[0m==================================\n",
            "Tool Calls:\n",
            "  sql_db_query (call_Lm4l87F5JZHPHOkVxOLKnVVi)\n",
            " Call ID: call_Lm4l87F5JZHPHOkVxOLKnVVi\n",
            "  Args:\n",
            "    query: SELECT c.Country, SUM(i.Total) AS TotalSpent \n",
            "FROM Customer c \n",
            "JOIN Invoice i ON c.CustomerId = i.CustomerId \n",
            "GROUP BY c.Country \n",
            "ORDER BY TotalSpent DESC \n",
            "LIMIT 5;\n",
            "=================================\u001b[1m Tool Message \u001b[0m=================================\n",
            "Name: sql_db_query\n",
            "\n",
            "[('USA', 523.0600000000003), ('Canada', 303.9599999999999), ('France', 195.09999999999994), ('Brazil', 190.09999999999997), ('Germany', 156.48)]\n",
            "==================================\u001b[1m Ai Message \u001b[0m==================================\n",
            "\n",
            "The countries whose customers spent the most are:\n",
            "\n",
            "1. **USA** - $523.06\n",
            "2. **Canada** - $303.96\n",
            "3. **France** - $195.10\n",
            "4. **Brazil** - $190.10\n",
            "5. **Germany** - $156.48\n"
          ]
        }
      ]
    },
    {
      "cell_type": "markdown",
      "source": [
        "## Output explanation\n",
        "\n",
        "Note that the agent executes multiple queries until it has the information it needs:\n",
        "\n",
        "1. List available tables\n",
        "2. Retrieves the schema for three tables\n",
        "3. Queries multiple of the tables via a join operation.\n",
        "\n",
        "The agent is then able to use the result of the final query to generate an answer to the original question.\n"
      ],
      "metadata": {
        "id": "u0wd7mwokF6-"
      }
    },
    {
      "cell_type": "markdown",
      "source": [
        "This output demonstrates the execution of a LangChain agent designed to answer questions about a SQL database, specifically the Chinook database, using a series of tools. Let's break down the process step by step:\n",
        "\n",
        "1. User Question:\n",
        "\n",
        "================================ Human Message =================================\n",
        "\n",
        "Which country's customers spent the most?\n",
        "\n",
        "The user initiates the conversation by asking a question that requires information from the database.\n",
        "\n",
        "2. Agent's Tool Selection (List Tables):\n",
        "\n",
        "================================== Ai Message ==================================\n",
        "Tool Calls:\n",
        "  sql_db_list_tables (call_zHVGdVEy1gYyFTtMPfjsTe8Y)\n",
        " Call ID: call_zHVGdVEy1gYyFTtMPfjsTe8Y\n",
        "  Args:\n",
        "\n",
        "The agent begins by using the sql_db_list_tables tool. This is a common first step for an agent interacting with a database, as it needs to understand the available tables.\n",
        "\n",
        "3. Tool Output (List Tables):\n",
        "\n",
        "================================= Tool Message =================================\n",
        "Name: sql_db_list_tables\n",
        "\n",
        "Album, Artist, Customer, Employee, Genre, Invoice, InvoiceLine, MediaType, Playlist, PlaylistTrack, Track\n",
        "\n",
        "The sql_db_list_tables tool returns a list of table names in the Chinook database.\n",
        "\n",
        "4. Agent's Tool Selection (Schema Inspection):\n",
        "\n",
        "================================== Ai Message ==================================\n",
        "Tool Calls:\n",
        "  sql_db_schema (call_mxJ2ojNdESiGDlt76v8kgrrz)\n",
        " Call ID: call_mxJ2ojNdESiGDlt76v8kgrrz\n",
        "  Args:\n",
        "    table_names: Customer\n",
        "  sql_db_schema (call_96Zu1tY7P4dGfPhGzBG9E4tc)\n",
        " Call ID: call_96Zu1tY7P4dGfPhGzBG9E4tc\n",
        "  Args:\n",
        "    table_names: Invoice\n",
        "  sql_db_schema (call_EbBpBlKMt8ZGcAuH2oTpO2KC)\n",
        " Call ID: call_EbBpBlKMt8ZGcAuH2oTpO2KC\n",
        "  Args:\n",
        "    table_names: InvoiceLine\n",
        "\n",
        "The agent then uses the sql_db_schema tool to inspect the schemas of the Customer, Invoice, and InvoiceLine tables. This is crucial for understanding the relationships between tables and the available columns.\n",
        "\n",
        "5. Tool Output (Schema Inspection):\n",
        "\n",
        "================================= Tool Message =================================\n",
        "Name: sql_db_schema\n",
        "\n",
        "\n",
        "CREATE TABLE \"InvoiceLine\" (\n",
        "        \"InvoiceLineId\" INTEGER NOT NULL,\n",
        "        \"InvoiceId\" INTEGER NOT NULL,\n",
        "        \"TrackId\" INTEGER NOT NULL,\n",
        "        \"UnitPrice\" NUMERIC(10, 2) NOT NULL,\n",
        "        \"Quantity\" INTEGER NOT NULL,\n",
        "        PRIMARY KEY (\"InvoiceLineId\"),\n",
        "        FOREIGN KEY(\"TrackId\") REFERENCES \"Track\" (\"TrackId\"),\n",
        "        FOREIGN KEY(\"InvoiceId\") REFERENCES \"Invoice\" (\"InvoiceId\")\n",
        ")\n",
        "\n",
        "/*\n",
        "3 rows from InvoiceLine table:\n",
        "InvoiceLineId       InvoiceId       TrackId UnitPrice       Quantity\n",
        "1       1       2       0.99    1\n",
        "2       1       4       0.99    1\n",
        "3       2       6       0.99    1\n",
        "*/\n",
        "\n",
        "The tool returns the schema definition for the InvoiceLine table. This shows the columns, data types, primary keys, and foreign keys. The agent receives similar schema information for the other requested tables.\n",
        "\n",
        "6. Agent's Tool Selection (Query Checker):\n",
        "\n",
        "================================== Ai Message ==================================\n",
        "Tool Calls:\n",
        "  sql_db_query_checker (call_4rILDDOkGmACj7SBEIEc82eb)\n",
        " Call ID: call_4rILDDOkGmACj7SBEIEc82eb\n",
        "  Args:\n",
        "    query: SELECT c.Country, SUM(i.Total) AS TotalSpent\n",
        "FROM Customer c\n",
        "JOIN Invoice i ON c.CustomerId = i.CustomerId\n",
        "GROUP BY c.Country\n",
        "ORDER BY TotalSpent DESC\n",
        "LIMIT 5;\n",
        "\n",
        "The agent uses the sql_db_query_checker tool to validate the generated SQL query. This is a safety measure to prevent potentially harmful or incorrect queries from being executed.\n",
        "\n",
        "7. Tool Output (Query Checker):\n",
        "\n",
        "================================= Tool Message =================================\n",
        "Name: sql_db_query_checker\n",
        "\n",
        "```sql\n",
        "SELECT c.Country, SUM(i.Total) AS TotalSpent\n",
        "FROM Customer c\n",
        "JOIN Invoice i ON c.CustomerId = i.CustomerId\n",
        "GROUP BY c.Country\n",
        "ORDER BY TotalSpent DESC\n",
        "LIMIT 5;\n",
        "\n",
        "The tool returns the validated SQL query.\n",
        "\n",
        "8. Agent's Tool Selection (Execute Query):\n",
        "\n",
        "================================== Ai Message ==================================\n",
        "Tool Calls:\n",
        "  sql_db_query (call_Lm4l87F5JZHPHOkVxOLKnVVi)\n",
        " Call ID: call_Lm4l87F5JZHPHOkVxOLKnVVi\n",
        "  Args:\n",
        "    query: SELECT c.Country, SUM(i.Total) AS TotalSpent\n",
        "FROM Customer c\n",
        "JOIN Invoice i ON c.CustomerId = i.CustomerId\n",
        "GROUP BY c.Country\n",
        "ORDER BY TotalSpent DESC\n",
        "LIMIT 5;\n",
        "\n",
        "The agent executes the validated SQL query using the sql_db_query tool.\n",
        "\n",
        "9. Tool Output (Execute Query):\n",
        "\n",
        "================================= Tool Message =================================\n",
        "Name: sql_db_query\n",
        "\n",
        "[('USA', 523.0600000000003), ('Canada', 303.9599999999999), ('France', 195.09999999999994), ('Brazil', 190.09999999999997), ('Germany', 156.48)]\n",
        "The tool returns the results of the SQL query, which are the countries and their total spending.\n",
        "\n",
        "10. Agent's Final Answer:\n",
        "\n",
        "================================== Ai Message ==================================\n",
        "\n",
        "The countries whose customers spent the most are:\n",
        "\n",
        "1. **USA** - $523.06\n",
        "2. **Canada** - $303.96\n",
        "3. **France** - $195.10\n",
        "4. **Brazil** - $190.10\n",
        "5. **Germany** - $156.48\n",
        "\n",
        "The agent formats the results of the query into a natural language answer and presents it to the user.\n",
        "\n",
        "Summary:\n",
        "\n",
        "This output demonstrates the step-by-step process of a LangChain agent interacting with a SQL database to answer a user's question. The agent uses a series of tools to:\n",
        "\n",
        "1. Understand the database schema.\n",
        "2. Generate and validate an SQL query.\n",
        "3. Execute the query.\n",
        "4. Format the results into a natural language answer."
      ],
      "metadata": {
        "id": "Dk9x2uJoHUtR"
      }
    },
    {
      "cell_type": "markdown",
      "source": [
        "Query 2 : Expecting Qualitative output"
      ],
      "metadata": {
        "id": "o9THKT7kkWAf"
      }
    },
    {
      "cell_type": "code",
      "source": [
        "question = \"Describe the playlisttrack table\"\n",
        "\n",
        "for step in agent_executor.stream(\n",
        "    {\"messages\": [{\"role\": \"user\", \"content\": question}]},\n",
        "    stream_mode=\"values\",\n",
        "):\n",
        "    step[\"messages\"][-1].pretty_print()"
      ],
      "metadata": {
        "colab": {
          "base_uri": "https://localhost:8080/"
        },
        "id": "XnwkrJ64rJuB",
        "outputId": "53901178-5a6f-4bdb-f9c3-d89525f4d7c7"
      },
      "execution_count": 34,
      "outputs": [
        {
          "output_type": "stream",
          "name": "stdout",
          "text": [
            "================================\u001b[1m Human Message \u001b[0m=================================\n",
            "\n",
            "Describe the playlisttrack table\n",
            "==================================\u001b[1m Ai Message \u001b[0m==================================\n",
            "Tool Calls:\n",
            "  sql_db_list_tables (call_XMmJLUo6sjlLKgmd8yQAdzMY)\n",
            " Call ID: call_XMmJLUo6sjlLKgmd8yQAdzMY\n",
            "  Args:\n",
            "=================================\u001b[1m Tool Message \u001b[0m=================================\n",
            "Name: sql_db_list_tables\n",
            "\n",
            "Album, Artist, Customer, Employee, Genre, Invoice, InvoiceLine, MediaType, Playlist, PlaylistTrack, Track\n",
            "==================================\u001b[1m Ai Message \u001b[0m==================================\n",
            "Tool Calls:\n",
            "  sql_db_schema (call_TeeBQIF2z9xvP0ngptmk1hIP)\n",
            " Call ID: call_TeeBQIF2z9xvP0ngptmk1hIP\n",
            "  Args:\n",
            "    table_names: PlaylistTrack\n",
            "=================================\u001b[1m Tool Message \u001b[0m=================================\n",
            "Name: sql_db_schema\n",
            "\n",
            "\n",
            "CREATE TABLE \"PlaylistTrack\" (\n",
            "\t\"PlaylistId\" INTEGER NOT NULL, \n",
            "\t\"TrackId\" INTEGER NOT NULL, \n",
            "\tPRIMARY KEY (\"PlaylistId\", \"TrackId\"), \n",
            "\tFOREIGN KEY(\"TrackId\") REFERENCES \"Track\" (\"TrackId\"), \n",
            "\tFOREIGN KEY(\"PlaylistId\") REFERENCES \"Playlist\" (\"PlaylistId\")\n",
            ")\n",
            "\n",
            "/*\n",
            "3 rows from PlaylistTrack table:\n",
            "PlaylistId\tTrackId\n",
            "1\t3402\n",
            "1\t3389\n",
            "1\t3390\n",
            "*/\n",
            "==================================\u001b[1m Ai Message \u001b[0m==================================\n",
            "\n",
            "The `PlaylistTrack` table is designed to manage the relationship between playlists and tracks. Here are the details:\n",
            "\n",
            "- **Columns**:\n",
            "  - `PlaylistId`: An integer that references the identifier of a playlist. It is part of the primary key.\n",
            "  - `TrackId`: An integer that references the identifier of a track. It is also part of the primary key.\n",
            "\n",
            "- **Primary Key**: The combination of `PlaylistId` and `TrackId` serves as the primary key for the table, ensuring that each entry is unique for a particular playlist and track combination.\n",
            "\n",
            "- **Foreign Keys**:\n",
            "  - `TrackId` is a foreign key that references the `TrackId` in the `Track` table.\n",
            "  - `PlaylistId` is a foreign key that references the `PlaylistId` in the `Playlist` table.\n",
            "\n",
            "### Sample Data:\n",
            "Here are a few example rows from the `PlaylistTrack` table:\n",
            "```\n",
            "PlaylistId  TrackId\n",
            "1           3402\n",
            "1           3389\n",
            "1           3390\n",
            "``` \n",
            "\n",
            "This structure allows for multiple tracks to be associated with a single playlist.\n"
          ]
        }
      ]
    },
    {
      "cell_type": "markdown",
      "source": [
        "Query 3"
      ],
      "metadata": {
        "id": "OkNhDkz8kvki"
      }
    },
    {
      "cell_type": "code",
      "source": [
        "question = \"Which city's customers spent the most?\"\n",
        "\n",
        "for step in agent_executor.stream(\n",
        "    {\"messages\": [{\"role\": \"user\", \"content\": question}]},\n",
        "    stream_mode=\"values\",\n",
        "):\n",
        "    step[\"messages\"][-1].pretty_print()"
      ],
      "metadata": {
        "colab": {
          "base_uri": "https://localhost:8080/"
        },
        "id": "0cbqKmW7s0RI",
        "outputId": "e773924e-f2f9-4ea9-c59c-3345d5826b8b"
      },
      "execution_count": 35,
      "outputs": [
        {
          "output_type": "stream",
          "name": "stdout",
          "text": [
            "================================\u001b[1m Human Message \u001b[0m=================================\n",
            "\n",
            "Which city's customers spent the most?\n",
            "==================================\u001b[1m Ai Message \u001b[0m==================================\n",
            "Tool Calls:\n",
            "  sql_db_list_tables (call_u9Vl15FYPBoApHmJy7D410ET)\n",
            " Call ID: call_u9Vl15FYPBoApHmJy7D410ET\n",
            "  Args:\n",
            "=================================\u001b[1m Tool Message \u001b[0m=================================\n",
            "Name: sql_db_list_tables\n",
            "\n",
            "Album, Artist, Customer, Employee, Genre, Invoice, InvoiceLine, MediaType, Playlist, PlaylistTrack, Track\n",
            "==================================\u001b[1m Ai Message \u001b[0m==================================\n",
            "Tool Calls:\n",
            "  sql_db_schema (call_LX14hyf0T0hrKPaTmgdNS2jy)\n",
            " Call ID: call_LX14hyf0T0hrKPaTmgdNS2jy\n",
            "  Args:\n",
            "    table_names: Customer\n",
            "  sql_db_schema (call_pHqPkZoUHfwjcMD8eKArVEsz)\n",
            " Call ID: call_pHqPkZoUHfwjcMD8eKArVEsz\n",
            "  Args:\n",
            "    table_names: Invoice\n",
            "  sql_db_schema (call_5hp5B1KJmZ8Hc4XrQmMsFzMN)\n",
            " Call ID: call_5hp5B1KJmZ8Hc4XrQmMsFzMN\n",
            "  Args:\n",
            "    table_names: InvoiceLine\n",
            "=================================\u001b[1m Tool Message \u001b[0m=================================\n",
            "Name: sql_db_schema\n",
            "\n",
            "\n",
            "CREATE TABLE \"InvoiceLine\" (\n",
            "\t\"InvoiceLineId\" INTEGER NOT NULL, \n",
            "\t\"InvoiceId\" INTEGER NOT NULL, \n",
            "\t\"TrackId\" INTEGER NOT NULL, \n",
            "\t\"UnitPrice\" NUMERIC(10, 2) NOT NULL, \n",
            "\t\"Quantity\" INTEGER NOT NULL, \n",
            "\tPRIMARY KEY (\"InvoiceLineId\"), \n",
            "\tFOREIGN KEY(\"TrackId\") REFERENCES \"Track\" (\"TrackId\"), \n",
            "\tFOREIGN KEY(\"InvoiceId\") REFERENCES \"Invoice\" (\"InvoiceId\")\n",
            ")\n",
            "\n",
            "/*\n",
            "3 rows from InvoiceLine table:\n",
            "InvoiceLineId\tInvoiceId\tTrackId\tUnitPrice\tQuantity\n",
            "1\t1\t2\t0.99\t1\n",
            "2\t1\t4\t0.99\t1\n",
            "3\t2\t6\t0.99\t1\n",
            "*/\n",
            "==================================\u001b[1m Ai Message \u001b[0m==================================\n",
            "Tool Calls:\n",
            "  sql_db_query (call_nBM9E9cV2dflUVkDO0Sutlrw)\n",
            " Call ID: call_nBM9E9cV2dflUVkDO0Sutlrw\n",
            "  Args:\n",
            "    query: SELECT c.City, SUM(i.Total) AS TotalSpent \\nFROM Customer c \\nJOIN Invoice i ON c.CustomerId = i.CustomerId \\nGROUP BY c.City \\nORDER BY TotalSpent DESC \\nLIMIT 5;\n",
            "=================================\u001b[1m Tool Message \u001b[0m=================================\n",
            "Name: sql_db_query\n",
            "\n",
            "Error: (sqlite3.OperationalError) unrecognized token: \"\\\"\n",
            "[SQL: SELECT c.City, SUM(i.Total) AS TotalSpent \\nFROM Customer c \\nJOIN Invoice i ON c.CustomerId = i.CustomerId \\nGROUP BY c.City \\nORDER BY TotalSpent DESC \\nLIMIT 5;]\n",
            "(Background on this error at: https://sqlalche.me/e/20/e3q8)\n",
            "==================================\u001b[1m Ai Message \u001b[0m==================================\n",
            "Tool Calls:\n",
            "  sql_db_query_checker (call_fwtxEZ5a4EVqfAb6ni6WNXgd)\n",
            " Call ID: call_fwtxEZ5a4EVqfAb6ni6WNXgd\n",
            "  Args:\n",
            "    query: SELECT c.City, SUM(i.Total) AS TotalSpent \n",
            "FROM Customer c \n",
            "JOIN Invoice i ON c.CustomerId = i.CustomerId \n",
            "GROUP BY c.City \n",
            "ORDER BY TotalSpent DESC \n",
            "LIMIT 5;\n",
            "=================================\u001b[1m Tool Message \u001b[0m=================================\n",
            "Name: sql_db_query_checker\n",
            "\n",
            "```sql\n",
            "SELECT c.City, SUM(i.Total) AS TotalSpent \n",
            "FROM Customer c \n",
            "JOIN Invoice i ON c.CustomerId = i.CustomerId \n",
            "GROUP BY c.City \n",
            "ORDER BY TotalSpent DESC \n",
            "LIMIT 5;\n",
            "```\n",
            "==================================\u001b[1m Ai Message \u001b[0m==================================\n",
            "Tool Calls:\n",
            "  sql_db_query (call_TUrsAv68dXBFWPjEXCHh41Ib)\n",
            " Call ID: call_TUrsAv68dXBFWPjEXCHh41Ib\n",
            "  Args:\n",
            "    query: SELECT c.City, SUM(i.Total) AS TotalSpent \\nFROM Customer c \\nJOIN Invoice i ON c.CustomerId = i.CustomerId \\nGROUP BY c.City \\nORDER BY TotalSpent DESC \\nLIMIT 5;\n",
            "=================================\u001b[1m Tool Message \u001b[0m=================================\n",
            "Name: sql_db_query\n",
            "\n",
            "Error: (sqlite3.OperationalError) unrecognized token: \"\\\"\n",
            "[SQL: SELECT c.City, SUM(i.Total) AS TotalSpent \\nFROM Customer c \\nJOIN Invoice i ON c.CustomerId = i.CustomerId \\nGROUP BY c.City \\nORDER BY TotalSpent DESC \\nLIMIT 5;]\n",
            "(Background on this error at: https://sqlalche.me/e/20/e3q8)\n",
            "==================================\u001b[1m Ai Message \u001b[0m==================================\n",
            "Tool Calls:\n",
            "  sql_db_query (call_HOKlZ5PhiRCNcBT778TBGwu4)\n",
            " Call ID: call_HOKlZ5PhiRCNcBT778TBGwu4\n",
            "  Args:\n",
            "    query: SELECT c.City, SUM(i.Total) AS TotalSpent FROM Customer c JOIN Invoice i ON c.CustomerId = i.CustomerId GROUP BY c.City ORDER BY TotalSpent DESC LIMIT 5;\n",
            "=================================\u001b[1m Tool Message \u001b[0m=================================\n",
            "Name: sql_db_query\n",
            "\n",
            "[('Prague', 90.24000000000001), ('Paris', 77.24), ('Mountain View', 77.23999999999998), ('Berlin', 75.24), ('São Paulo', 75.23999999999998)]\n",
            "==================================\u001b[1m Ai Message \u001b[0m==================================\n",
            "\n",
            "The cities with the highest customer spending are:\n",
            "\n",
            "1. **Prague** - $90.24\n",
            "2. **Paris** - $77.24\n",
            "3. **Mountain View** - $77.24\n",
            "4. **Berlin** - $75.24\n",
            "5. **São Paulo** - $75.24\n"
          ]
        }
      ]
    },
    {
      "cell_type": "markdown",
      "source": [
        "Query 4"
      ],
      "metadata": {
        "id": "Vvyf7IVSlelA"
      }
    },
    {
      "cell_type": "code",
      "source": [
        "question = \"Total number of unique customers we have?\"\n",
        "\n",
        "for step in agent_executor.stream(\n",
        "    {\"messages\": [{\"role\": \"user\", \"content\": question}]},\n",
        "    stream_mode=\"values\",\n",
        "):\n",
        "    step[\"messages\"][-1].pretty_print()"
      ],
      "metadata": {
        "colab": {
          "base_uri": "https://localhost:8080/"
        },
        "id": "E1g2nTrSlV5_",
        "outputId": "3f1bacf4-6506-4d1a-8d6f-f3bebca70542"
      },
      "execution_count": 36,
      "outputs": [
        {
          "output_type": "stream",
          "name": "stdout",
          "text": [
            "================================\u001b[1m Human Message \u001b[0m=================================\n",
            "\n",
            "Total number of unique customers we have?\n",
            "==================================\u001b[1m Ai Message \u001b[0m==================================\n",
            "Tool Calls:\n",
            "  sql_db_list_tables (call_L8BgG6llDR2hDB8rcyiqfTrW)\n",
            " Call ID: call_L8BgG6llDR2hDB8rcyiqfTrW\n",
            "  Args:\n",
            "=================================\u001b[1m Tool Message \u001b[0m=================================\n",
            "Name: sql_db_list_tables\n",
            "\n",
            "Album, Artist, Customer, Employee, Genre, Invoice, InvoiceLine, MediaType, Playlist, PlaylistTrack, Track\n",
            "==================================\u001b[1m Ai Message \u001b[0m==================================\n",
            "Tool Calls:\n",
            "  sql_db_schema (call_u7df4QWmDiOMxLVc5s9z1sks)\n",
            " Call ID: call_u7df4QWmDiOMxLVc5s9z1sks\n",
            "  Args:\n",
            "    table_names: Customer\n",
            "=================================\u001b[1m Tool Message \u001b[0m=================================\n",
            "Name: sql_db_schema\n",
            "\n",
            "\n",
            "CREATE TABLE \"Customer\" (\n",
            "\t\"CustomerId\" INTEGER NOT NULL, \n",
            "\t\"FirstName\" NVARCHAR(40) NOT NULL, \n",
            "\t\"LastName\" NVARCHAR(20) NOT NULL, \n",
            "\t\"Company\" NVARCHAR(80), \n",
            "\t\"Address\" NVARCHAR(70), \n",
            "\t\"City\" NVARCHAR(40), \n",
            "\t\"State\" NVARCHAR(40), \n",
            "\t\"Country\" NVARCHAR(40), \n",
            "\t\"PostalCode\" NVARCHAR(10), \n",
            "\t\"Phone\" NVARCHAR(24), \n",
            "\t\"Fax\" NVARCHAR(24), \n",
            "\t\"Email\" NVARCHAR(60) NOT NULL, \n",
            "\t\"SupportRepId\" INTEGER, \n",
            "\tPRIMARY KEY (\"CustomerId\"), \n",
            "\tFOREIGN KEY(\"SupportRepId\") REFERENCES \"Employee\" (\"EmployeeId\")\n",
            ")\n",
            "\n",
            "/*\n",
            "3 rows from Customer table:\n",
            "CustomerId\tFirstName\tLastName\tCompany\tAddress\tCity\tState\tCountry\tPostalCode\tPhone\tFax\tEmail\tSupportRepId\n",
            "1\tLuís\tGonçalves\tEmbraer - Empresa Brasileira de Aeronáutica S.A.\tAv. Brigadeiro Faria Lima, 2170\tSão José dos Campos\tSP\tBrazil\t12227-000\t+55 (12) 3923-5555\t+55 (12) 3923-5566\tluisg@embraer.com.br\t3\n",
            "2\tLeonie\tKöhler\tNone\tTheodor-Heuss-Straße 34\tStuttgart\tNone\tGermany\t70174\t+49 0711 2842222\tNone\tleonekohler@surfeu.de\t5\n",
            "3\tFrançois\tTremblay\tNone\t1498 rue Bélanger\tMontréal\tQC\tCanada\tH2G 1A7\t+1 (514) 721-4711\tNone\tftremblay@gmail.com\t3\n",
            "*/\n",
            "==================================\u001b[1m Ai Message \u001b[0m==================================\n",
            "Tool Calls:\n",
            "  sql_db_query_checker (call_K4SIsPdvys4J4PZtDhkbVH3G)\n",
            " Call ID: call_K4SIsPdvys4J4PZtDhkbVH3G\n",
            "  Args:\n",
            "    query: SELECT COUNT(DISTINCT CustomerId) AS UniqueCustomers FROM Customer\n",
            "=================================\u001b[1m Tool Message \u001b[0m=================================\n",
            "Name: sql_db_query_checker\n",
            "\n",
            "```sql\n",
            "SELECT COUNT(DISTINCT CustomerId) AS UniqueCustomers FROM Customer\n",
            "```\n",
            "==================================\u001b[1m Ai Message \u001b[0m==================================\n",
            "Tool Calls:\n",
            "  sql_db_query (call_J8KxGFBRB1MpSkihXsns6hUc)\n",
            " Call ID: call_J8KxGFBRB1MpSkihXsns6hUc\n",
            "  Args:\n",
            "    query: SELECT COUNT(DISTINCT CustomerId) AS UniqueCustomers FROM Customer\n",
            "=================================\u001b[1m Tool Message \u001b[0m=================================\n",
            "Name: sql_db_query\n",
            "\n",
            "[(59,)]\n",
            "==================================\u001b[1m Ai Message \u001b[0m==================================\n",
            "\n",
            "The total number of unique customers is 59.\n"
          ]
        }
      ]
    },
    {
      "cell_type": "markdown",
      "source": [
        "Query 5"
      ],
      "metadata": {
        "id": "iCqX8Q_0l0Ko"
      }
    },
    {
      "cell_type": "code",
      "source": [
        "question = \"Total number of unique genre's  we have?\"\n",
        "\n",
        "for step in agent_executor.stream(\n",
        "    {\"messages\": [{\"role\": \"user\", \"content\": question}]},\n",
        "    stream_mode=\"values\",\n",
        "):\n",
        "    step[\"messages\"][-1].pretty_print()"
      ],
      "metadata": {
        "colab": {
          "base_uri": "https://localhost:8080/"
        },
        "id": "wXlOtmMCl27D",
        "outputId": "cc1aa303-a5f0-46c1-d9fb-db9a542b9d26"
      },
      "execution_count": 37,
      "outputs": [
        {
          "output_type": "stream",
          "name": "stdout",
          "text": [
            "================================\u001b[1m Human Message \u001b[0m=================================\n",
            "\n",
            "Total number of unique genre's  we have?\n",
            "==================================\u001b[1m Ai Message \u001b[0m==================================\n",
            "Tool Calls:\n",
            "  sql_db_list_tables (call_O6sdkvXY00iYRA1lhqylBwkZ)\n",
            " Call ID: call_O6sdkvXY00iYRA1lhqylBwkZ\n",
            "  Args:\n",
            "=================================\u001b[1m Tool Message \u001b[0m=================================\n",
            "Name: sql_db_list_tables\n",
            "\n",
            "Album, Artist, Customer, Employee, Genre, Invoice, InvoiceLine, MediaType, Playlist, PlaylistTrack, Track\n",
            "==================================\u001b[1m Ai Message \u001b[0m==================================\n",
            "Tool Calls:\n",
            "  sql_db_schema (call_5ppIjlqD66C4LL3TA8xu76rt)\n",
            " Call ID: call_5ppIjlqD66C4LL3TA8xu76rt\n",
            "  Args:\n",
            "    table_names: Genre\n",
            "=================================\u001b[1m Tool Message \u001b[0m=================================\n",
            "Name: sql_db_schema\n",
            "\n",
            "\n",
            "CREATE TABLE \"Genre\" (\n",
            "\t\"GenreId\" INTEGER NOT NULL, \n",
            "\t\"Name\" NVARCHAR(120), \n",
            "\tPRIMARY KEY (\"GenreId\")\n",
            ")\n",
            "\n",
            "/*\n",
            "3 rows from Genre table:\n",
            "GenreId\tName\n",
            "1\tRock\n",
            "2\tJazz\n",
            "3\tMetal\n",
            "*/\n",
            "==================================\u001b[1m Ai Message \u001b[0m==================================\n",
            "Tool Calls:\n",
            "  sql_db_query_checker (call_XIf6Pbed78QPFBMRiC08NQOE)\n",
            " Call ID: call_XIf6Pbed78QPFBMRiC08NQOE\n",
            "  Args:\n",
            "    query: SELECT COUNT(DISTINCT Name) AS UniqueGenreCount FROM Genre;\n",
            "=================================\u001b[1m Tool Message \u001b[0m=================================\n",
            "Name: sql_db_query_checker\n",
            "\n",
            "```sql\n",
            "SELECT COUNT(DISTINCT Name) AS UniqueGenreCount FROM Genre;\n",
            "```\n",
            "==================================\u001b[1m Ai Message \u001b[0m==================================\n",
            "Tool Calls:\n",
            "  sql_db_query (call_0cTyoxY9atUn8o2EzxD2h7zK)\n",
            " Call ID: call_0cTyoxY9atUn8o2EzxD2h7zK\n",
            "  Args:\n",
            "    query: SELECT COUNT(DISTINCT Name) AS UniqueGenreCount FROM Genre;\n",
            "=================================\u001b[1m Tool Message \u001b[0m=================================\n",
            "Name: sql_db_query\n",
            "\n",
            "[(25,)]\n",
            "==================================\u001b[1m Ai Message \u001b[0m==================================\n",
            "\n",
            "The total number of unique genres in the database is 25.\n"
          ]
        }
      ]
    },
    {
      "cell_type": "markdown",
      "source": [
        "Query 6"
      ],
      "metadata": {
        "id": "wFab0-eFtLzV"
      }
    },
    {
      "cell_type": "code",
      "source": [
        "question = \"Total number of unique mediatype's and their names  we have?\"\n",
        "\n",
        "for step in agent_executor.stream(\n",
        "    {\"messages\": [{\"role\": \"user\", \"content\": question}]},\n",
        "    stream_mode=\"values\",\n",
        "):\n",
        "    step[\"messages\"][-1].pretty_print()"
      ],
      "metadata": {
        "colab": {
          "base_uri": "https://localhost:8080/"
        },
        "id": "ryzDaOQsmaE-",
        "outputId": "029b645c-3869-4fae-87c3-d47cab016ba2"
      },
      "execution_count": 38,
      "outputs": [
        {
          "output_type": "stream",
          "name": "stdout",
          "text": [
            "================================\u001b[1m Human Message \u001b[0m=================================\n",
            "\n",
            "Total number of unique mediatype's and their names  we have?\n",
            "==================================\u001b[1m Ai Message \u001b[0m==================================\n",
            "Tool Calls:\n",
            "  sql_db_list_tables (call_2j9goPK95cTdG8TJwIOu092K)\n",
            " Call ID: call_2j9goPK95cTdG8TJwIOu092K\n",
            "  Args:\n",
            "=================================\u001b[1m Tool Message \u001b[0m=================================\n",
            "Name: sql_db_list_tables\n",
            "\n",
            "Album, Artist, Customer, Employee, Genre, Invoice, InvoiceLine, MediaType, Playlist, PlaylistTrack, Track\n",
            "==================================\u001b[1m Ai Message \u001b[0m==================================\n",
            "Tool Calls:\n",
            "  sql_db_schema (call_PIjDjdcPV2cOABnYrQpCAe3h)\n",
            " Call ID: call_PIjDjdcPV2cOABnYrQpCAe3h\n",
            "  Args:\n",
            "    table_names: MediaType\n",
            "=================================\u001b[1m Tool Message \u001b[0m=================================\n",
            "Name: sql_db_schema\n",
            "\n",
            "\n",
            "CREATE TABLE \"MediaType\" (\n",
            "\t\"MediaTypeId\" INTEGER NOT NULL, \n",
            "\t\"Name\" NVARCHAR(120), \n",
            "\tPRIMARY KEY (\"MediaTypeId\")\n",
            ")\n",
            "\n",
            "/*\n",
            "3 rows from MediaType table:\n",
            "MediaTypeId\tName\n",
            "1\tMPEG audio file\n",
            "2\tProtected AAC audio file\n",
            "3\tProtected MPEG-4 video file\n",
            "*/\n",
            "==================================\u001b[1m Ai Message \u001b[0m==================================\n",
            "Tool Calls:\n",
            "  sql_db_query (call_rrYYGpACJ8B3GWxrmfphSqQ2)\n",
            " Call ID: call_rrYYGpACJ8B3GWxrmfphSqQ2\n",
            "  Args:\n",
            "    query: SELECT COUNT(DISTINCT Name) AS UniqueMediaTypesCount, GROUP_CONCAT(DISTINCT Name) AS MediaTypeNames FROM MediaType;\n",
            "=================================\u001b[1m Tool Message \u001b[0m=================================\n",
            "Name: sql_db_query\n",
            "\n",
            "[(5, 'MPEG audio file,Protected AAC audio file,Protected MPEG-4 video file,Purchased AAC audio file,AAC audio file')]\n",
            "==================================\u001b[1m Ai Message \u001b[0m==================================\n",
            "\n",
            "There are a total of **5 unique media types**. Their names are: **MPEG audio file, Protected AAC audio file, Protected MPEG-4 video file, Purchased AAC audio file, AAC audio file**.\n"
          ]
        }
      ]
    },
    {
      "cell_type": "markdown",
      "source": [
        "Query 7"
      ],
      "metadata": {
        "id": "5baUIs0xtQ6s"
      }
    },
    {
      "cell_type": "code",
      "source": [
        "question = \"Who were the composers of 'Breaking The Rules' and what genre it falls ?\"\n",
        "\n",
        "for step in agent_executor.stream(\n",
        "    {\"messages\": [{\"role\": \"user\", \"content\": question}]},\n",
        "    stream_mode=\"values\",\n",
        "):\n",
        "    step[\"messages\"][-1].pretty_print()"
      ],
      "metadata": {
        "colab": {
          "base_uri": "https://localhost:8080/"
        },
        "id": "XBv9OMSsnhl1",
        "outputId": "05af306f-c217-4913-b140-39027e73f387"
      },
      "execution_count": 39,
      "outputs": [
        {
          "output_type": "stream",
          "name": "stdout",
          "text": [
            "================================\u001b[1m Human Message \u001b[0m=================================\n",
            "\n",
            "Who were the composers of 'Breaking The Rules' and what genre it falls ?\n",
            "==================================\u001b[1m Ai Message \u001b[0m==================================\n",
            "Tool Calls:\n",
            "  sql_db_list_tables (call_b7f91HwrCRrnhgT3aDAKqynj)\n",
            " Call ID: call_b7f91HwrCRrnhgT3aDAKqynj\n",
            "  Args:\n",
            "=================================\u001b[1m Tool Message \u001b[0m=================================\n",
            "Name: sql_db_list_tables\n",
            "\n",
            "Album, Artist, Customer, Employee, Genre, Invoice, InvoiceLine, MediaType, Playlist, PlaylistTrack, Track\n",
            "==================================\u001b[1m Ai Message \u001b[0m==================================\n",
            "Tool Calls:\n",
            "  sql_db_schema (call_pI2wxpo3hLvgvAo1c0sS1teh)\n",
            " Call ID: call_pI2wxpo3hLvgvAo1c0sS1teh\n",
            "  Args:\n",
            "    table_names: Track\n",
            "  sql_db_schema (call_y0kEqgGBdeO7aj5vXVptXCIJ)\n",
            " Call ID: call_y0kEqgGBdeO7aj5vXVptXCIJ\n",
            "  Args:\n",
            "    table_names: Artist\n",
            "  sql_db_schema (call_qpKmtwfWNJhOH65pDYENCd5h)\n",
            " Call ID: call_qpKmtwfWNJhOH65pDYENCd5h\n",
            "  Args:\n",
            "    table_names: Genre\n",
            "=================================\u001b[1m Tool Message \u001b[0m=================================\n",
            "Name: sql_db_schema\n",
            "\n",
            "\n",
            "CREATE TABLE \"Genre\" (\n",
            "\t\"GenreId\" INTEGER NOT NULL, \n",
            "\t\"Name\" NVARCHAR(120), \n",
            "\tPRIMARY KEY (\"GenreId\")\n",
            ")\n",
            "\n",
            "/*\n",
            "3 rows from Genre table:\n",
            "GenreId\tName\n",
            "1\tRock\n",
            "2\tJazz\n",
            "3\tMetal\n",
            "*/\n",
            "==================================\u001b[1m Ai Message \u001b[0m==================================\n",
            "Tool Calls:\n",
            "  sql_db_query (call_PXeFktAcNQXEgYxrdpCUgRHJ)\n",
            " Call ID: call_PXeFktAcNQXEgYxrdpCUgRHJ\n",
            "  Args:\n",
            "    query: SELECT Composer, GenreId FROM Track WHERE Name = 'Breaking The Rules'\n",
            "=================================\u001b[1m Tool Message \u001b[0m=================================\n",
            "Name: sql_db_query\n",
            "\n",
            "[('Angus Young, Malcolm Young, Brian Johnson', 1)]\n",
            "==================================\u001b[1m Ai Message \u001b[0m==================================\n",
            "Tool Calls:\n",
            "  sql_db_query (call_wBqEpLARh3kG74Cf7Ivm1qss)\n",
            " Call ID: call_wBqEpLARh3kG74Cf7Ivm1qss\n",
            "  Args:\n",
            "    query: SELECT Name FROM Genre WHERE GenreId = 1\n",
            "=================================\u001b[1m Tool Message \u001b[0m=================================\n",
            "Name: sql_db_query\n",
            "\n",
            "[('Rock',)]\n",
            "==================================\u001b[1m Ai Message \u001b[0m==================================\n",
            "\n",
            "The composers of \"Breaking The Rules\" are Angus Young, Malcolm Young, and Brian Johnson. The song falls under the genre of Rock.\n"
          ]
        }
      ]
    },
    {
      "cell_type": "markdown",
      "source": [
        "Query 8"
      ],
      "metadata": {
        "id": "h_OKqQJ8tTNi"
      }
    },
    {
      "cell_type": "code",
      "source": [
        "question = \"Who were the composers of 'Life During Wartime' and what genre it falls ?\"\n",
        "\n",
        "for step in agent_executor.stream(\n",
        "    {\"messages\": [{\"role\": \"user\", \"content\": question}]},\n",
        "    stream_mode=\"values\",\n",
        "):\n",
        "    step[\"messages\"][-1].pretty_print()"
      ],
      "metadata": {
        "colab": {
          "base_uri": "https://localhost:8080/"
        },
        "id": "Xu4HiRHRoxOV",
        "outputId": "9d90260e-22b0-4061-d602-7e5f64774fa8"
      },
      "execution_count": 40,
      "outputs": [
        {
          "output_type": "stream",
          "name": "stdout",
          "text": [
            "================================\u001b[1m Human Message \u001b[0m=================================\n",
            "\n",
            "Who were the composers of 'Life During Wartime' and what genre it falls ?\n",
            "==================================\u001b[1m Ai Message \u001b[0m==================================\n",
            "Tool Calls:\n",
            "  sql_db_list_tables (call_USQvpl732mrHOrGwMJD8QRTM)\n",
            " Call ID: call_USQvpl732mrHOrGwMJD8QRTM\n",
            "  Args:\n",
            "=================================\u001b[1m Tool Message \u001b[0m=================================\n",
            "Name: sql_db_list_tables\n",
            "\n",
            "Album, Artist, Customer, Employee, Genre, Invoice, InvoiceLine, MediaType, Playlist, PlaylistTrack, Track\n",
            "==================================\u001b[1m Ai Message \u001b[0m==================================\n",
            "Tool Calls:\n",
            "  sql_db_schema (call_NVeVx6aAzNJMILKcCUGwBMjk)\n",
            " Call ID: call_NVeVx6aAzNJMILKcCUGwBMjk\n",
            "  Args:\n",
            "    table_names: Track\n",
            "  sql_db_schema (call_1njJmaMOVTn8LWQqCkqt5LhH)\n",
            " Call ID: call_1njJmaMOVTn8LWQqCkqt5LhH\n",
            "  Args:\n",
            "    table_names: Artist\n",
            "  sql_db_schema (call_lGONLQzvwAeGO6Ag65OFFwav)\n",
            " Call ID: call_lGONLQzvwAeGO6Ag65OFFwav\n",
            "  Args:\n",
            "    table_names: Genre\n",
            "=================================\u001b[1m Tool Message \u001b[0m=================================\n",
            "Name: sql_db_schema\n",
            "\n",
            "\n",
            "CREATE TABLE \"Genre\" (\n",
            "\t\"GenreId\" INTEGER NOT NULL, \n",
            "\t\"Name\" NVARCHAR(120), \n",
            "\tPRIMARY KEY (\"GenreId\")\n",
            ")\n",
            "\n",
            "/*\n",
            "3 rows from Genre table:\n",
            "GenreId\tName\n",
            "1\tRock\n",
            "2\tJazz\n",
            "3\tMetal\n",
            "*/\n",
            "==================================\u001b[1m Ai Message \u001b[0m==================================\n",
            "Tool Calls:\n",
            "  sql_db_query (call_VBPaPQRI24pmYVbqTOoYXv08)\n",
            " Call ID: call_VBPaPQRI24pmYVbqTOoYXv08\n",
            "  Args:\n",
            "    query: SELECT Composer, Genre.Name AS Genre\n",
            "FROM Track\n",
            "JOIN Genre ON Track.GenreId = Genre.GenreId\n",
            "WHERE Track.Name = 'Life During Wartime';\n",
            "=================================\u001b[1m Tool Message \u001b[0m=================================\n",
            "Name: sql_db_query\n",
            "\n",
            "[('Chris Frantz/David Byrne/Jerry Harrison/Tina Weymouth', 'Latin')]\n",
            "==================================\u001b[1m Ai Message \u001b[0m==================================\n",
            "\n",
            "The composers of \"Life During Wartime\" are Chris Frantz, David Byrne, Jerry Harrison, and Tina Weymouth. The song falls under the Latin genre.\n"
          ]
        }
      ]
    },
    {
      "cell_type": "markdown",
      "source": [
        "Query 9"
      ],
      "metadata": {
        "id": "-TcLTeRFtViF"
      }
    },
    {
      "cell_type": "code",
      "source": [
        "question = \"Total number of unique tracks?\"\n",
        "\n",
        "for step in agent_executor.stream(\n",
        "    {\"messages\": [{\"role\": \"user\", \"content\": question}]},\n",
        "    stream_mode=\"values\",\n",
        "):\n",
        "    step[\"messages\"][-1].pretty_print()"
      ],
      "metadata": {
        "colab": {
          "base_uri": "https://localhost:8080/"
        },
        "id": "kGhlgrgypGdR",
        "outputId": "3de63c27-eb91-4799-cddf-2994f17a21c9"
      },
      "execution_count": 41,
      "outputs": [
        {
          "output_type": "stream",
          "name": "stdout",
          "text": [
            "================================\u001b[1m Human Message \u001b[0m=================================\n",
            "\n",
            "Total number of unique tracks?\n",
            "==================================\u001b[1m Ai Message \u001b[0m==================================\n",
            "Tool Calls:\n",
            "  sql_db_list_tables (call_Qfs9uCLauQ83RJVJ1opUV6qs)\n",
            " Call ID: call_Qfs9uCLauQ83RJVJ1opUV6qs\n",
            "  Args:\n",
            "=================================\u001b[1m Tool Message \u001b[0m=================================\n",
            "Name: sql_db_list_tables\n",
            "\n",
            "Album, Artist, Customer, Employee, Genre, Invoice, InvoiceLine, MediaType, Playlist, PlaylistTrack, Track\n",
            "==================================\u001b[1m Ai Message \u001b[0m==================================\n",
            "Tool Calls:\n",
            "  sql_db_schema (call_bm5qvLjvvmUZAYlw2fA0uoxD)\n",
            " Call ID: call_bm5qvLjvvmUZAYlw2fA0uoxD\n",
            "  Args:\n",
            "    table_names: Track\n",
            "=================================\u001b[1m Tool Message \u001b[0m=================================\n",
            "Name: sql_db_schema\n",
            "\n",
            "\n",
            "CREATE TABLE \"Track\" (\n",
            "\t\"TrackId\" INTEGER NOT NULL, \n",
            "\t\"Name\" NVARCHAR(200) NOT NULL, \n",
            "\t\"AlbumId\" INTEGER, \n",
            "\t\"MediaTypeId\" INTEGER NOT NULL, \n",
            "\t\"GenreId\" INTEGER, \n",
            "\t\"Composer\" NVARCHAR(220), \n",
            "\t\"Milliseconds\" INTEGER NOT NULL, \n",
            "\t\"Bytes\" INTEGER, \n",
            "\t\"UnitPrice\" NUMERIC(10, 2) NOT NULL, \n",
            "\tPRIMARY KEY (\"TrackId\"), \n",
            "\tFOREIGN KEY(\"MediaTypeId\") REFERENCES \"MediaType\" (\"MediaTypeId\"), \n",
            "\tFOREIGN KEY(\"GenreId\") REFERENCES \"Genre\" (\"GenreId\"), \n",
            "\tFOREIGN KEY(\"AlbumId\") REFERENCES \"Album\" (\"AlbumId\")\n",
            ")\n",
            "\n",
            "/*\n",
            "3 rows from Track table:\n",
            "TrackId\tName\tAlbumId\tMediaTypeId\tGenreId\tComposer\tMilliseconds\tBytes\tUnitPrice\n",
            "1\tFor Those About To Rock (We Salute You)\t1\t1\t1\tAngus Young, Malcolm Young, Brian Johnson\t343719\t11170334\t0.99\n",
            "2\tBalls to the Wall\t2\t2\t1\tU. Dirkschneider, W. Hoffmann, H. Frank, P. Baltes, S. Kaufmann, G. Hoffmann\t342562\t5510424\t0.99\n",
            "3\tFast As a Shark\t3\t2\t1\tF. Baltes, S. Kaufman, U. Dirkscneider & W. Hoffman\t230619\t3990994\t0.99\n",
            "*/\n",
            "==================================\u001b[1m Ai Message \u001b[0m==================================\n",
            "Tool Calls:\n",
            "  sql_db_query_checker (call_LQj7RCxT3oTB3zYgEbnu4Htx)\n",
            " Call ID: call_LQj7RCxT3oTB3zYgEbnu4Htx\n",
            "  Args:\n",
            "    query: SELECT COUNT(DISTINCT TrackId) AS unique_tracks FROM Track;\n",
            "=================================\u001b[1m Tool Message \u001b[0m=================================\n",
            "Name: sql_db_query_checker\n",
            "\n",
            "```sql\n",
            "SELECT COUNT(DISTINCT TrackId) AS unique_tracks FROM Track;\n",
            "```\n",
            "==================================\u001b[1m Ai Message \u001b[0m==================================\n",
            "Tool Calls:\n",
            "  sql_db_query (call_v7wb1rciFGVVcqTxfeVNrM99)\n",
            " Call ID: call_v7wb1rciFGVVcqTxfeVNrM99\n",
            "  Args:\n",
            "    query: SELECT COUNT(DISTINCT TrackId) AS unique_tracks FROM Track;\n",
            "=================================\u001b[1m Tool Message \u001b[0m=================================\n",
            "Name: sql_db_query\n",
            "\n",
            "[(3503,)]\n",
            "==================================\u001b[1m Ai Message \u001b[0m==================================\n",
            "\n",
            "The total number of unique tracks is 3,503.\n"
          ]
        }
      ]
    },
    {
      "cell_type": "markdown",
      "source": [
        "Query 10"
      ],
      "metadata": {
        "id": "XoFKaiBStYOZ"
      }
    },
    {
      "cell_type": "code",
      "source": [
        "question = \"How many employees work as sales support agent , their names , mail id's and phone numbers?\"\n",
        "\n",
        "for step in agent_executor.stream(\n",
        "    {\"messages\": [{\"role\": \"user\", \"content\": question}]},\n",
        "    stream_mode=\"values\",\n",
        "):\n",
        "    step[\"messages\"][-1].pretty_print()"
      ],
      "metadata": {
        "colab": {
          "base_uri": "https://localhost:8080/"
        },
        "id": "pFgYo_aApgs3",
        "outputId": "7b0dbc12-45cd-44fc-e856-13fb6c07e2d5"
      },
      "execution_count": 42,
      "outputs": [
        {
          "output_type": "stream",
          "name": "stdout",
          "text": [
            "================================\u001b[1m Human Message \u001b[0m=================================\n",
            "\n",
            "How many employees work as sales support agent , their names , mail id's and phone numbers?\n",
            "==================================\u001b[1m Ai Message \u001b[0m==================================\n",
            "Tool Calls:\n",
            "  sql_db_list_tables (call_SMSmToCn1bo0TyufPxHBtzT3)\n",
            " Call ID: call_SMSmToCn1bo0TyufPxHBtzT3\n",
            "  Args:\n",
            "=================================\u001b[1m Tool Message \u001b[0m=================================\n",
            "Name: sql_db_list_tables\n",
            "\n",
            "Album, Artist, Customer, Employee, Genre, Invoice, InvoiceLine, MediaType, Playlist, PlaylistTrack, Track\n",
            "==================================\u001b[1m Ai Message \u001b[0m==================================\n",
            "Tool Calls:\n",
            "  sql_db_schema (call_BSoS010hV0Q27kDLR3XIa8kH)\n",
            " Call ID: call_BSoS010hV0Q27kDLR3XIa8kH\n",
            "  Args:\n",
            "    table_names: Employee\n",
            "=================================\u001b[1m Tool Message \u001b[0m=================================\n",
            "Name: sql_db_schema\n",
            "\n",
            "\n",
            "CREATE TABLE \"Employee\" (\n",
            "\t\"EmployeeId\" INTEGER NOT NULL, \n",
            "\t\"LastName\" NVARCHAR(20) NOT NULL, \n",
            "\t\"FirstName\" NVARCHAR(20) NOT NULL, \n",
            "\t\"Title\" NVARCHAR(30), \n",
            "\t\"ReportsTo\" INTEGER, \n",
            "\t\"BirthDate\" DATETIME, \n",
            "\t\"HireDate\" DATETIME, \n",
            "\t\"Address\" NVARCHAR(70), \n",
            "\t\"City\" NVARCHAR(40), \n",
            "\t\"State\" NVARCHAR(40), \n",
            "\t\"Country\" NVARCHAR(40), \n",
            "\t\"PostalCode\" NVARCHAR(10), \n",
            "\t\"Phone\" NVARCHAR(24), \n",
            "\t\"Fax\" NVARCHAR(24), \n",
            "\t\"Email\" NVARCHAR(60), \n",
            "\tPRIMARY KEY (\"EmployeeId\"), \n",
            "\tFOREIGN KEY(\"ReportsTo\") REFERENCES \"Employee\" (\"EmployeeId\")\n",
            ")\n",
            "\n",
            "/*\n",
            "3 rows from Employee table:\n",
            "EmployeeId\tLastName\tFirstName\tTitle\tReportsTo\tBirthDate\tHireDate\tAddress\tCity\tState\tCountry\tPostalCode\tPhone\tFax\tEmail\n",
            "1\tAdams\tAndrew\tGeneral Manager\tNone\t1962-02-18 00:00:00\t2002-08-14 00:00:00\t11120 Jasper Ave NW\tEdmonton\tAB\tCanada\tT5K 2N1\t+1 (780) 428-9482\t+1 (780) 428-3457\tandrew@chinookcorp.com\n",
            "2\tEdwards\tNancy\tSales Manager\t1\t1958-12-08 00:00:00\t2002-05-01 00:00:00\t825 8 Ave SW\tCalgary\tAB\tCanada\tT2P 2T3\t+1 (403) 262-3443\t+1 (403) 262-3322\tnancy@chinookcorp.com\n",
            "3\tPeacock\tJane\tSales Support Agent\t2\t1973-08-29 00:00:00\t2002-04-01 00:00:00\t1111 6 Ave SW\tCalgary\tAB\tCanada\tT2P 5M5\t+1 (403) 262-3443\t+1 (403) 262-6712\tjane@chinookcorp.com\n",
            "*/\n",
            "==================================\u001b[1m Ai Message \u001b[0m==================================\n",
            "Tool Calls:\n",
            "  sql_db_query_checker (call_fNMgd4p5aCwU6n0llfGC3bbK)\n",
            " Call ID: call_fNMgd4p5aCwU6n0llfGC3bbK\n",
            "  Args:\n",
            "    query: SELECT FirstName, LastName, Email, Phone FROM Employee WHERE Title = 'Sales Support Agent'\n",
            "=================================\u001b[1m Tool Message \u001b[0m=================================\n",
            "Name: sql_db_query_checker\n",
            "\n",
            "```sql\n",
            "SELECT FirstName, LastName, Email, Phone FROM Employee WHERE Title = 'Sales Support Agent'\n",
            "```\n",
            "==================================\u001b[1m Ai Message \u001b[0m==================================\n",
            "Tool Calls:\n",
            "  sql_db_query (call_5d0QQ7fAf2BHBzcsBISvx5Gj)\n",
            " Call ID: call_5d0QQ7fAf2BHBzcsBISvx5Gj\n",
            "  Args:\n",
            "    query: SELECT FirstName, LastName, Email, Phone FROM Employee WHERE Title = 'Sales Support Agent'\n",
            "=================================\u001b[1m Tool Message \u001b[0m=================================\n",
            "Name: sql_db_query\n",
            "\n",
            "[('Jane', 'Peacock', 'jane@chinookcorp.com', '+1 (403) 262-3443'), ('Margaret', 'Park', 'margaret@chinookcorp.com', '+1 (403) 263-4423'), ('Steve', 'Johnson', 'steve@chinookcorp.com', '1 (780) 836-9987')]\n",
            "==================================\u001b[1m Ai Message \u001b[0m==================================\n",
            "\n",
            "There are three employees working as Sales Support Agents. Here are their details:\n",
            "\n",
            "1. **Jane Peacock**\n",
            "   - Email: jane@chinookcorp.com\n",
            "   - Phone: +1 (403) 262-3443\n",
            "\n",
            "2. **Margaret Park**\n",
            "   - Email: margaret@chinookcorp.com\n",
            "   - Phone: +1 (403) 263-4423\n",
            "\n",
            "3. **Steve Johnson**\n",
            "   - Email: steve@chinookcorp.com\n",
            "   - Phone: 1 (780) 836-9987\n"
          ]
        }
      ]
    },
    {
      "cell_type": "markdown",
      "source": [
        "Query 11"
      ],
      "metadata": {
        "id": "nGRUCvRxta7g"
      }
    },
    {
      "cell_type": "code",
      "source": [
        "question = \"List down uniqe number of customers by city and country?\"\n",
        "\n",
        "for step in agent_executor.stream(\n",
        "    {\"messages\": [{\"role\": \"user\", \"content\": question}]},\n",
        "    stream_mode=\"values\",\n",
        "):\n",
        "    step[\"messages\"][-1].pretty_print()"
      ],
      "metadata": {
        "colab": {
          "base_uri": "https://localhost:8080/"
        },
        "id": "ciQqwLZ6qSJP",
        "outputId": "a3bd047d-35b7-4e13-bf6e-848f307512d1"
      },
      "execution_count": 43,
      "outputs": [
        {
          "output_type": "stream",
          "name": "stdout",
          "text": [
            "================================\u001b[1m Human Message \u001b[0m=================================\n",
            "\n",
            "List down uniqe number of customers by city and country?\n",
            "==================================\u001b[1m Ai Message \u001b[0m==================================\n",
            "Tool Calls:\n",
            "  sql_db_list_tables (call_hU12oKyDZAwz0cKPPHoXYF2O)\n",
            " Call ID: call_hU12oKyDZAwz0cKPPHoXYF2O\n",
            "  Args:\n",
            "=================================\u001b[1m Tool Message \u001b[0m=================================\n",
            "Name: sql_db_list_tables\n",
            "\n",
            "Album, Artist, Customer, Employee, Genre, Invoice, InvoiceLine, MediaType, Playlist, PlaylistTrack, Track\n",
            "==================================\u001b[1m Ai Message \u001b[0m==================================\n",
            "Tool Calls:\n",
            "  sql_db_schema (call_PYPA3GBHlYIxmolN96EeiNAM)\n",
            " Call ID: call_PYPA3GBHlYIxmolN96EeiNAM\n",
            "  Args:\n",
            "    table_names: Customer\n",
            "=================================\u001b[1m Tool Message \u001b[0m=================================\n",
            "Name: sql_db_schema\n",
            "\n",
            "\n",
            "CREATE TABLE \"Customer\" (\n",
            "\t\"CustomerId\" INTEGER NOT NULL, \n",
            "\t\"FirstName\" NVARCHAR(40) NOT NULL, \n",
            "\t\"LastName\" NVARCHAR(20) NOT NULL, \n",
            "\t\"Company\" NVARCHAR(80), \n",
            "\t\"Address\" NVARCHAR(70), \n",
            "\t\"City\" NVARCHAR(40), \n",
            "\t\"State\" NVARCHAR(40), \n",
            "\t\"Country\" NVARCHAR(40), \n",
            "\t\"PostalCode\" NVARCHAR(10), \n",
            "\t\"Phone\" NVARCHAR(24), \n",
            "\t\"Fax\" NVARCHAR(24), \n",
            "\t\"Email\" NVARCHAR(60) NOT NULL, \n",
            "\t\"SupportRepId\" INTEGER, \n",
            "\tPRIMARY KEY (\"CustomerId\"), \n",
            "\tFOREIGN KEY(\"SupportRepId\") REFERENCES \"Employee\" (\"EmployeeId\")\n",
            ")\n",
            "\n",
            "/*\n",
            "3 rows from Customer table:\n",
            "CustomerId\tFirstName\tLastName\tCompany\tAddress\tCity\tState\tCountry\tPostalCode\tPhone\tFax\tEmail\tSupportRepId\n",
            "1\tLuís\tGonçalves\tEmbraer - Empresa Brasileira de Aeronáutica S.A.\tAv. Brigadeiro Faria Lima, 2170\tSão José dos Campos\tSP\tBrazil\t12227-000\t+55 (12) 3923-5555\t+55 (12) 3923-5566\tluisg@embraer.com.br\t3\n",
            "2\tLeonie\tKöhler\tNone\tTheodor-Heuss-Straße 34\tStuttgart\tNone\tGermany\t70174\t+49 0711 2842222\tNone\tleonekohler@surfeu.de\t5\n",
            "3\tFrançois\tTremblay\tNone\t1498 rue Bélanger\tMontréal\tQC\tCanada\tH2G 1A7\t+1 (514) 721-4711\tNone\tftremblay@gmail.com\t3\n",
            "*/\n",
            "==================================\u001b[1m Ai Message \u001b[0m==================================\n",
            "Tool Calls:\n",
            "  sql_db_query_checker (call_tMij7qjk5Tl3LCnyR6KkKN54)\n",
            " Call ID: call_tMij7qjk5Tl3LCnyR6KkKN54\n",
            "  Args:\n",
            "    query: SELECT City, Country, COUNT(DISTINCT CustomerId) AS UniqueCustomerCount FROM Customer GROUP BY City, Country ORDER BY UniqueCustomerCount DESC;\n",
            "=================================\u001b[1m Tool Message \u001b[0m=================================\n",
            "Name: sql_db_query_checker\n",
            "\n",
            "```sql\n",
            "SELECT City, Country, COUNT(DISTINCT CustomerId) AS UniqueCustomerCount \n",
            "FROM Customer \n",
            "GROUP BY City, Country \n",
            "ORDER BY UniqueCustomerCount DESC;\n",
            "```\n",
            "==================================\u001b[1m Ai Message \u001b[0m==================================\n",
            "Tool Calls:\n",
            "  sql_db_query (call_QpOv8RIRzhLNCAbf51ekoA2b)\n",
            " Call ID: call_QpOv8RIRzhLNCAbf51ekoA2b\n",
            "  Args:\n",
            "    query: SELECT City, Country, COUNT(DISTINCT CustomerId) AS UniqueCustomerCount FROM Customer GROUP BY City, Country ORDER BY UniqueCustomerCount DESC;\n",
            "=================================\u001b[1m Tool Message \u001b[0m=================================\n",
            "Name: sql_db_query\n",
            "\n",
            "[('Berlin', 'Germany', 2), ('London', 'United Kingdom', 2), ('Mountain View', 'USA', 2), ('Paris', 'France', 2), ('Prague', 'Czech Republic', 2), ('São Paulo', 'Brazil', 2), ('Amsterdam', 'Netherlands', 1), ('Bangalore', 'India', 1), ('Bordeaux', 'France', 1), ('Boston', 'USA', 1), ('Brasília', 'Brazil', 1), ('Brussels', 'Belgium', 1), ('Budapest', 'Hungary', 1), ('Buenos Aires', 'Argentina', 1), ('Chicago', 'USA', 1), ('Copenhagen', 'Denmark', 1), ('Cupertino', 'USA', 1), ('Delhi', 'India', 1), ('Dijon', 'France', 1), ('Dublin', 'Ireland', 1), ('Edinburgh ', 'United Kingdom', 1), ('Edmonton', 'Canada', 1), ('Fort Worth', 'USA', 1), ('Frankfurt', 'Germany', 1), ('Halifax', 'Canada', 1), ('Helsinki', 'Finland', 1), ('Lisbon', 'Portugal', 1), ('Lyon', 'France', 1), ('Madison', 'USA', 1), ('Madrid', 'Spain', 1), ('Montréal', 'Canada', 1), ('New York', 'USA', 1), ('Orlando', 'USA', 1), ('Oslo', 'Norway', 1), ('Ottawa', 'Canada', 1), ('Porto', 'Portugal', 1), ('Redmond', 'USA', 1), ('Reno', 'USA', 1), ('Rio de Janeiro', 'Brazil', 1), ('Rome', 'Italy', 1), ('Salt Lake City', 'USA', 1), ('Santiago', 'Chile', 1), ('Sidney', 'Australia', 1), ('Stockholm', 'Sweden', 1), ('Stuttgart', 'Germany', 1), ('São José dos Campos', 'Brazil', 1), ('Toronto', 'Canada', 1), ('Tucson', 'USA', 1), ('Vancouver', 'Canada', 1), ('Vienne', 'Austria', 1), ('Warsaw', 'Poland', 1), ('Winnipeg', 'Canada', 1), ('Yellowknife', 'Canada', 1)]\n",
            "==================================\u001b[1m Ai Message \u001b[0m==================================\n",
            "\n",
            "Here are the unique number of customers by city and country:\n",
            "\n",
            "1. **Berlin, Germany** - 2 customers\n",
            "2. **London, United Kingdom** - 2 customers\n",
            "3. **Mountain View, USA** - 2 customers\n",
            "4. **Paris, France** - 2 customers\n",
            "5. **Prague, Czech Republic** - 2 customers\n",
            "\n",
            "Would you like to see more results or any specific data?\n"
          ]
        }
      ]
    },
    {
      "cell_type": "markdown",
      "source": [
        "Query 12"
      ],
      "metadata": {
        "id": "OLs-ciOstdS2"
      }
    },
    {
      "cell_type": "code",
      "source": [
        "question = \"Do we have customers named 'Johannes' and 'arijit'?\"\n",
        "\n",
        "for step in agent_executor.stream(\n",
        "    {\"messages\": [{\"role\": \"user\", \"content\": question}]},\n",
        "    stream_mode=\"values\",\n",
        "):\n",
        "    step[\"messages\"][-1].pretty_print()"
      ],
      "metadata": {
        "colab": {
          "base_uri": "https://localhost:8080/"
        },
        "id": "8OLPrpmVqyE9",
        "outputId": "4b7d9825-c11c-4359-f3df-3ec14de30412"
      },
      "execution_count": 45,
      "outputs": [
        {
          "output_type": "stream",
          "name": "stdout",
          "text": [
            "================================\u001b[1m Human Message \u001b[0m=================================\n",
            "\n",
            "Do we have customers named 'Johannes' and 'arijit'?\n",
            "==================================\u001b[1m Ai Message \u001b[0m==================================\n",
            "Tool Calls:\n",
            "  sql_db_list_tables (call_C3fBscRpebzLnPFAATIAgolP)\n",
            " Call ID: call_C3fBscRpebzLnPFAATIAgolP\n",
            "  Args:\n",
            "=================================\u001b[1m Tool Message \u001b[0m=================================\n",
            "Name: sql_db_list_tables\n",
            "\n",
            "Album, Artist, Customer, Employee, Genre, Invoice, InvoiceLine, MediaType, Playlist, PlaylistTrack, Track\n",
            "==================================\u001b[1m Ai Message \u001b[0m==================================\n",
            "Tool Calls:\n",
            "  sql_db_query_checker (call_MkHEKT8WQDYoLDlJ5BWS1q5R)\n",
            " Call ID: call_MkHEKT8WQDYoLDlJ5BWS1q5R\n",
            "  Args:\n",
            "    query: SELECT COUNT(*) FROM Customer WHERE Name = 'Johannes'\n",
            "  sql_db_query_checker (call_DloQGLRHAzDSBFc7eSSntWIT)\n",
            " Call ID: call_DloQGLRHAzDSBFc7eSSntWIT\n",
            "  Args:\n",
            "    query: SELECT COUNT(*) FROM Customer WHERE Name = 'arijit'\n",
            "=================================\u001b[1m Tool Message \u001b[0m=================================\n",
            "Name: sql_db_query_checker\n",
            "\n",
            "```sql\n",
            "SELECT COUNT(*) FROM Customer WHERE Name = 'arijit'\n",
            "```\n",
            "==================================\u001b[1m Ai Message \u001b[0m==================================\n",
            "Tool Calls:\n",
            "  sql_db_query (call_aARG07NlLwEVDxwaU5heCkaJ)\n",
            " Call ID: call_aARG07NlLwEVDxwaU5heCkaJ\n",
            "  Args:\n",
            "    query: SELECT * FROM Customer WHERE Name = 'Johannes'\n",
            "  sql_db_query (call_jdPyV1zLRA3bBnedAlEhBpPR)\n",
            " Call ID: call_jdPyV1zLRA3bBnedAlEhBpPR\n",
            "  Args:\n",
            "    query: SELECT * FROM Customer WHERE Name = 'arijit'\n",
            "=================================\u001b[1m Tool Message \u001b[0m=================================\n",
            "Name: sql_db_query\n",
            "\n",
            "Error: (sqlite3.OperationalError) no such column: Name\n",
            "[SQL: SELECT * FROM Customer WHERE Name = 'arijit']\n",
            "(Background on this error at: https://sqlalche.me/e/20/e3q8)\n",
            "==================================\u001b[1m Ai Message \u001b[0m==================================\n",
            "Tool Calls:\n",
            "  sql_db_schema (call_GritBEOI55PYaF03JJ8GNFLu)\n",
            " Call ID: call_GritBEOI55PYaF03JJ8GNFLu\n",
            "  Args:\n",
            "    table_names: Customer\n",
            "=================================\u001b[1m Tool Message \u001b[0m=================================\n",
            "Name: sql_db_schema\n",
            "\n",
            "\n",
            "CREATE TABLE \"Customer\" (\n",
            "\t\"CustomerId\" INTEGER NOT NULL, \n",
            "\t\"FirstName\" NVARCHAR(40) NOT NULL, \n",
            "\t\"LastName\" NVARCHAR(20) NOT NULL, \n",
            "\t\"Company\" NVARCHAR(80), \n",
            "\t\"Address\" NVARCHAR(70), \n",
            "\t\"City\" NVARCHAR(40), \n",
            "\t\"State\" NVARCHAR(40), \n",
            "\t\"Country\" NVARCHAR(40), \n",
            "\t\"PostalCode\" NVARCHAR(10), \n",
            "\t\"Phone\" NVARCHAR(24), \n",
            "\t\"Fax\" NVARCHAR(24), \n",
            "\t\"Email\" NVARCHAR(60) NOT NULL, \n",
            "\t\"SupportRepId\" INTEGER, \n",
            "\tPRIMARY KEY (\"CustomerId\"), \n",
            "\tFOREIGN KEY(\"SupportRepId\") REFERENCES \"Employee\" (\"EmployeeId\")\n",
            ")\n",
            "\n",
            "/*\n",
            "3 rows from Customer table:\n",
            "CustomerId\tFirstName\tLastName\tCompany\tAddress\tCity\tState\tCountry\tPostalCode\tPhone\tFax\tEmail\tSupportRepId\n",
            "1\tLuís\tGonçalves\tEmbraer - Empresa Brasileira de Aeronáutica S.A.\tAv. Brigadeiro Faria Lima, 2170\tSão José dos Campos\tSP\tBrazil\t12227-000\t+55 (12) 3923-5555\t+55 (12) 3923-5566\tluisg@embraer.com.br\t3\n",
            "2\tLeonie\tKöhler\tNone\tTheodor-Heuss-Straße 34\tStuttgart\tNone\tGermany\t70174\t+49 0711 2842222\tNone\tleonekohler@surfeu.de\t5\n",
            "3\tFrançois\tTremblay\tNone\t1498 rue Bélanger\tMontréal\tQC\tCanada\tH2G 1A7\t+1 (514) 721-4711\tNone\tftremblay@gmail.com\t3\n",
            "*/\n",
            "==================================\u001b[1m Ai Message \u001b[0m==================================\n",
            "Tool Calls:\n",
            "  sql_db_query (call_e2XgWL4bOiOCY6oxNlIAlJcR)\n",
            " Call ID: call_e2XgWL4bOiOCY6oxNlIAlJcR\n",
            "  Args:\n",
            "    query: SELECT * FROM Customer WHERE FirstName = 'Johannes' OR LastName = 'Johannes'\n",
            "  sql_db_query (call_o6rH9ACKB8y8G7NvQhBgJIof)\n",
            " Call ID: call_o6rH9ACKB8y8G7NvQhBgJIof\n",
            "  Args:\n",
            "    query: SELECT * FROM Customer WHERE FirstName = 'arijit' OR LastName = 'arijit'\n",
            "=================================\u001b[1m Tool Message \u001b[0m=================================\n",
            "Name: sql_db_query\n",
            "\n",
            "\n",
            "==================================\u001b[1m Ai Message \u001b[0m==================================\n",
            "\n",
            "Yes, there is a customer named 'Johannes Van der Berg'. However, there is no customer named 'arijit'. \n",
            "\n",
            "Here are the details for 'Johannes':\n",
            "- **First Name**: Johannes\n",
            "- **Last Name**: Van der Berg\n",
            "- **Address**: Lijnbaansgracht 120bg, Amsterdam, VV, Netherlands\n",
            "- **Postal Code**: 1016\n",
            "- **Phone**: +31 020 6223130\n",
            "- **Email**: johavanderberg@yahoo.nl\n"
          ]
        }
      ]
    },
    {
      "cell_type": "markdown",
      "source": [
        "query 13"
      ],
      "metadata": {
        "id": "7SWVC6CzthcN"
      }
    },
    {
      "cell_type": "code",
      "source": [
        "question = \"List down unique number of customers by countries ?\"\n",
        "\n",
        "for step in agent_executor.stream(\n",
        "    {\"messages\": [{\"role\": \"user\", \"content\": question}]},\n",
        "    stream_mode=\"values\",\n",
        "):\n",
        "    step[\"messages\"][-1].pretty_print()"
      ],
      "metadata": {
        "colab": {
          "base_uri": "https://localhost:8080/"
        },
        "id": "R98mLEK_rbr7",
        "outputId": "01da283f-9b4c-4e2e-bc17-58ce10b33911"
      },
      "execution_count": 46,
      "outputs": [
        {
          "output_type": "stream",
          "name": "stdout",
          "text": [
            "================================\u001b[1m Human Message \u001b[0m=================================\n",
            "\n",
            "List down unique number of customers by countries ?\n",
            "==================================\u001b[1m Ai Message \u001b[0m==================================\n",
            "Tool Calls:\n",
            "  sql_db_list_tables (call_Y2eQ95mqYsqCB4LMcTdMHSRS)\n",
            " Call ID: call_Y2eQ95mqYsqCB4LMcTdMHSRS\n",
            "  Args:\n",
            "=================================\u001b[1m Tool Message \u001b[0m=================================\n",
            "Name: sql_db_list_tables\n",
            "\n",
            "Album, Artist, Customer, Employee, Genre, Invoice, InvoiceLine, MediaType, Playlist, PlaylistTrack, Track\n",
            "==================================\u001b[1m Ai Message \u001b[0m==================================\n",
            "Tool Calls:\n",
            "  sql_db_schema (call_KxXbZx3eVnkfKRZpgpXHHdrg)\n",
            " Call ID: call_KxXbZx3eVnkfKRZpgpXHHdrg\n",
            "  Args:\n",
            "    table_names: Customer\n",
            "=================================\u001b[1m Tool Message \u001b[0m=================================\n",
            "Name: sql_db_schema\n",
            "\n",
            "\n",
            "CREATE TABLE \"Customer\" (\n",
            "\t\"CustomerId\" INTEGER NOT NULL, \n",
            "\t\"FirstName\" NVARCHAR(40) NOT NULL, \n",
            "\t\"LastName\" NVARCHAR(20) NOT NULL, \n",
            "\t\"Company\" NVARCHAR(80), \n",
            "\t\"Address\" NVARCHAR(70), \n",
            "\t\"City\" NVARCHAR(40), \n",
            "\t\"State\" NVARCHAR(40), \n",
            "\t\"Country\" NVARCHAR(40), \n",
            "\t\"PostalCode\" NVARCHAR(10), \n",
            "\t\"Phone\" NVARCHAR(24), \n",
            "\t\"Fax\" NVARCHAR(24), \n",
            "\t\"Email\" NVARCHAR(60) NOT NULL, \n",
            "\t\"SupportRepId\" INTEGER, \n",
            "\tPRIMARY KEY (\"CustomerId\"), \n",
            "\tFOREIGN KEY(\"SupportRepId\") REFERENCES \"Employee\" (\"EmployeeId\")\n",
            ")\n",
            "\n",
            "/*\n",
            "3 rows from Customer table:\n",
            "CustomerId\tFirstName\tLastName\tCompany\tAddress\tCity\tState\tCountry\tPostalCode\tPhone\tFax\tEmail\tSupportRepId\n",
            "1\tLuís\tGonçalves\tEmbraer - Empresa Brasileira de Aeronáutica S.A.\tAv. Brigadeiro Faria Lima, 2170\tSão José dos Campos\tSP\tBrazil\t12227-000\t+55 (12) 3923-5555\t+55 (12) 3923-5566\tluisg@embraer.com.br\t3\n",
            "2\tLeonie\tKöhler\tNone\tTheodor-Heuss-Straße 34\tStuttgart\tNone\tGermany\t70174\t+49 0711 2842222\tNone\tleonekohler@surfeu.de\t5\n",
            "3\tFrançois\tTremblay\tNone\t1498 rue Bélanger\tMontréal\tQC\tCanada\tH2G 1A7\t+1 (514) 721-4711\tNone\tftremblay@gmail.com\t3\n",
            "*/\n",
            "==================================\u001b[1m Ai Message \u001b[0m==================================\n",
            "Tool Calls:\n",
            "  sql_db_query_checker (call_L94u2HCBm4ezsGPljp7UFY49)\n",
            " Call ID: call_L94u2HCBm4ezsGPljp7UFY49\n",
            "  Args:\n",
            "    query: SELECT Country, COUNT(DISTINCT CustomerId) AS UniqueCustomers FROM Customer GROUP BY Country\n",
            "=================================\u001b[1m Tool Message \u001b[0m=================================\n",
            "Name: sql_db_query_checker\n",
            "\n",
            "```sql\n",
            "SELECT Country, COUNT(DISTINCT CustomerId) AS UniqueCustomers FROM Customer GROUP BY Country\n",
            "```\n",
            "==================================\u001b[1m Ai Message \u001b[0m==================================\n",
            "Tool Calls:\n",
            "  sql_db_query (call_L2xS1JBgExR4dsCDKX66JlU8)\n",
            " Call ID: call_L2xS1JBgExR4dsCDKX66JlU8\n",
            "  Args:\n",
            "    query: SELECT Country, COUNT(DISTINCT CustomerId) AS UniqueCustomers FROM Customer GROUP BY Country\n",
            "=================================\u001b[1m Tool Message \u001b[0m=================================\n",
            "Name: sql_db_query\n",
            "\n",
            "[('Argentina', 1), ('Australia', 1), ('Austria', 1), ('Belgium', 1), ('Brazil', 5), ('Canada', 8), ('Chile', 1), ('Czech Republic', 2), ('Denmark', 1), ('Finland', 1), ('France', 5), ('Germany', 4), ('Hungary', 1), ('India', 2), ('Ireland', 1), ('Italy', 1), ('Netherlands', 1), ('Norway', 1), ('Poland', 1), ('Portugal', 2), ('Spain', 1), ('Sweden', 1), ('USA', 13), ('United Kingdom', 3)]\n",
            "==================================\u001b[1m Ai Message \u001b[0m==================================\n",
            "\n",
            "Here are the unique number of customers by country:\n",
            "\n",
            "- Argentina: 1\n",
            "- Australia: 1\n",
            "- Austria: 1\n",
            "- Belgium: 1\n",
            "- Brazil: 5\n",
            "- Canada: 8\n",
            "- Chile: 1\n",
            "- Czech Republic: 2\n",
            "- Denmark: 1\n",
            "- Finland: 1\n",
            "- France: 5\n",
            "- Germany: 4\n",
            "- Hungary: 1\n",
            "- India: 2\n",
            "- Ireland: 1\n",
            "- Italy: 1\n",
            "- Netherlands: 1\n",
            "- Norway: 1\n",
            "- Poland: 1\n",
            "- Portugal: 2\n",
            "- Spain: 1\n",
            "- Sweden: 1\n",
            "- USA: 13\n",
            "- United Kingdom: 3\n"
          ]
        }
      ]
    },
    {
      "cell_type": "markdown",
      "source": [
        "Query 14"
      ],
      "metadata": {
        "id": "jE3QhjPJtkz5"
      }
    },
    {
      "cell_type": "code",
      "source": [
        "question = \"How many times puja is billed and what are the Dates ?\"\n",
        "\n",
        "for step in agent_executor.stream(\n",
        "    {\"messages\": [{\"role\": \"user\", \"content\": question}]},\n",
        "    stream_mode=\"values\",\n",
        "):\n",
        "    step[\"messages\"][-1].pretty_print()"
      ],
      "metadata": {
        "colab": {
          "base_uri": "https://localhost:8080/"
        },
        "id": "O8k2TTR-sCYP",
        "outputId": "3fefad2b-51a7-457f-83db-886d100f3aa1"
      },
      "execution_count": 47,
      "outputs": [
        {
          "output_type": "stream",
          "name": "stdout",
          "text": [
            "================================\u001b[1m Human Message \u001b[0m=================================\n",
            "\n",
            "How many times puja is billed and what are the Dates ?\n",
            "==================================\u001b[1m Ai Message \u001b[0m==================================\n",
            "Tool Calls:\n",
            "  sql_db_list_tables (call_S3w2giOb5L8O4bB3rjHhL3ad)\n",
            " Call ID: call_S3w2giOb5L8O4bB3rjHhL3ad\n",
            "  Args:\n",
            "=================================\u001b[1m Tool Message \u001b[0m=================================\n",
            "Name: sql_db_list_tables\n",
            "\n",
            "Album, Artist, Customer, Employee, Genre, Invoice, InvoiceLine, MediaType, Playlist, PlaylistTrack, Track\n",
            "==================================\u001b[1m Ai Message \u001b[0m==================================\n",
            "Tool Calls:\n",
            "  sql_db_schema (call_x2af5uZDHeDsr4sI52SaiFdF)\n",
            " Call ID: call_x2af5uZDHeDsr4sI52SaiFdF\n",
            "  Args:\n",
            "    table_names: Invoice\n",
            "  sql_db_schema (call_woI0BMUQOgeNLiGImb5NBqWq)\n",
            " Call ID: call_woI0BMUQOgeNLiGImb5NBqWq\n",
            "  Args:\n",
            "    table_names: Customer\n",
            "=================================\u001b[1m Tool Message \u001b[0m=================================\n",
            "Name: sql_db_schema\n",
            "\n",
            "\n",
            "CREATE TABLE \"Customer\" (\n",
            "\t\"CustomerId\" INTEGER NOT NULL, \n",
            "\t\"FirstName\" NVARCHAR(40) NOT NULL, \n",
            "\t\"LastName\" NVARCHAR(20) NOT NULL, \n",
            "\t\"Company\" NVARCHAR(80), \n",
            "\t\"Address\" NVARCHAR(70), \n",
            "\t\"City\" NVARCHAR(40), \n",
            "\t\"State\" NVARCHAR(40), \n",
            "\t\"Country\" NVARCHAR(40), \n",
            "\t\"PostalCode\" NVARCHAR(10), \n",
            "\t\"Phone\" NVARCHAR(24), \n",
            "\t\"Fax\" NVARCHAR(24), \n",
            "\t\"Email\" NVARCHAR(60) NOT NULL, \n",
            "\t\"SupportRepId\" INTEGER, \n",
            "\tPRIMARY KEY (\"CustomerId\"), \n",
            "\tFOREIGN KEY(\"SupportRepId\") REFERENCES \"Employee\" (\"EmployeeId\")\n",
            ")\n",
            "\n",
            "/*\n",
            "3 rows from Customer table:\n",
            "CustomerId\tFirstName\tLastName\tCompany\tAddress\tCity\tState\tCountry\tPostalCode\tPhone\tFax\tEmail\tSupportRepId\n",
            "1\tLuís\tGonçalves\tEmbraer - Empresa Brasileira de Aeronáutica S.A.\tAv. Brigadeiro Faria Lima, 2170\tSão José dos Campos\tSP\tBrazil\t12227-000\t+55 (12) 3923-5555\t+55 (12) 3923-5566\tluisg@embraer.com.br\t3\n",
            "2\tLeonie\tKöhler\tNone\tTheodor-Heuss-Straße 34\tStuttgart\tNone\tGermany\t70174\t+49 0711 2842222\tNone\tleonekohler@surfeu.de\t5\n",
            "3\tFrançois\tTremblay\tNone\t1498 rue Bélanger\tMontréal\tQC\tCanada\tH2G 1A7\t+1 (514) 721-4711\tNone\tftremblay@gmail.com\t3\n",
            "*/\n",
            "==================================\u001b[1m Ai Message \u001b[0m==================================\n",
            "Tool Calls:\n",
            "  sql_db_query_checker (call_MQS4d8O7Z74QhWNXnA4qNbS0)\n",
            " Call ID: call_MQS4d8O7Z74QhWNXnA4qNbS0\n",
            "  Args:\n",
            "    query: SELECT COUNT(i.InvoiceId) AS TimesBilled, i.InvoiceDate FROM Invoice i JOIN Customer c ON i.CustomerId = c.CustomerId WHERE c.FirstName = 'Puja' GROUP BY i.InvoiceDate\n",
            "=================================\u001b[1m Tool Message \u001b[0m=================================\n",
            "Name: sql_db_query_checker\n",
            "\n",
            "```sql\n",
            "SELECT COUNT(i.InvoiceId) AS TimesBilled, i.InvoiceDate FROM Invoice i JOIN Customer c ON i.CustomerId = c.CustomerId WHERE c.FirstName = 'Puja' GROUP BY i.InvoiceDate\n",
            "```\n",
            "==================================\u001b[1m Ai Message \u001b[0m==================================\n",
            "Tool Calls:\n",
            "  sql_db_query (call_o10K6We6SCjIREvhwmJR4KDe)\n",
            " Call ID: call_o10K6We6SCjIREvhwmJR4KDe\n",
            "  Args:\n",
            "    query: SELECT COUNT(i.InvoiceId) AS TimesBilled, i.InvoiceDate FROM Invoice i JOIN Customer c ON i.CustomerId = c.CustomerId WHERE c.FirstName = 'Puja' GROUP BY i.InvoiceDate\n",
            "=================================\u001b[1m Tool Message \u001b[0m=================================\n",
            "Name: sql_db_query\n",
            "\n",
            "[(1, '2021-04-05 00:00:00'), (1, '2021-07-08 00:00:00'), (1, '2022-02-26 00:00:00'), (1, '2023-08-20 00:00:00'), (1, '2023-09-30 00:00:00'), (1, '2024-05-30 00:00:00')]\n",
            "==================================\u001b[1m Ai Message \u001b[0m==================================\n",
            "\n",
            "Puja has been billed a total of 5 times, on the following dates:\n",
            "\n",
            "1. April 5, 2021\n",
            "2. July 8, 2021\n",
            "3. February 26, 2022\n",
            "4. August 20, 2023\n",
            "5. September 30, 2023\n",
            "6. May 30, 2024\n"
          ]
        }
      ]
    },
    {
      "cell_type": "markdown",
      "source": [
        "Query 15"
      ],
      "metadata": {
        "id": "BGVOskQVtnp_"
      }
    },
    {
      "cell_type": "code",
      "source": [
        "question = \"How many times Hannah is billed and what are the Dates ?\"\n",
        "\n",
        "for step in agent_executor.stream(\n",
        "    {\"messages\": [{\"role\": \"user\", \"content\": question}]},\n",
        "    stream_mode=\"values\",\n",
        "):\n",
        "    step[\"messages\"][-1].pretty_print()"
      ],
      "metadata": {
        "colab": {
          "base_uri": "https://localhost:8080/"
        },
        "id": "tqpjDxyVsdEK",
        "outputId": "10925396-8dd5-4682-8c3f-a710666b6394"
      },
      "execution_count": 48,
      "outputs": [
        {
          "output_type": "stream",
          "name": "stdout",
          "text": [
            "================================\u001b[1m Human Message \u001b[0m=================================\n",
            "\n",
            "How many times Hannah is billed and what are the Dates ?\n",
            "==================================\u001b[1m Ai Message \u001b[0m==================================\n",
            "Tool Calls:\n",
            "  sql_db_list_tables (call_o711TcGQZcbo3fUmmYmPdM0m)\n",
            " Call ID: call_o711TcGQZcbo3fUmmYmPdM0m\n",
            "  Args:\n",
            "=================================\u001b[1m Tool Message \u001b[0m=================================\n",
            "Name: sql_db_list_tables\n",
            "\n",
            "Album, Artist, Customer, Employee, Genre, Invoice, InvoiceLine, MediaType, Playlist, PlaylistTrack, Track\n",
            "==================================\u001b[1m Ai Message \u001b[0m==================================\n",
            "Tool Calls:\n",
            "  sql_db_schema (call_ILQdV8KPOuxreexK4Y2RqdO1)\n",
            " Call ID: call_ILQdV8KPOuxreexK4Y2RqdO1\n",
            "  Args:\n",
            "    table_names: Customer\n",
            "  sql_db_schema (call_LFgu2ac2QTlJJgUnwS3m9v0r)\n",
            " Call ID: call_LFgu2ac2QTlJJgUnwS3m9v0r\n",
            "  Args:\n",
            "    table_names: Invoice\n",
            "=================================\u001b[1m Tool Message \u001b[0m=================================\n",
            "Name: sql_db_schema\n",
            "\n",
            "\n",
            "CREATE TABLE \"Invoice\" (\n",
            "\t\"InvoiceId\" INTEGER NOT NULL, \n",
            "\t\"CustomerId\" INTEGER NOT NULL, \n",
            "\t\"InvoiceDate\" DATETIME NOT NULL, \n",
            "\t\"BillingAddress\" NVARCHAR(70), \n",
            "\t\"BillingCity\" NVARCHAR(40), \n",
            "\t\"BillingState\" NVARCHAR(40), \n",
            "\t\"BillingCountry\" NVARCHAR(40), \n",
            "\t\"BillingPostalCode\" NVARCHAR(10), \n",
            "\t\"Total\" NUMERIC(10, 2) NOT NULL, \n",
            "\tPRIMARY KEY (\"InvoiceId\"), \n",
            "\tFOREIGN KEY(\"CustomerId\") REFERENCES \"Customer\" (\"CustomerId\")\n",
            ")\n",
            "\n",
            "/*\n",
            "3 rows from Invoice table:\n",
            "InvoiceId\tCustomerId\tInvoiceDate\tBillingAddress\tBillingCity\tBillingState\tBillingCountry\tBillingPostalCode\tTotal\n",
            "1\t2\t2021-01-01 00:00:00\tTheodor-Heuss-Straße 34\tStuttgart\tNone\tGermany\t70174\t1.98\n",
            "2\t4\t2021-01-02 00:00:00\tUllevålsveien 14\tOslo\tNone\tNorway\t0171\t3.96\n",
            "3\t8\t2021-01-03 00:00:00\tGrétrystraat 63\tBrussels\tNone\tBelgium\t1000\t5.94\n",
            "*/\n",
            "==================================\u001b[1m Ai Message \u001b[0m==================================\n",
            "Tool Calls:\n",
            "  sql_db_query (call_pNZhpUY1Jx3NQAtED1oVbq8f)\n",
            " Call ID: call_pNZhpUY1Jx3NQAtED1oVbq8f\n",
            "  Args:\n",
            "    query: SELECT COUNT(Invoice.InvoiceId) AS BillingCount, Invoice.InvoiceDate \n",
            "FROM Invoice \n",
            "JOIN Customer ON Invoice.CustomerId = Customer.CustomerId \n",
            "WHERE Customer.FirstName = 'Hannah' \n",
            "GROUP BY Invoice.InvoiceDate \n",
            "ORDER BY Invoice.InvoiceDate;\n",
            "=================================\u001b[1m Tool Message \u001b[0m=================================\n",
            "Name: sql_db_query\n",
            "\n",
            "[(1, '2021-05-05 00:00:00'), (1, '2021-06-15 00:00:00'), (1, '2022-02-13 00:00:00'), (1, '2023-09-20 00:00:00'), (1, '2023-12-23 00:00:00'), (1, '2024-03-26 00:00:00'), (1, '2024-11-14 00:00:00')]\n",
            "==================================\u001b[1m Ai Message \u001b[0m==================================\n",
            "\n",
            "Hannah has been billed a total of 7 times on the following dates:\n",
            "\n",
            "1. 2021-05-05\n",
            "2. 2021-06-15\n",
            "3. 2022-02-13\n",
            "4. 2023-09-20\n",
            "5. 2023-12-23\n",
            "6. 2024-03-26\n",
            "7. 2024-11-14\n",
            "\n",
            "Each entry represents a separate billing instance.\n"
          ]
        }
      ]
    },
    {
      "cell_type": "markdown",
      "source": [
        "Query 16"
      ],
      "metadata": {
        "id": "bi14Sm60tqfV"
      }
    },
    {
      "cell_type": "code",
      "source": [
        "question = \"Which customer is billed the most and what are the dates ?\"\n",
        "\n",
        "for step in agent_executor.stream(\n",
        "    {\"messages\": [{\"role\": \"user\", \"content\": question}]},\n",
        "    stream_mode=\"values\",\n",
        "):\n",
        "    step[\"messages\"][-1].pretty_print()"
      ],
      "metadata": {
        "colab": {
          "base_uri": "https://localhost:8080/"
        },
        "id": "m-boMNhMsu09",
        "outputId": "3daf6309-61e1-4585-c9fb-5723f459ce31"
      },
      "execution_count": 49,
      "outputs": [
        {
          "output_type": "stream",
          "name": "stdout",
          "text": [
            "================================\u001b[1m Human Message \u001b[0m=================================\n",
            "\n",
            "Which customer is billed the most and what are the dates ?\n",
            "==================================\u001b[1m Ai Message \u001b[0m==================================\n",
            "Tool Calls:\n",
            "  sql_db_list_tables (call_HVyJZKLiDVYkyrXGvfOJy5Fb)\n",
            " Call ID: call_HVyJZKLiDVYkyrXGvfOJy5Fb\n",
            "  Args:\n",
            "=================================\u001b[1m Tool Message \u001b[0m=================================\n",
            "Name: sql_db_list_tables\n",
            "\n",
            "Album, Artist, Customer, Employee, Genre, Invoice, InvoiceLine, MediaType, Playlist, PlaylistTrack, Track\n",
            "==================================\u001b[1m Ai Message \u001b[0m==================================\n",
            "Tool Calls:\n",
            "  sql_db_schema (call_nZaUhqgOEXVmnS0lC4DbvyNt)\n",
            " Call ID: call_nZaUhqgOEXVmnS0lC4DbvyNt\n",
            "  Args:\n",
            "    table_names: Customer, Invoice\n",
            "  sql_db_schema (call_8KSwZRsSJ1uaWIARpeEOer8R)\n",
            " Call ID: call_8KSwZRsSJ1uaWIARpeEOer8R\n",
            "  Args:\n",
            "    table_names: InvoiceLine\n",
            "=================================\u001b[1m Tool Message \u001b[0m=================================\n",
            "Name: sql_db_schema\n",
            "\n",
            "\n",
            "CREATE TABLE \"InvoiceLine\" (\n",
            "\t\"InvoiceLineId\" INTEGER NOT NULL, \n",
            "\t\"InvoiceId\" INTEGER NOT NULL, \n",
            "\t\"TrackId\" INTEGER NOT NULL, \n",
            "\t\"UnitPrice\" NUMERIC(10, 2) NOT NULL, \n",
            "\t\"Quantity\" INTEGER NOT NULL, \n",
            "\tPRIMARY KEY (\"InvoiceLineId\"), \n",
            "\tFOREIGN KEY(\"TrackId\") REFERENCES \"Track\" (\"TrackId\"), \n",
            "\tFOREIGN KEY(\"InvoiceId\") REFERENCES \"Invoice\" (\"InvoiceId\")\n",
            ")\n",
            "\n",
            "/*\n",
            "3 rows from InvoiceLine table:\n",
            "InvoiceLineId\tInvoiceId\tTrackId\tUnitPrice\tQuantity\n",
            "1\t1\t2\t0.99\t1\n",
            "2\t1\t4\t0.99\t1\n",
            "3\t2\t6\t0.99\t1\n",
            "*/\n",
            "==================================\u001b[1m Ai Message \u001b[0m==================================\n",
            "Tool Calls:\n",
            "  sql_db_query (call_qpwbso4vMun4wkQvvK0IbgR5)\n",
            " Call ID: call_qpwbso4vMun4wkQvvK0IbgR5\n",
            "  Args:\n",
            "    query: SELECT c.FirstName, c.LastName, SUM(i.Total) AS TotalSpent, GROUP_CONCAT(i.InvoiceDate) AS InvoiceDates \n",
            "FROM Customer c \n",
            "JOIN Invoice i ON c.CustomerId = i.CustomerId \n",
            "GROUP BY c.CustomerId \n",
            "ORDER BY TotalSpent DESC \n",
            "LIMIT 5;\n",
            "=================================\u001b[1m Tool Message \u001b[0m=================================\n",
            "Name: sql_db_query\n",
            "\n",
            "[('Helena', 'Holý', 49.620000000000005, '2021-07-11 00:00:00,2023-02-15 00:00:00,2023-05-20 00:00:00,2023-08-22 00:00:00,2024-04-11 00:00:00,2025-10-03 00:00:00,2025-11-13 00:00:00'), ('Richard', 'Cunningham', 47.620000000000005, '2021-11-07 00:00:00,2022-02-09 00:00:00,2022-05-14 00:00:00,2023-01-02 00:00:00,2024-06-25 00:00:00,2024-08-05 00:00:00,2025-04-05 00:00:00'), ('Luis', 'Rojas', 46.62, '2021-04-04 00:00:00,2021-05-15 00:00:00,2022-01-13 00:00:00,2023-08-20 00:00:00,2023-11-22 00:00:00,2024-02-24 00:00:00,2024-10-14 00:00:00'), ('Ladislav', 'Kovács', 45.62, '2022-01-08 00:00:00,2022-02-18 00:00:00,2022-10-19 00:00:00,2024-05-25 00:00:00,2024-08-27 00:00:00,2024-11-29 00:00:00,2025-07-20 00:00:00'), ('Hugh', \"O'Reilly\", 45.62, '2021-02-03 00:00:00,2021-09-24 00:00:00,2023-03-18 00:00:00,2023-04-28 00:00:00,2023-12-27 00:00:00,2025-08-02 00:00:00,2025-11-04 00:00:00')]\n",
            "==================================\u001b[1m Ai Message \u001b[0m==================================\n",
            "\n",
            "The customer billed the most is **Helena Holý**, with a total spending of **$49.62**. The dates of her invoices are:\n",
            "- 2021-07-11\n",
            "- 2023-02-15\n",
            "- 2023-05-20\n",
            "- 2023-08-22\n",
            "- 2024-04-11\n",
            "- 2025-10-03\n",
            "- 2025-11-13\n",
            "\n",
            "If you need more information or details about other customers, feel free to ask!\n"
          ]
        }
      ]
    },
    {
      "cell_type": "markdown",
      "source": [
        "# 6. Dealing with high-cardinality columns\n",
        "\n",
        "In order to filter columns that contain proper nouns such as addresses, song names or artists, we first need to double-check the spelling in order to filter the data correctly.\n",
        "\n",
        "We can achieve this by creating a vector store with all the distinct proper nouns that exist in the database. We can then have the agent query that vector store each time the user includes a proper noun in their question, to find the correct spelling for that word. In this way, the agent can make sure it understands which entity the user is referring to before building the target query."
      ],
      "metadata": {
        "id": "jzncElWilUG4"
      }
    },
    {
      "cell_type": "markdown",
      "source": [
        "### Utility function to parse the result\n",
        "\n",
        "This code defines a utility function to extract unique strings from database query results, removing numbers and duplicates. It then applies this function to retrieve lists of artists and albums from the Chinook database, and displays the first five albums. This is useful for creating lists of vocabulary from a database"
      ],
      "metadata": {
        "id": "_lZ52EGuuW-K"
      }
    },
    {
      "cell_type": "code",
      "source": [
        "import ast\n",
        "import re\n",
        "\n",
        "\n",
        "def query_as_list(db, query):\n",
        "    res = db.run(query)\n",
        "    res = [el for sub in ast.literal_eval(res) for el in sub if el]\n",
        "    res = [re.sub(r\"\\b\\d+\\b\", \"\", string).strip() for string in res]\n",
        "    return list(set(res))\n",
        "\n",
        "\n",
        "artists = query_as_list(db, \"SELECT Name FROM Artist\")\n",
        "albums = query_as_list(db, \"SELECT Title FROM Album\")\n",
        "albums[:5]"
      ],
      "metadata": {
        "colab": {
          "base_uri": "https://localhost:8080/"
        },
        "id": "Tx1cfmQ1rPUN",
        "outputId": "5af4691c-d787-433c-8909-0f183fa1f69b"
      },
      "execution_count": 50,
      "outputs": [
        {
          "output_type": "execute_result",
          "data": {
            "text/plain": [
              "['Let There Be Rock',\n",
              " 'Cássia Eller - Sem Limite [Disc ]',\n",
              " 'Appetite for Destruction',\n",
              " 'Album Of The Year',\n",
              " 'Ace Of Spades']"
            ]
          },
          "metadata": {},
          "execution_count": 50
        }
      ]
    },
    {
      "cell_type": "markdown",
      "source": [
        "### Select the embedding model"
      ],
      "metadata": {
        "id": "RLBYvzR6ui48"
      }
    },
    {
      "cell_type": "code",
      "source": [
        "import getpass\n",
        "import os\n",
        "\n",
        "if not os.environ.get(\"OPENAI_API_KEY\"):\n",
        "  os.environ[\"OPENAI_API_KEY\"] = getpass.getpass(\"Enter API key for OpenAI: \")\n",
        "\n",
        "from langchain_openai import OpenAIEmbeddings\n",
        "\n",
        "embeddings = OpenAIEmbeddings(model=\"text-embedding-3-large\")"
      ],
      "metadata": {
        "id": "EmEzW33nrfKz"
      },
      "execution_count": 51,
      "outputs": []
    },
    {
      "cell_type": "markdown",
      "source": [
        "### Select the vector store and initialize it"
      ],
      "metadata": {
        "id": "T2XdH_Houte_"
      }
    },
    {
      "cell_type": "code",
      "source": [
        "pip install -qU langchain-chroma"
      ],
      "metadata": {
        "colab": {
          "base_uri": "https://localhost:8080/"
        },
        "id": "PFIGAmWYu5si",
        "outputId": "687a9a2c-f505-4d1c-ec1a-8960e0f016ef"
      },
      "execution_count": 53,
      "outputs": [
        {
          "output_type": "stream",
          "name": "stdout",
          "text": [
            "\u001b[?25l     \u001b[90m━━━━━━━━━━━━━━━━━━━━━━━━━━━━━━━━━━━━━━━━\u001b[0m \u001b[32m0.0/67.3 kB\u001b[0m \u001b[31m?\u001b[0m eta \u001b[36m-:--:--\u001b[0m\r\u001b[2K     \u001b[90m━━━━━━━━━━━━━━━━━━━━━━━━━━━━━━━━━━━━━━━━\u001b[0m \u001b[32m67.3/67.3 kB\u001b[0m \u001b[31m3.0 MB/s\u001b[0m eta \u001b[36m0:00:00\u001b[0m\n",
            "\u001b[?25h  Installing build dependencies ... \u001b[?25l\u001b[?25hdone\n",
            "  Getting requirements to build wheel ... \u001b[?25l\u001b[?25hdone\n",
            "  Preparing metadata (pyproject.toml) ... \u001b[?25l\u001b[?25hdone\n",
            "\u001b[2K   \u001b[90m━━━━━━━━━━━━━━━━━━━━━━━━━━━━━━━━━━━━━━━━\u001b[0m \u001b[32m611.1/611.1 kB\u001b[0m \u001b[31m13.6 MB/s\u001b[0m eta \u001b[36m0:00:00\u001b[0m\n",
            "\u001b[2K   \u001b[90m━━━━━━━━━━━━━━━━━━━━━━━━━━━━━━━━━━━━━━━━\u001b[0m \u001b[32m2.4/2.4 MB\u001b[0m \u001b[31m45.8 MB/s\u001b[0m eta \u001b[36m0:00:00\u001b[0m\n",
            "\u001b[2K   \u001b[90m━━━━━━━━━━━━━━━━━━━━━━━━━━━━━━━━━━━━━━━━\u001b[0m \u001b[32m278.6/278.6 kB\u001b[0m \u001b[31m17.5 MB/s\u001b[0m eta \u001b[36m0:00:00\u001b[0m\n",
            "\u001b[2K   \u001b[90m━━━━━━━━━━━━━━━━━━━━━━━━━━━━━━━━━━━━━━━━\u001b[0m \u001b[32m94.8/94.8 kB\u001b[0m \u001b[31m6.6 MB/s\u001b[0m eta \u001b[36m0:00:00\u001b[0m\n",
            "\u001b[2K   \u001b[90m━━━━━━━━━━━━━━━━━━━━━━━━━━━━━━━━━━━━━━━━\u001b[0m \u001b[32m2.0/2.0 MB\u001b[0m \u001b[31m54.1 MB/s\u001b[0m eta \u001b[36m0:00:00\u001b[0m\n",
            "\u001b[2K   \u001b[90m━━━━━━━━━━━━━━━━━━━━━━━━━━━━━━━━━━━━━━━━\u001b[0m \u001b[32m101.6/101.6 kB\u001b[0m \u001b[31m7.7 MB/s\u001b[0m eta \u001b[36m0:00:00\u001b[0m\n",
            "\u001b[2K   \u001b[90m━━━━━━━━━━━━━━━━━━━━━━━━━━━━━━━━━━━━━━━━\u001b[0m \u001b[32m13.3/13.3 MB\u001b[0m \u001b[31m60.3 MB/s\u001b[0m eta \u001b[36m0:00:00\u001b[0m\n",
            "\u001b[2K   \u001b[90m━━━━━━━━━━━━━━━━━━━━━━━━━━━━━━━━━━━━━━━━\u001b[0m \u001b[32m55.9/55.9 kB\u001b[0m \u001b[31m3.7 MB/s\u001b[0m eta \u001b[36m0:00:00\u001b[0m\n",
            "\u001b[2K   \u001b[90m━━━━━━━━━━━━━━━━━━━━━━━━━━━━━━━━━━━━━━━━\u001b[0m \u001b[32m177.4/177.4 kB\u001b[0m \u001b[31m10.8 MB/s\u001b[0m eta \u001b[36m0:00:00\u001b[0m\n",
            "\u001b[2K   \u001b[90m━━━━━━━━━━━━━━━━━━━━━━━━━━━━━━━━━━━━━━━━\u001b[0m \u001b[32m65.0/65.0 kB\u001b[0m \u001b[31m4.6 MB/s\u001b[0m eta \u001b[36m0:00:00\u001b[0m\n",
            "\u001b[2K   \u001b[90m━━━━━━━━━━━━━━━━━━━━━━━━━━━━━━━━━━━━━━━━\u001b[0m \u001b[32m118.7/118.7 kB\u001b[0m \u001b[31m8.7 MB/s\u001b[0m eta \u001b[36m0:00:00\u001b[0m\n",
            "\u001b[2K   \u001b[90m━━━━━━━━━━━━━━━━━━━━━━━━━━━━━━━━━━━━━━━━\u001b[0m \u001b[32m74.7/74.7 kB\u001b[0m \u001b[31m5.4 MB/s\u001b[0m eta \u001b[36m0:00:00\u001b[0m\n",
            "\u001b[2K   \u001b[90m━━━━━━━━━━━━━━━━━━━━━━━━━━━━━━━━━━━━━━━━\u001b[0m \u001b[32m62.3/62.3 kB\u001b[0m \u001b[31m4.3 MB/s\u001b[0m eta \u001b[36m0:00:00\u001b[0m\n",
            "\u001b[2K   \u001b[90m━━━━━━━━━━━━━━━━━━━━━━━━━━━━━━━━━━━━━━━━\u001b[0m \u001b[32m459.8/459.8 kB\u001b[0m \u001b[31m26.7 MB/s\u001b[0m eta \u001b[36m0:00:00\u001b[0m\n",
            "\u001b[2K   \u001b[90m━━━━━━━━━━━━━━━━━━━━━━━━━━━━━━━━━━━━━━━━\u001b[0m \u001b[32m319.7/319.7 kB\u001b[0m \u001b[31m18.9 MB/s\u001b[0m eta \u001b[36m0:00:00\u001b[0m\n",
            "\u001b[2K   \u001b[90m━━━━━━━━━━━━━━━━━━━━━━━━━━━━━━━━━━━━━━━━\u001b[0m \u001b[32m71.5/71.5 kB\u001b[0m \u001b[31m4.0 MB/s\u001b[0m eta \u001b[36m0:00:00\u001b[0m\n",
            "\u001b[2K   \u001b[90m━━━━━━━━━━━━━━━━━━━━━━━━━━━━━━━━━━━━━━━━\u001b[0m \u001b[32m4.0/4.0 MB\u001b[0m \u001b[31m81.7 MB/s\u001b[0m eta \u001b[36m0:00:00\u001b[0m\n",
            "\u001b[2K   \u001b[90m━━━━━━━━━━━━━━━━━━━━━━━━━━━━━━━━━━━━━━━━\u001b[0m \u001b[32m452.6/452.6 kB\u001b[0m \u001b[31m27.2 MB/s\u001b[0m eta \u001b[36m0:00:00\u001b[0m\n",
            "\u001b[2K   \u001b[90m━━━━━━━━━━━━━━━━━━━━━━━━━━━━━━━━━━━━━━━━\u001b[0m \u001b[32m46.0/46.0 kB\u001b[0m \u001b[31m2.9 MB/s\u001b[0m eta \u001b[36m0:00:00\u001b[0m\n",
            "\u001b[2K   \u001b[90m━━━━━━━━━━━━━━━━━━━━━━━━━━━━━━━━━━━━━━━━\u001b[0m \u001b[32m86.8/86.8 kB\u001b[0m \u001b[31m6.4 MB/s\u001b[0m eta \u001b[36m0:00:00\u001b[0m\n",
            "\u001b[?25h  Building wheel for pypika (pyproject.toml) ... \u001b[?25l\u001b[?25hdone\n"
          ]
        }
      ]
    },
    {
      "cell_type": "code",
      "source": [
        "from langchain_chroma import Chroma\n",
        "\n",
        "vector_store = Chroma(embedding_function=embeddings , persist_directory=\"db\")"
      ],
      "metadata": {
        "id": "RRI8CN97rlEo"
      },
      "execution_count": 54,
      "outputs": []
    },
    {
      "cell_type": "markdown",
      "source": [
        "### Construct a retriver tool to search over relevant proper nouns in the database"
      ],
      "metadata": {
        "id": "fNvm9Npmva_Y"
      }
    },
    {
      "cell_type": "code",
      "source": [
        "from langchain.agents.agent_toolkits import create_retriever_tool\n",
        "\n",
        "_ = vector_store.add_texts(artists + albums)\n",
        "retriever = vector_store.as_retriever(search_kwargs={\"k\": 5})\n",
        "description = (\n",
        "    \"Use to look up values to filter on. Input is an approximate spelling \"\n",
        "    \"of the proper noun, output is valid proper nouns. Use the noun most \"\n",
        "    \"similar to the search.\"\n",
        ")\n",
        "retriever_tool = create_retriever_tool(\n",
        "    retriever,\n",
        "    name=\"search_proper_nouns\",\n",
        "    description=description,\n",
        ")"
      ],
      "metadata": {
        "id": "8ym3mEK7roiY"
      },
      "execution_count": 55,
      "outputs": []
    },
    {
      "cell_type": "markdown",
      "source": [
        "### Execute the retriever"
      ],
      "metadata": {
        "id": "WlVu636XwLZM"
      }
    },
    {
      "cell_type": "code",
      "source": [
        "print(retriever_tool.invoke(\"Alice Chains\"))"
      ],
      "metadata": {
        "colab": {
          "base_uri": "https://localhost:8080/"
        },
        "id": "y242mo8Yrrc1",
        "outputId": "40c32b71-08c9-45c9-a228-c04f330998ed"
      },
      "execution_count": 56,
      "outputs": [
        {
          "output_type": "stream",
          "name": "stdout",
          "text": [
            "Alice In Chains\n",
            "\n",
            "Alanis Morissette\n",
            "\n",
            "Jagged Little Pill\n",
            "\n",
            "Angel Dust\n",
            "\n",
            "Amy Winehouse\n"
          ]
        }
      ]
    },
    {
      "cell_type": "markdown",
      "source": [
        "This way, if the agent determines it needs to write a filter based on an artist along the lines of \"Alice Chains\", it can first use the retriever tool to observe relevant values of a column."
      ],
      "metadata": {
        "id": "i7QkSDkOxR_d"
      }
    },
    {
      "cell_type": "code",
      "source": [
        "print(retriever_tool.invoke(\"guns\"))"
      ],
      "metadata": {
        "colab": {
          "base_uri": "https://localhost:8080/"
        },
        "id": "sTpDfqU_weNv",
        "outputId": "ab90aec5-14cd-4033-8523-8dad4234bbb9"
      },
      "execution_count": 63,
      "outputs": [
        {
          "output_type": "stream",
          "name": "stdout",
          "text": [
            "Guns N' Roses\n",
            "\n",
            "War\n",
            "\n",
            "Heroes\n",
            "\n",
            "Killers\n",
            "\n",
            "Sex Machine\n"
          ]
        }
      ]
    },
    {
      "cell_type": "markdown",
      "source": [
        "### Redefine the Agent"
      ],
      "metadata": {
        "id": "siS2nPZrxki1"
      }
    },
    {
      "cell_type": "code",
      "source": [
        "# Add to system message\n",
        "suffix = (\n",
        "    \"If you need to filter on a proper noun like a Name, you must ALWAYS first look up \"\n",
        "    \"the filter value using the 'search_proper_nouns' tool! Do not try to \"\n",
        "    \"guess at the proper name - use this function to find similar ones.\"\n",
        ")\n",
        "\n",
        "system = f\"{system_message}\\n\\n{suffix}\"\n",
        "\n",
        "tools.append(retriever_tool)\n",
        "\n",
        "agent = create_react_agent(llm, tools, prompt=system)"
      ],
      "metadata": {
        "id": "Cp8-Bi2QsT1Q"
      },
      "execution_count": 64,
      "outputs": []
    },
    {
      "cell_type": "code",
      "source": [
        "question = \"How many albums does alis in chain have?\"\n",
        "\n",
        "for step in agent.stream(\n",
        "    {\"messages\": [{\"role\": \"user\", \"content\": question}]},\n",
        "    stream_mode=\"values\",\n",
        "):\n",
        "    step[\"messages\"][-1].pretty_print()"
      ],
      "metadata": {
        "colab": {
          "base_uri": "https://localhost:8080/"
        },
        "id": "uE6MDEMosaG-",
        "outputId": "ba595a7d-50f3-4eae-b9e2-48341bbee81f"
      },
      "execution_count": 65,
      "outputs": [
        {
          "output_type": "stream",
          "name": "stdout",
          "text": [
            "================================\u001b[1m Human Message \u001b[0m=================================\n",
            "\n",
            "How many albums does alis in chain have?\n",
            "==================================\u001b[1m Ai Message \u001b[0m==================================\n",
            "Tool Calls:\n",
            "  sql_db_list_tables (call_Jrw2DPw49ST1MHmneMnwtvlc)\n",
            " Call ID: call_Jrw2DPw49ST1MHmneMnwtvlc\n",
            "  Args:\n",
            "=================================\u001b[1m Tool Message \u001b[0m=================================\n",
            "Name: sql_db_list_tables\n",
            "\n",
            "Album, Artist, Customer, Employee, Genre, Invoice, InvoiceLine, MediaType, Playlist, PlaylistTrack, Track\n",
            "==================================\u001b[1m Ai Message \u001b[0m==================================\n",
            "Tool Calls:\n",
            "  sql_db_schema (call_H8FXvTGtgqQd6TCo5QOjxtRd)\n",
            " Call ID: call_H8FXvTGtgqQd6TCo5QOjxtRd\n",
            "  Args:\n",
            "    table_names: Artist, Album\n",
            "=================================\u001b[1m Tool Message \u001b[0m=================================\n",
            "Name: sql_db_schema\n",
            "\n",
            "\n",
            "CREATE TABLE \"Album\" (\n",
            "\t\"AlbumId\" INTEGER NOT NULL, \n",
            "\t\"Title\" NVARCHAR(160) NOT NULL, \n",
            "\t\"ArtistId\" INTEGER NOT NULL, \n",
            "\tPRIMARY KEY (\"AlbumId\"), \n",
            "\tFOREIGN KEY(\"ArtistId\") REFERENCES \"Artist\" (\"ArtistId\")\n",
            ")\n",
            "\n",
            "/*\n",
            "3 rows from Album table:\n",
            "AlbumId\tTitle\tArtistId\n",
            "1\tFor Those About To Rock We Salute You\t1\n",
            "2\tBalls to the Wall\t2\n",
            "3\tRestless and Wild\t2\n",
            "*/\n",
            "\n",
            "\n",
            "CREATE TABLE \"Artist\" (\n",
            "\t\"ArtistId\" INTEGER NOT NULL, \n",
            "\t\"Name\" NVARCHAR(120), \n",
            "\tPRIMARY KEY (\"ArtistId\")\n",
            ")\n",
            "\n",
            "/*\n",
            "3 rows from Artist table:\n",
            "ArtistId\tName\n",
            "1\tAC/DC\n",
            "2\tAccept\n",
            "3\tAerosmith\n",
            "*/\n",
            "==================================\u001b[1m Ai Message \u001b[0m==================================\n",
            "Tool Calls:\n",
            "  search_proper_nouns (call_xaFMFaU606GckL2mSK2nfn7z)\n",
            " Call ID: call_xaFMFaU606GckL2mSK2nfn7z\n",
            "  Args:\n",
            "    query: alis in chain\n",
            "=================================\u001b[1m Tool Message \u001b[0m=================================\n",
            "Name: search_proper_nouns\n",
            "\n",
            "Alice In Chains\n",
            "\n",
            "Alanis Morissette\n",
            "\n",
            "Up An' Atom\n",
            "\n",
            "A-Sides\n",
            "\n",
            "Jagged Little Pill\n",
            "==================================\u001b[1m Ai Message \u001b[0m==================================\n",
            "Tool Calls:\n",
            "  sql_db_query (call_5CLlBU3clY3NrurxEFp26KmI)\n",
            " Call ID: call_5CLlBU3clY3NrurxEFp26KmI\n",
            "  Args:\n",
            "    query: SELECT COUNT(*) as AlbumCount FROM Album WHERE ArtistId = (SELECT ArtistId FROM Artist WHERE Name = 'Alice In Chains')\n",
            "=================================\u001b[1m Tool Message \u001b[0m=================================\n",
            "Name: sql_db_query\n",
            "\n",
            "[(1,)]\n",
            "==================================\u001b[1m Ai Message \u001b[0m==================================\n",
            "\n",
            "Alice In Chains has 1 album in the database.\n"
          ]
        }
      ]
    },
    {
      "cell_type": "markdown",
      "source": [
        "### Output Explanation\n",
        "\n",
        "This output demonstrates the execution of a LangChain agent designed to answer a user's question about the number of albums an artist has in a SQL database (the Chinook database). Let's break down the process step by step:\n",
        "\n",
        "1. User Question:\n",
        "\n",
        "================================ Human Message =================================\n",
        "\n",
        "How many albums does alis in chain have?\n",
        "\n",
        "The user asks a question about the number of albums an artist has. Note the slight misspelling of \"Alice In Chains\".\n",
        "\n",
        "2. Agent's Tool Selection (List Tables):\n",
        "\n",
        "================================== Ai Message ==================================\n",
        "Tool Calls:\n",
        "  sql_db_list_tables (call_Jrw2DPw49ST1MHmneMnwtvlc)\n",
        " Call ID: call_Jrw2DPw49ST1MHmneMnwtvlc\n",
        "  Args:\n",
        "\n",
        "The agent starts by using the sql_db_list_tables tool to understand the available tables in the database.\n",
        "\n",
        "3. Tool Output (List Tables):\n",
        "\n",
        "================================= Tool Message =================================\n",
        "Name: sql_db_list_tables\n",
        "\n",
        "Album, Artist, Customer, Employee, Genre, Invoice, InvoiceLine, MediaType, Playlist, PlaylistTrack, Track\n",
        "\n",
        "The tool returns a list of table names.\n",
        "\n",
        "4. Agent's Tool Selection (Schema Inspection):\n",
        "\n",
        "================================== Ai Message ==================================\n",
        "Tool Calls:\n",
        "  sql_db_schema (call_H8FXvTGtgqQd6TCo5QOjxtRd)\n",
        " Call ID: call_H8FXvTGtgqQd6TCo5QOjxtRd\n",
        "  Args:\n",
        "    table_names: Artist, Album\n",
        "\n",
        "The agent uses the sql_db_schema tool to inspect the schemas of the Artist and Album tables, as these are likely relevant to the question.\n",
        "\n",
        "5. Tool Output (Schema Inspection):\n",
        "\n",
        "================================= Tool Message =================================\n",
        "Name: sql_db_schema\n",
        "\n",
        "CREATE TABLE \"Album\" (...)\n",
        "CREATE TABLE \"Artist\" (...)\n",
        "\n",
        "The tool returns the schema definitions for both tables, including columns, data types, and relationships.\n",
        "\n",
        "6. Agent's Tool Selection (Search Proper Nouns):\n",
        "\n",
        "================================== Ai Message ==================================\n",
        "Tool Calls:\n",
        "  search_proper_nouns (call_xaFMFaU606GckL2mSK2nfn7z)\n",
        " Call ID: call_xaFMFaU606GckL2mSK2nfn7z\n",
        "  Args:\n",
        "    query: alis in chain\n",
        "\n",
        "The agent uses a tool called search_proper_nouns. This is the  custom tool designed to handle potential misspellings or variations in artist names.\n",
        "The tool is given the original user input of \"alis in chain\".\n",
        "\n",
        "7. Tool Output (Search Proper Nouns):\n",
        "\n",
        "================================= Tool Message =================================\n",
        "Name: search_proper_nouns\n",
        "\n",
        "Alice In Chains\n",
        "\n",
        "Alanis Morissette\n",
        "\n",
        "Up An' Atom\n",
        "\n",
        "A-Sides\n",
        "\n",
        "Jagged Little Pill\n",
        "\n",
        "The tool returns a list of potential matches, including the correct spelling \"Alice In Chains\", and other similar names. This step is important because it corrects the user's spelling.\n",
        "\n",
        "8. Agent's Tool Selection (Execute Query):\n",
        "\n",
        "================================== Ai Message ==================================\n",
        "Tool Calls:\n",
        "  sql_db_query (call_5CLlBU3clY3NrurxEFp26KmI)\n",
        " Call ID: call_5CLlBU3clY3NrurxEFp26KmI\n",
        "  Args:\n",
        "    query: SELECT COUNT(*) as AlbumCount FROM Album WHERE ArtistId = (SELECT ArtistId FROM Artist WHERE Name = 'Alice In Chains')\n",
        "\n",
        "The agent uses the sql_db_query tool to execute an SQL query. The query counts the number of albums associated with the artist \"Alice In Chains\".\n",
        "\n",
        "9. Tool Output (Execute Query):\n",
        "\n",
        "================================= Tool Message =================================\n",
        "Name: sql_db_query\n",
        "\n",
        "[(1,)]\n",
        "\n",
        "The tool returns the result of the query, which is a tuple containing the album count (1).\n",
        "\n",
        "10. Agent's Final Answer:\n",
        "\n",
        "================================== Ai Message ==================================\n",
        "\n",
        "Alice In Chains has 1 album in the database.\n",
        "\n",
        "The agent formats the result into a natural language answer and presents it to the user.\n",
        "\n",
        "Summary:\n",
        "\n",
        "This output demonstrates the agent's ability to:\n",
        "\n",
        "1. Handle slight misspellings in user input.\n",
        "2. Use a custom tool to find the correct artist name.\n",
        "3. Generate and execute an SQL query to retrieve the answer.\n",
        "4. Format the result into a natural language response."
      ],
      "metadata": {
        "id": "o2ckqBs9K2go"
      }
    },
    {
      "cell_type": "code",
      "source": [
        "question = \"How many albums does guns have?\"\n",
        "\n",
        "for step in agent.stream(\n",
        "    {\"messages\": [{\"role\": \"user\", \"content\": question}]},\n",
        "    stream_mode=\"values\",\n",
        "):\n",
        "    step[\"messages\"][-1].pretty_print()"
      ],
      "metadata": {
        "colab": {
          "base_uri": "https://localhost:8080/"
        },
        "id": "4-nks4ogsc5N",
        "outputId": "5e787ff5-9a45-4d05-cc92-26bc0bd2e8ec"
      },
      "execution_count": 66,
      "outputs": [
        {
          "output_type": "stream",
          "name": "stdout",
          "text": [
            "================================\u001b[1m Human Message \u001b[0m=================================\n",
            "\n",
            "How many albums does guns have?\n",
            "==================================\u001b[1m Ai Message \u001b[0m==================================\n",
            "Tool Calls:\n",
            "  sql_db_list_tables (call_WoiXvkZWAJKfsXl5pBKS3wsw)\n",
            " Call ID: call_WoiXvkZWAJKfsXl5pBKS3wsw\n",
            "  Args:\n",
            "=================================\u001b[1m Tool Message \u001b[0m=================================\n",
            "Name: sql_db_list_tables\n",
            "\n",
            "Album, Artist, Customer, Employee, Genre, Invoice, InvoiceLine, MediaType, Playlist, PlaylistTrack, Track\n",
            "==================================\u001b[1m Ai Message \u001b[0m==================================\n",
            "Tool Calls:\n",
            "  search_proper_nouns (call_FBVcTIYn2jGRTZ5sUuN8IzUH)\n",
            " Call ID: call_FBVcTIYn2jGRTZ5sUuN8IzUH\n",
            "  Args:\n",
            "    query: guns\n",
            "=================================\u001b[1m Tool Message \u001b[0m=================================\n",
            "Name: search_proper_nouns\n",
            "\n",
            "Guns N' Roses\n",
            "\n",
            "War\n",
            "\n",
            "Heroes\n",
            "\n",
            "Killers\n",
            "\n",
            "Sex Machine\n",
            "==================================\u001b[1m Ai Message \u001b[0m==================================\n",
            "Tool Calls:\n",
            "  sql_db_schema (call_1j9hTqHlSCOhkuTUMZEr57lN)\n",
            " Call ID: call_1j9hTqHlSCOhkuTUMZEr57lN\n",
            "  Args:\n",
            "    table_names: Album\n",
            "=================================\u001b[1m Tool Message \u001b[0m=================================\n",
            "Name: sql_db_schema\n",
            "\n",
            "\n",
            "CREATE TABLE \"Album\" (\n",
            "\t\"AlbumId\" INTEGER NOT NULL, \n",
            "\t\"Title\" NVARCHAR(160) NOT NULL, \n",
            "\t\"ArtistId\" INTEGER NOT NULL, \n",
            "\tPRIMARY KEY (\"AlbumId\"), \n",
            "\tFOREIGN KEY(\"ArtistId\") REFERENCES \"Artist\" (\"ArtistId\")\n",
            ")\n",
            "\n",
            "/*\n",
            "3 rows from Album table:\n",
            "AlbumId\tTitle\tArtistId\n",
            "1\tFor Those About To Rock We Salute You\t1\n",
            "2\tBalls to the Wall\t2\n",
            "3\tRestless and Wild\t2\n",
            "*/\n",
            "==================================\u001b[1m Ai Message \u001b[0m==================================\n",
            "Tool Calls:\n",
            "  sql_db_schema (call_wSubTyyNYNoofoSI6xrkBIzo)\n",
            " Call ID: call_wSubTyyNYNoofoSI6xrkBIzo\n",
            "  Args:\n",
            "    table_names: Artist\n",
            "=================================\u001b[1m Tool Message \u001b[0m=================================\n",
            "Name: sql_db_schema\n",
            "\n",
            "\n",
            "CREATE TABLE \"Artist\" (\n",
            "\t\"ArtistId\" INTEGER NOT NULL, \n",
            "\t\"Name\" NVARCHAR(120), \n",
            "\tPRIMARY KEY (\"ArtistId\")\n",
            ")\n",
            "\n",
            "/*\n",
            "3 rows from Artist table:\n",
            "ArtistId\tName\n",
            "1\tAC/DC\n",
            "2\tAccept\n",
            "3\tAerosmith\n",
            "*/\n",
            "==================================\u001b[1m Ai Message \u001b[0m==================================\n",
            "Tool Calls:\n",
            "  sql_db_query (call_kW9k4Ao5BnZrONHaoNuI8lxB)\n",
            " Call ID: call_kW9k4Ao5BnZrONHaoNuI8lxB\n",
            "  Args:\n",
            "    query: SELECT COUNT(*) as AlbumCount FROM Album WHERE ArtistId = (SELECT ArtistId FROM Artist WHERE Name = 'Guns N'' Roses')\n",
            "=================================\u001b[1m Tool Message \u001b[0m=================================\n",
            "Name: sql_db_query\n",
            "\n",
            "[(3,)]\n",
            "==================================\u001b[1m Ai Message \u001b[0m==================================\n",
            "\n",
            "Guns N' Roses has a total of 3 albums.\n"
          ]
        }
      ]
    },
    {
      "cell_type": "code",
      "source": [
        "question = \"How many customers are their from bangalor?\"\n",
        "\n",
        "for step in agent.stream(\n",
        "    {\"messages\": [{\"role\": \"user\", \"content\": question}]},\n",
        "    stream_mode=\"values\",\n",
        "):\n",
        "    step[\"messages\"][-1].pretty_print()"
      ],
      "metadata": {
        "colab": {
          "base_uri": "https://localhost:8080/"
        },
        "id": "DdmN-CATx2L0",
        "outputId": "2827db4d-8422-4737-9013-7bf1b483a028"
      },
      "execution_count": 69,
      "outputs": [
        {
          "output_type": "stream",
          "name": "stdout",
          "text": [
            "================================\u001b[1m Human Message \u001b[0m=================================\n",
            "\n",
            "How many customers are their from bangalor?\n",
            "==================================\u001b[1m Ai Message \u001b[0m==================================\n",
            "Tool Calls:\n",
            "  sql_db_list_tables (call_CqdbV9Fyr8zcjQ54v3iQC357)\n",
            " Call ID: call_CqdbV9Fyr8zcjQ54v3iQC357\n",
            "  Args:\n",
            "=================================\u001b[1m Tool Message \u001b[0m=================================\n",
            "Name: sql_db_list_tables\n",
            "\n",
            "Album, Artist, Customer, Employee, Genre, Invoice, InvoiceLine, MediaType, Playlist, PlaylistTrack, Track\n",
            "==================================\u001b[1m Ai Message \u001b[0m==================================\n",
            "Tool Calls:\n",
            "  sql_db_schema (call_2Eq2H1e4ASIlwn7hHGjjmhZF)\n",
            " Call ID: call_2Eq2H1e4ASIlwn7hHGjjmhZF\n",
            "  Args:\n",
            "    table_names: Customer\n",
            "=================================\u001b[1m Tool Message \u001b[0m=================================\n",
            "Name: sql_db_schema\n",
            "\n",
            "\n",
            "CREATE TABLE \"Customer\" (\n",
            "\t\"CustomerId\" INTEGER NOT NULL, \n",
            "\t\"FirstName\" NVARCHAR(40) NOT NULL, \n",
            "\t\"LastName\" NVARCHAR(20) NOT NULL, \n",
            "\t\"Company\" NVARCHAR(80), \n",
            "\t\"Address\" NVARCHAR(70), \n",
            "\t\"City\" NVARCHAR(40), \n",
            "\t\"State\" NVARCHAR(40), \n",
            "\t\"Country\" NVARCHAR(40), \n",
            "\t\"PostalCode\" NVARCHAR(10), \n",
            "\t\"Phone\" NVARCHAR(24), \n",
            "\t\"Fax\" NVARCHAR(24), \n",
            "\t\"Email\" NVARCHAR(60) NOT NULL, \n",
            "\t\"SupportRepId\" INTEGER, \n",
            "\tPRIMARY KEY (\"CustomerId\"), \n",
            "\tFOREIGN KEY(\"SupportRepId\") REFERENCES \"Employee\" (\"EmployeeId\")\n",
            ")\n",
            "\n",
            "/*\n",
            "3 rows from Customer table:\n",
            "CustomerId\tFirstName\tLastName\tCompany\tAddress\tCity\tState\tCountry\tPostalCode\tPhone\tFax\tEmail\tSupportRepId\n",
            "1\tLuís\tGonçalves\tEmbraer - Empresa Brasileira de Aeronáutica S.A.\tAv. Brigadeiro Faria Lima, 2170\tSão José dos Campos\tSP\tBrazil\t12227-000\t+55 (12) 3923-5555\t+55 (12) 3923-5566\tluisg@embraer.com.br\t3\n",
            "2\tLeonie\tKöhler\tNone\tTheodor-Heuss-Straße 34\tStuttgart\tNone\tGermany\t70174\t+49 0711 2842222\tNone\tleonekohler@surfeu.de\t5\n",
            "3\tFrançois\tTremblay\tNone\t1498 rue Bélanger\tMontréal\tQC\tCanada\tH2G 1A7\t+1 (514) 721-4711\tNone\tftremblay@gmail.com\t3\n",
            "*/\n",
            "==================================\u001b[1m Ai Message \u001b[0m==================================\n",
            "Tool Calls:\n",
            "  sql_db_query_checker (call_JozrUKmhlNcSO5JqXGQi4Dyg)\n",
            " Call ID: call_JozrUKmhlNcSO5JqXGQi4Dyg\n",
            "  Args:\n",
            "    query: SELECT COUNT(*) AS CustomerCount FROM Customer WHERE City = 'Bangalore';\n",
            "=================================\u001b[1m Tool Message \u001b[0m=================================\n",
            "Name: sql_db_query_checker\n",
            "\n",
            "```sql\n",
            "SELECT COUNT(*) AS CustomerCount FROM Customer WHERE City = 'Bangalore';\n",
            "```\n",
            "==================================\u001b[1m Ai Message \u001b[0m==================================\n",
            "Tool Calls:\n",
            "  sql_db_query (call_C7izF0dU6ZmjnvNduBfU9vE5)\n",
            " Call ID: call_C7izF0dU6ZmjnvNduBfU9vE5\n",
            "  Args:\n",
            "    query: SELECT COUNT(*) AS CustomerCount FROM Customer WHERE City = 'Bangalore';\n",
            "=================================\u001b[1m Tool Message \u001b[0m=================================\n",
            "Name: sql_db_query\n",
            "\n",
            "[(1,)]\n",
            "==================================\u001b[1m Ai Message \u001b[0m==================================\n",
            "\n",
            "There is 1 customer from Bangalore.\n"
          ]
        }
      ]
    },
    {
      "cell_type": "code",
      "source": [
        "question = \"Who are the composers of the album titled 'Jagged  Pill'?\"\n",
        "\n",
        "for step in agent.stream(\n",
        "    {\"messages\": [{\"role\": \"user\", \"content\": question}]},\n",
        "    stream_mode=\"values\",\n",
        "):\n",
        "    step[\"messages\"][-1].pretty_print()"
      ],
      "metadata": {
        "colab": {
          "base_uri": "https://localhost:8080/"
        },
        "id": "u5zfRsBnyCxk",
        "outputId": "0beb9359-0e1a-4585-c6ed-f1066de7088a"
      },
      "execution_count": 72,
      "outputs": [
        {
          "output_type": "stream",
          "name": "stdout",
          "text": [
            "================================\u001b[1m Human Message \u001b[0m=================================\n",
            "\n",
            "Who are the composers of the album titled 'Jagged  Pill'?\n",
            "==================================\u001b[1m Ai Message \u001b[0m==================================\n",
            "Tool Calls:\n",
            "  sql_db_list_tables (call_VcTBarXtRA3d9qG6pKjzCI7W)\n",
            " Call ID: call_VcTBarXtRA3d9qG6pKjzCI7W\n",
            "  Args:\n",
            "=================================\u001b[1m Tool Message \u001b[0m=================================\n",
            "Name: sql_db_list_tables\n",
            "\n",
            "Album, Artist, Customer, Employee, Genre, Invoice, InvoiceLine, MediaType, Playlist, PlaylistTrack, Track\n",
            "==================================\u001b[1m Ai Message \u001b[0m==================================\n",
            "Tool Calls:\n",
            "  sql_db_schema (call_0NeCsgMKTV5McmP0XiB64nUk)\n",
            " Call ID: call_0NeCsgMKTV5McmP0XiB64nUk\n",
            "  Args:\n",
            "    table_names: Album, Artist\n",
            "=================================\u001b[1m Tool Message \u001b[0m=================================\n",
            "Name: sql_db_schema\n",
            "\n",
            "\n",
            "CREATE TABLE \"Album\" (\n",
            "\t\"AlbumId\" INTEGER NOT NULL, \n",
            "\t\"Title\" NVARCHAR(160) NOT NULL, \n",
            "\t\"ArtistId\" INTEGER NOT NULL, \n",
            "\tPRIMARY KEY (\"AlbumId\"), \n",
            "\tFOREIGN KEY(\"ArtistId\") REFERENCES \"Artist\" (\"ArtistId\")\n",
            ")\n",
            "\n",
            "/*\n",
            "3 rows from Album table:\n",
            "AlbumId\tTitle\tArtistId\n",
            "1\tFor Those About To Rock We Salute You\t1\n",
            "2\tBalls to the Wall\t2\n",
            "3\tRestless and Wild\t2\n",
            "*/\n",
            "\n",
            "\n",
            "CREATE TABLE \"Artist\" (\n",
            "\t\"ArtistId\" INTEGER NOT NULL, \n",
            "\t\"Name\" NVARCHAR(120), \n",
            "\tPRIMARY KEY (\"ArtistId\")\n",
            ")\n",
            "\n",
            "/*\n",
            "3 rows from Artist table:\n",
            "ArtistId\tName\n",
            "1\tAC/DC\n",
            "2\tAccept\n",
            "3\tAerosmith\n",
            "*/\n",
            "==================================\u001b[1m Ai Message \u001b[0m==================================\n",
            "Tool Calls:\n",
            "  sql_db_query (call_BW5fbb3ePM73nvcD2xif8zKd)\n",
            " Call ID: call_BW5fbb3ePM73nvcD2xif8zKd\n",
            "  Args:\n",
            "    query: SELECT Artist.Name FROM Album JOIN Artist ON Album.ArtistId = Artist.ArtistId WHERE Album.Title = 'Jagged Pill'\n",
            "=================================\u001b[1m Tool Message \u001b[0m=================================\n",
            "Name: sql_db_query\n",
            "\n",
            "\n",
            "==================================\u001b[1m Ai Message \u001b[0m==================================\n",
            "Tool Calls:\n",
            "  search_proper_nouns (call_NbQBSSWu9UUJ0HiosmEQKtsc)\n",
            " Call ID: call_NbQBSSWu9UUJ0HiosmEQKtsc\n",
            "  Args:\n",
            "    query: Jagged Pill\n",
            "=================================\u001b[1m Tool Message \u001b[0m=================================\n",
            "Name: search_proper_nouns\n",
            "\n",
            "Jagged Little Pill\n",
            "\n",
            "JET\n",
            "\n",
            "Jaguares\n",
            "\n",
            "Ace Of Spades\n",
            "\n",
            "One By One\n",
            "==================================\u001b[1m Ai Message \u001b[0m==================================\n",
            "Tool Calls:\n",
            "  sql_db_query (call_JUFfNaM2dLT9Ypx0Ct9rlNHJ)\n",
            " Call ID: call_JUFfNaM2dLT9Ypx0Ct9rlNHJ\n",
            "  Args:\n",
            "    query: SELECT Artist.Name FROM Album JOIN Artist ON Album.ArtistId = Artist.ArtistId WHERE Album.Title = 'Jagged Little Pill'\n",
            "=================================\u001b[1m Tool Message \u001b[0m=================================\n",
            "Name: sql_db_query\n",
            "\n",
            "[('Alanis Morissette',)]\n",
            "==================================\u001b[1m Ai Message \u001b[0m==================================\n",
            "\n",
            "The composer of the album titled 'Jagged Little Pill' is Alanis Morissette.\n"
          ]
        }
      ]
    },
    {
      "cell_type": "code",
      "source": [],
      "metadata": {
        "id": "DycORo8QzPiD"
      },
      "execution_count": null,
      "outputs": []
    }
  ]
}