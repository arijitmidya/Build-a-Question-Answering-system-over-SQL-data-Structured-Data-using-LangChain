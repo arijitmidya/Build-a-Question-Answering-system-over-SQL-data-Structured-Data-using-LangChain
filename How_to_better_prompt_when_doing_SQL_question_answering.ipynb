{
  "nbformat": 4,
  "nbformat_minor": 0,
  "metadata": {
    "colab": {
      "provenance": []
    },
    "kernelspec": {
      "name": "python3",
      "display_name": "Python 3"
    },
    "language_info": {
      "name": "python"
    }
  },
  "cells": [
    {
      "cell_type": "markdown",
      "source": [
        "# How to better prompt when doing SQL question-answering\n",
        "\n",
        "This guide will show you how to write better instructions (prompts) to get a computer program to create accurate SQL queries for you. We'll concentrate on giving the program the right information about your specific database.\n",
        "\n",
        "We'll explore:\n",
        "\n",
        "1. How the type of database you're using (like MySQL or PostgreSQL) changes the instructions the program needs.\n",
        "\n",
        "2. How to clearly show the program the structure of your database using a tool called SQLDatabase.get_context.\n",
        "\n",
        "3. How to provide examples (called \"few-shot examples\") to help the program learn and create better queries.\n",
        "\n",
        "Essentially, we're going to learn how to give the computer the best possible instructions so it can understand your database and write the correct SQL queries for you."
      ],
      "metadata": {
        "id": "9VXIa3bifsrq"
      }
    },
    {
      "cell_type": "markdown",
      "source": [
        "# 1. Install necessary dependencies"
      ],
      "metadata": {
        "id": "Us6wDK28htQS"
      }
    },
    {
      "cell_type": "code",
      "source": [
        "!apt-get update\n",
        "!apt-get install sqlite3"
      ],
      "metadata": {
        "colab": {
          "base_uri": "https://localhost:8080/"
        },
        "id": "esFKDfJS1mAd",
        "outputId": "72e19296-2568-4652-fb61-329d20b0e6ed"
      },
      "execution_count": 1,
      "outputs": [
        {
          "output_type": "stream",
          "name": "stdout",
          "text": [
            "Get:1 https://cloud.r-project.org/bin/linux/ubuntu jammy-cran40/ InRelease [3,632 B]\n",
            "Get:2 http://security.ubuntu.com/ubuntu jammy-security InRelease [129 kB]\n",
            "Hit:3 http://archive.ubuntu.com/ubuntu jammy InRelease\n",
            "Get:4 https://r2u.stat.illinois.edu/ubuntu jammy InRelease [6,555 B]\n",
            "Get:5 http://archive.ubuntu.com/ubuntu jammy-updates InRelease [128 kB]\n",
            "Get:6 https://developer.download.nvidia.com/compute/cuda/repos/ubuntu2204/x86_64  InRelease [1,581 B]\n",
            "Get:7 https://r2u.stat.illinois.edu/ubuntu jammy/main all Packages [8,704 kB]\n",
            "Get:8 http://security.ubuntu.com/ubuntu jammy-security/main amd64 Packages [2,639 kB]\n",
            "Hit:9 https://ppa.launchpadcontent.net/deadsnakes/ppa/ubuntu jammy InRelease\n",
            "Hit:10 https://ppa.launchpadcontent.net/graphics-drivers/ppa/ubuntu jammy InRelease\n",
            "Get:11 http://archive.ubuntu.com/ubuntu jammy-backports InRelease [127 kB]\n",
            "Hit:12 https://ppa.launchpadcontent.net/ubuntugis/ppa/ubuntu jammy InRelease\n",
            "Get:13 http://archive.ubuntu.com/ubuntu jammy-updates/main amd64 Packages [2,950 kB]\n",
            "Get:14 https://developer.download.nvidia.com/compute/cuda/repos/ubuntu2204/x86_64  Packages [1,319 kB]\n",
            "Get:15 http://security.ubuntu.com/ubuntu jammy-security/universe amd64 Packages [1,235 kB]\n",
            "Get:16 http://security.ubuntu.com/ubuntu jammy-security/restricted amd64 Packages [3,664 kB]\n",
            "Get:17 https://r2u.stat.illinois.edu/ubuntu jammy/main amd64 Packages [2,661 kB]\n",
            "Get:18 http://archive.ubuntu.com/ubuntu jammy-updates/restricted amd64 Packages [3,813 kB]\n",
            "Get:19 http://archive.ubuntu.com/ubuntu jammy-updates/universe amd64 Packages [1,532 kB]\n",
            "Fetched 28.9 MB in 4s (7,186 kB/s)\n",
            "Reading package lists... Done\n",
            "W: Skipping acquire of configured file 'main/source/Sources' as repository 'https://r2u.stat.illinois.edu/ubuntu jammy InRelease' does not seem to provide it (sources.list entry misspelt?)\n",
            "Reading package lists... Done\n",
            "Building dependency tree... Done\n",
            "Reading state information... Done\n",
            "Suggested packages:\n",
            "  sqlite3-doc\n",
            "The following NEW packages will be installed:\n",
            "  sqlite3\n",
            "0 upgraded, 1 newly installed, 0 to remove and 32 not upgraded.\n",
            "Need to get 768 kB of archives.\n",
            "After this operation, 1,873 kB of additional disk space will be used.\n",
            "Get:1 http://archive.ubuntu.com/ubuntu jammy-updates/main amd64 sqlite3 amd64 3.37.2-2ubuntu0.3 [768 kB]\n",
            "Fetched 768 kB in 2s (419 kB/s)\n",
            "Selecting previously unselected package sqlite3.\n",
            "(Reading database ... 124947 files and directories currently installed.)\n",
            "Preparing to unpack .../sqlite3_3.37.2-2ubuntu0.3_amd64.deb ...\n",
            "Unpacking sqlite3 (3.37.2-2ubuntu0.3) ...\n",
            "Setting up sqlite3 (3.37.2-2ubuntu0.3) ...\n",
            "Processing triggers for man-db (2.10.2-1) ...\n"
          ]
        }
      ]
    },
    {
      "cell_type": "code",
      "source": [
        "%pip install --upgrade --quiet  langchain langchain-community langchain-experimental langchain-openai"
      ],
      "metadata": {
        "colab": {
          "base_uri": "https://localhost:8080/"
        },
        "id": "5d7zMbl-aYqC",
        "outputId": "2066377f-588e-4e89-fd75-83eeb8346333"
      },
      "execution_count": 6,
      "outputs": [
        {
          "output_type": "stream",
          "name": "stdout",
          "text": [
            "\u001b[?25l   \u001b[90m━━━━━━━━━━━━━━━━━━━━━━━━━━━━━━━━━━━━━━━━\u001b[0m \u001b[32m0.0/2.5 MB\u001b[0m \u001b[31m?\u001b[0m eta \u001b[36m-:--:--\u001b[0m\r\u001b[2K   \u001b[91m━━━━━━\u001b[0m\u001b[90m╺\u001b[0m\u001b[90m━━━━━━━━━━━━━━━━━━━━━━━━━━━━━━━━━\u001b[0m \u001b[32m0.4/2.5 MB\u001b[0m \u001b[31m11.8 MB/s\u001b[0m eta \u001b[36m0:00:01\u001b[0m\r\u001b[2K   \u001b[91m━━━━━━━━━━━━━━━━━━━━━━━━━━━━━━━━━━━━━━━\u001b[0m\u001b[91m╸\u001b[0m \u001b[32m2.5/2.5 MB\u001b[0m \u001b[31m38.2 MB/s\u001b[0m eta \u001b[36m0:00:01\u001b[0m\r\u001b[2K   \u001b[90m━━━━━━━━━━━━━━━━━━━━━━━━━━━━━━━━━━━━━━━━\u001b[0m \u001b[32m2.5/2.5 MB\u001b[0m \u001b[31m29.3 MB/s\u001b[0m eta \u001b[36m0:00:00\u001b[0m\n",
            "\u001b[?25h\u001b[?25l   \u001b[90m━━━━━━━━━━━━━━━━━━━━━━━━━━━━━━━━━━━━━━━━\u001b[0m \u001b[32m0.0/209.2 kB\u001b[0m \u001b[31m?\u001b[0m eta \u001b[36m-:--:--\u001b[0m\r\u001b[2K   \u001b[90m━━━━━━━━━━━━━━━━━━━━━━━━━━━━━━━━━━━━━━━━\u001b[0m \u001b[32m209.2/209.2 kB\u001b[0m \u001b[31m12.2 MB/s\u001b[0m eta \u001b[36m0:00:00\u001b[0m\n",
            "\u001b[2K   \u001b[90m━━━━━━━━━━━━━━━━━━━━━━━━━━━━━━━━━━━━━━━━\u001b[0m \u001b[32m55.3/55.3 kB\u001b[0m \u001b[31m3.1 MB/s\u001b[0m eta \u001b[36m0:00:00\u001b[0m\n",
            "\u001b[2K   \u001b[90m━━━━━━━━━━━━━━━━━━━━━━━━━━━━━━━━━━━━━━━━\u001b[0m \u001b[32m414.3/414.3 kB\u001b[0m \u001b[31m23.3 MB/s\u001b[0m eta \u001b[36m0:00:00\u001b[0m\n",
            "\u001b[2K   \u001b[90m━━━━━━━━━━━━━━━━━━━━━━━━━━━━━━━━━━━━━━━━\u001b[0m \u001b[32m1.2/1.2 MB\u001b[0m \u001b[31m53.1 MB/s\u001b[0m eta \u001b[36m0:00:00\u001b[0m\n",
            "\u001b[2K   \u001b[90m━━━━━━━━━━━━━━━━━━━━━━━━━━━━━━━━━━━━━━━━\u001b[0m \u001b[32m50.9/50.9 kB\u001b[0m \u001b[31m2.9 MB/s\u001b[0m eta \u001b[36m0:00:00\u001b[0m\n",
            "\u001b[?25h"
          ]
        }
      ]
    },
    {
      "cell_type": "markdown",
      "source": [
        "# 2. Setup Colab environment\n",
        "\n",
        "This code snippet sets up an environment in Google Colab to create and populate an SQLite database called Chinook.db. It does this by:\n",
        "\n",
        "Mounting your Google Drive. Creating a specific directory in your Google Drive to store the database. Downloading a SQL script from a GitHub repository. Using the sqlite3 command-line tool to create the database and execute the SQL script, thereby populating the database with data. This is a typical workflow for setting up a data science environment in Google Colab, where you need to access and create files in your Google Drive and use command-line tools to interact with data."
      ],
      "metadata": {
        "id": "nwxKDKGsejgI"
      }
    },
    {
      "cell_type": "markdown",
      "source": [
        "### Mounts Google Drive\n",
        "\n",
        "a. from google.colab import drive: Imports the drive module from the google.colab library, which is specific to Google Colaboratory.\n",
        "\n",
        "b. drive.mount('/content/drive'): This line mounts your Google Drive to the Colab runtime. After executing this, you'll be prompted to authorize Colab to access your Google Drive. Once authorized, your Drive files become accessible within the Colab environment under the /content/drive directory."
      ],
      "metadata": {
        "id": "AB2r4fxme6XN"
      }
    },
    {
      "cell_type": "code",
      "source": [
        "from google.colab import drive\n",
        "drive.mount('/content/drive')"
      ],
      "metadata": {
        "colab": {
          "base_uri": "https://localhost:8080/"
        },
        "id": "SSYTyP8-ZqHy",
        "outputId": "38603aa3-d1a5-49e6-e956-197a172d7539"
      },
      "execution_count": 2,
      "outputs": [
        {
          "output_type": "stream",
          "name": "stdout",
          "text": [
            "Mounted at /content/drive\n"
          ]
        }
      ]
    },
    {
      "cell_type": "markdown",
      "source": [
        "### Sets up the directory\n",
        "\n",
        "a. import os: Imports the os module for interacting with the operating system, specifically for file and directory operations.\n",
        "\n",
        "b. directory_path = '/content/drive/MyDrive/Colab Notebooks/Chinook': Defines the path to a directory within your Google Drive. This is where the SQLite database will be created.\n",
        "\n",
        "c. if not os.path.exists(directory_path): os.makedirs(directory_path): This checks if the specified directory exists. If it doesn't, it creates the directory and any necessary parent directories. This is important to ensure that the database file can be created in the correct location."
      ],
      "metadata": {
        "id": "MtudPa1BfEHW"
      }
    },
    {
      "cell_type": "code",
      "source": [
        "import os\n",
        "\n",
        "# Path to the directory within your Google Drive\n",
        "directory_path = '/content/drive/MyDrive/Colab Notebooks/Chinook'\n",
        "\n",
        "# Create the directory if it doesn't exist\n",
        "if not os.path.exists(directory_path):\n",
        "    os.makedirs(directory_path)"
      ],
      "metadata": {
        "id": "Cj5Hkl1cZzWi"
      },
      "execution_count": 3,
      "outputs": []
    },
    {
      "cell_type": "markdown",
      "source": [
        "### Downloads and Creates the SQLite Database\n",
        "\n",
        "This line executes a shell command that downloads a SQL script and uses it to create an SQLite database."
      ],
      "metadata": {
        "id": "Py6uYeO9fRvD"
      }
    },
    {
      "cell_type": "code",
      "source": [
        "!curl -s https://raw.githubusercontent.com/lerocha/chinook-database/master/ChinookDatabase/DataSources/Chinook_Sqlite.sql | sqlite3 '/content/drive/MyDrive/Colab Notebooks/Chinook/Chinook.db'"
      ],
      "metadata": {
        "id": "qNDAmaFKaA2J"
      },
      "execution_count": 4,
      "outputs": []
    },
    {
      "cell_type": "markdown",
      "source": [
        "### Testing the connection\n",
        "\n",
        "This code snippet establishes a connection to an SQLite database (Chinook.db) using LangChain's SQLDatabase utility, prints the database dialect and usable table names, and then executes a simple SQL query to retrieve and display the first 20 rows from the Artist table. This demonstrates how to use LangChain to interact with SQL databases and execute SQL queries."
      ],
      "metadata": {
        "id": "OcrYy82jfZyY"
      }
    },
    {
      "cell_type": "code",
      "source": [
        "from langchain_community.utilities import SQLDatabase\n",
        "\n",
        "db = SQLDatabase.from_uri(\"sqlite:////content/drive/MyDrive/Colab Notebooks/Chinook/Chinook.db\", sample_rows_in_table_info=3)\n",
        "print(db.dialect)\n",
        "print(db.get_usable_table_names())\n",
        "print(db.run(\"SELECT * FROM Artist LIMIT 10;\"))"
      ],
      "metadata": {
        "colab": {
          "base_uri": "https://localhost:8080/"
        },
        "id": "QEE721u2aGfC",
        "outputId": "de5b690c-dfaf-4c57-f10c-a324b35a4972"
      },
      "execution_count": 8,
      "outputs": [
        {
          "output_type": "stream",
          "name": "stdout",
          "text": [
            "sqlite\n",
            "['Album', 'Artist', 'Customer', 'Employee', 'Genre', 'Invoice', 'InvoiceLine', 'MediaType', 'Playlist', 'PlaylistTrack', 'Track']\n",
            "[(1, 'AC/DC'), (2, 'Accept'), (3, 'Aerosmith'), (4, 'Alanis Morissette'), (5, 'Alice In Chains'), (6, 'Antônio Carlos Jobim'), (7, 'Apocalyptica'), (8, 'Audioslave'), (9, 'BackBeat'), (10, 'Billy Cobham')]\n"
          ]
        }
      ]
    },
    {
      "cell_type": "markdown",
      "source": [
        "# 3. Dialect-specific prompting"
      ],
      "metadata": {
        "id": "Dd46_2h-a2fe"
      }
    },
    {
      "cell_type": "markdown",
      "source": [
        "In essence, this code retrieves the names of the different prompt templates that LangChain provides for interacting with SQL databases. These prompt templates are pre-designed instructions that guide language models in translating natural language questions into executable SQL queries."
      ],
      "metadata": {
        "id": "cctrUowEgqjM"
      }
    },
    {
      "cell_type": "code",
      "source": [
        "from langchain.chains.sql_database.prompt import SQL_PROMPTS\n",
        "\n",
        "list(SQL_PROMPTS)"
      ],
      "metadata": {
        "colab": {
          "base_uri": "https://localhost:8080/"
        },
        "id": "HT-8iSfXaTBc",
        "outputId": "fee28f8d-f0dd-457a-9bf2-edeb4c3ac46b"
      },
      "execution_count": 9,
      "outputs": [
        {
          "output_type": "execute_result",
          "data": {
            "text/plain": [
              "['crate',\n",
              " 'duckdb',\n",
              " 'googlesql',\n",
              " 'mssql',\n",
              " 'mysql',\n",
              " 'mariadb',\n",
              " 'oracle',\n",
              " 'postgresql',\n",
              " 'sqlite',\n",
              " 'clickhouse',\n",
              " 'prestodb']"
            ]
          },
          "metadata": {},
          "execution_count": 9
        }
      ]
    },
    {
      "cell_type": "markdown",
      "source": [
        "### Select chat model"
      ],
      "metadata": {
        "id": "K367F4WUbENW"
      }
    },
    {
      "cell_type": "code",
      "source": [
        "%pip install -qU \"langchain[openai]\""
      ],
      "metadata": {
        "id": "HaB0OilIa91-"
      },
      "execution_count": 26,
      "outputs": []
    },
    {
      "cell_type": "code",
      "source": [
        "import getpass\n",
        "import os\n",
        "\n",
        "if not os.environ.get(\"OPENAI_API_KEY\"):\n",
        "  os.environ[\"OPENAI_API_KEY\"] = getpass.getpass(\"Enter API key for OpenAI: \")\n",
        "\n",
        "from langchain.chat_models import init_chat_model\n",
        "\n",
        "llm = init_chat_model(\"gpt-4o-mini\", model_provider=\"openai\")"
      ],
      "metadata": {
        "colab": {
          "base_uri": "https://localhost:8080/"
        },
        "id": "WwVC4kNCbJp-",
        "outputId": "bfeaa584-233f-4deb-ace8-0d2a89d34f28"
      },
      "execution_count": 11,
      "outputs": [
        {
          "name": "stdout",
          "output_type": "stream",
          "text": [
            "Enter API key for OpenAI: ··········\n"
          ]
        }
      ]
    },
    {
      "cell_type": "code",
      "source": [
        "from langchain.chains import create_sql_query_chain\n",
        "\n",
        "chain = create_sql_query_chain(llm, db)\n",
        "chain.get_prompts()[0].pretty_print()"
      ],
      "metadata": {
        "colab": {
          "base_uri": "https://localhost:8080/"
        },
        "id": "ULhmb0XRbOsC",
        "outputId": "4cae144b-6c4a-4eda-f129-07ddcca92ee4"
      },
      "execution_count": 12,
      "outputs": [
        {
          "output_type": "stream",
          "name": "stdout",
          "text": [
            "You are a SQLite expert. Given an input question, first create a syntactically correct SQLite query to run, then look at the results of the query and return the answer to the input question.\n",
            "Unless the user specifies in the question a specific number of examples to obtain, query for at most 5 results using the LIMIT clause as per SQLite. You can order the results to return the most informative data in the database.\n",
            "Never query for all columns from a table. You must query only the columns that are needed to answer the question. Wrap each column name in double quotes (\") to denote them as delimited identifiers.\n",
            "Pay attention to use only the column names you can see in the tables below. Be careful to not query for columns that do not exist. Also, pay attention to which column is in which table.\n",
            "Pay attention to use date('now') function to get the current date, if the question involves \"today\".\n",
            "\n",
            "Use the following format:\n",
            "\n",
            "Question: Question here\n",
            "SQLQuery: SQL Query to run\n",
            "SQLResult: Result of the SQLQuery\n",
            "Answer: Final answer here\n",
            "\n",
            "Only use the following tables:\n",
            "\u001b[33;1m\u001b[1;3m{table_info}\u001b[0m\n",
            "\n",
            "Question: \u001b[33;1m\u001b[1;3m{input}\u001b[0m\n"
          ]
        }
      ]
    },
    {
      "cell_type": "markdown",
      "source": [
        "# 4. Table definitions and example rows\n",
        "\n",
        "In most SQL chains, we'll need to feed the model at least part of the database schema. Without this it won't be able to write valid queries. Our database comes with some convenience methods to give us the relevant context. Specifically, we can get the table names, their schemas, and a sample of rows from each table."
      ],
      "metadata": {
        "id": "0sGflE0ebj_U"
      }
    },
    {
      "cell_type": "markdown",
      "source": [
        "This code snippet retrieves context information from a database, displays the keys of the context data, and then displays the information specifically related to the database's table structure. This is a common pattern when working with database interactions, as it allows you to inspect the database schema and understand the available data before performing queries."
      ],
      "metadata": {
        "id": "A-fxoSXJhXvt"
      }
    },
    {
      "cell_type": "code",
      "source": [
        "context = db.get_context()\n",
        "print(list(context))\n",
        "print(context[\"table_info\"])"
      ],
      "metadata": {
        "colab": {
          "base_uri": "https://localhost:8080/"
        },
        "id": "jexkYlohbXlq",
        "outputId": "40593beb-5422-4760-91ea-6aa3d845df29"
      },
      "execution_count": 13,
      "outputs": [
        {
          "output_type": "stream",
          "name": "stdout",
          "text": [
            "['table_info', 'table_names']\n",
            "\n",
            "CREATE TABLE \"Album\" (\n",
            "\t\"AlbumId\" INTEGER NOT NULL, \n",
            "\t\"Title\" NVARCHAR(160) NOT NULL, \n",
            "\t\"ArtistId\" INTEGER NOT NULL, \n",
            "\tPRIMARY KEY (\"AlbumId\"), \n",
            "\tFOREIGN KEY(\"ArtistId\") REFERENCES \"Artist\" (\"ArtistId\")\n",
            ")\n",
            "\n",
            "/*\n",
            "3 rows from Album table:\n",
            "AlbumId\tTitle\tArtistId\n",
            "1\tFor Those About To Rock We Salute You\t1\n",
            "2\tBalls to the Wall\t2\n",
            "3\tRestless and Wild\t2\n",
            "*/\n",
            "\n",
            "\n",
            "CREATE TABLE \"Artist\" (\n",
            "\t\"ArtistId\" INTEGER NOT NULL, \n",
            "\t\"Name\" NVARCHAR(120), \n",
            "\tPRIMARY KEY (\"ArtistId\")\n",
            ")\n",
            "\n",
            "/*\n",
            "3 rows from Artist table:\n",
            "ArtistId\tName\n",
            "1\tAC/DC\n",
            "2\tAccept\n",
            "3\tAerosmith\n",
            "*/\n",
            "\n",
            "\n",
            "CREATE TABLE \"Customer\" (\n",
            "\t\"CustomerId\" INTEGER NOT NULL, \n",
            "\t\"FirstName\" NVARCHAR(40) NOT NULL, \n",
            "\t\"LastName\" NVARCHAR(20) NOT NULL, \n",
            "\t\"Company\" NVARCHAR(80), \n",
            "\t\"Address\" NVARCHAR(70), \n",
            "\t\"City\" NVARCHAR(40), \n",
            "\t\"State\" NVARCHAR(40), \n",
            "\t\"Country\" NVARCHAR(40), \n",
            "\t\"PostalCode\" NVARCHAR(10), \n",
            "\t\"Phone\" NVARCHAR(24), \n",
            "\t\"Fax\" NVARCHAR(24), \n",
            "\t\"Email\" NVARCHAR(60) NOT NULL, \n",
            "\t\"SupportRepId\" INTEGER, \n",
            "\tPRIMARY KEY (\"CustomerId\"), \n",
            "\tFOREIGN KEY(\"SupportRepId\") REFERENCES \"Employee\" (\"EmployeeId\")\n",
            ")\n",
            "\n",
            "/*\n",
            "3 rows from Customer table:\n",
            "CustomerId\tFirstName\tLastName\tCompany\tAddress\tCity\tState\tCountry\tPostalCode\tPhone\tFax\tEmail\tSupportRepId\n",
            "1\tLuís\tGonçalves\tEmbraer - Empresa Brasileira de Aeronáutica S.A.\tAv. Brigadeiro Faria Lima, 2170\tSão José dos Campos\tSP\tBrazil\t12227-000\t+55 (12) 3923-5555\t+55 (12) 3923-5566\tluisg@embraer.com.br\t3\n",
            "2\tLeonie\tKöhler\tNone\tTheodor-Heuss-Straße 34\tStuttgart\tNone\tGermany\t70174\t+49 0711 2842222\tNone\tleonekohler@surfeu.de\t5\n",
            "3\tFrançois\tTremblay\tNone\t1498 rue Bélanger\tMontréal\tQC\tCanada\tH2G 1A7\t+1 (514) 721-4711\tNone\tftremblay@gmail.com\t3\n",
            "*/\n",
            "\n",
            "\n",
            "CREATE TABLE \"Employee\" (\n",
            "\t\"EmployeeId\" INTEGER NOT NULL, \n",
            "\t\"LastName\" NVARCHAR(20) NOT NULL, \n",
            "\t\"FirstName\" NVARCHAR(20) NOT NULL, \n",
            "\t\"Title\" NVARCHAR(30), \n",
            "\t\"ReportsTo\" INTEGER, \n",
            "\t\"BirthDate\" DATETIME, \n",
            "\t\"HireDate\" DATETIME, \n",
            "\t\"Address\" NVARCHAR(70), \n",
            "\t\"City\" NVARCHAR(40), \n",
            "\t\"State\" NVARCHAR(40), \n",
            "\t\"Country\" NVARCHAR(40), \n",
            "\t\"PostalCode\" NVARCHAR(10), \n",
            "\t\"Phone\" NVARCHAR(24), \n",
            "\t\"Fax\" NVARCHAR(24), \n",
            "\t\"Email\" NVARCHAR(60), \n",
            "\tPRIMARY KEY (\"EmployeeId\"), \n",
            "\tFOREIGN KEY(\"ReportsTo\") REFERENCES \"Employee\" (\"EmployeeId\")\n",
            ")\n",
            "\n",
            "/*\n",
            "3 rows from Employee table:\n",
            "EmployeeId\tLastName\tFirstName\tTitle\tReportsTo\tBirthDate\tHireDate\tAddress\tCity\tState\tCountry\tPostalCode\tPhone\tFax\tEmail\n",
            "1\tAdams\tAndrew\tGeneral Manager\tNone\t1962-02-18 00:00:00\t2002-08-14 00:00:00\t11120 Jasper Ave NW\tEdmonton\tAB\tCanada\tT5K 2N1\t+1 (780) 428-9482\t+1 (780) 428-3457\tandrew@chinookcorp.com\n",
            "2\tEdwards\tNancy\tSales Manager\t1\t1958-12-08 00:00:00\t2002-05-01 00:00:00\t825 8 Ave SW\tCalgary\tAB\tCanada\tT2P 2T3\t+1 (403) 262-3443\t+1 (403) 262-3322\tnancy@chinookcorp.com\n",
            "3\tPeacock\tJane\tSales Support Agent\t2\t1973-08-29 00:00:00\t2002-04-01 00:00:00\t1111 6 Ave SW\tCalgary\tAB\tCanada\tT2P 5M5\t+1 (403) 262-3443\t+1 (403) 262-6712\tjane@chinookcorp.com\n",
            "*/\n",
            "\n",
            "\n",
            "CREATE TABLE \"Genre\" (\n",
            "\t\"GenreId\" INTEGER NOT NULL, \n",
            "\t\"Name\" NVARCHAR(120), \n",
            "\tPRIMARY KEY (\"GenreId\")\n",
            ")\n",
            "\n",
            "/*\n",
            "3 rows from Genre table:\n",
            "GenreId\tName\n",
            "1\tRock\n",
            "2\tJazz\n",
            "3\tMetal\n",
            "*/\n",
            "\n",
            "\n",
            "CREATE TABLE \"Invoice\" (\n",
            "\t\"InvoiceId\" INTEGER NOT NULL, \n",
            "\t\"CustomerId\" INTEGER NOT NULL, \n",
            "\t\"InvoiceDate\" DATETIME NOT NULL, \n",
            "\t\"BillingAddress\" NVARCHAR(70), \n",
            "\t\"BillingCity\" NVARCHAR(40), \n",
            "\t\"BillingState\" NVARCHAR(40), \n",
            "\t\"BillingCountry\" NVARCHAR(40), \n",
            "\t\"BillingPostalCode\" NVARCHAR(10), \n",
            "\t\"Total\" NUMERIC(10, 2) NOT NULL, \n",
            "\tPRIMARY KEY (\"InvoiceId\"), \n",
            "\tFOREIGN KEY(\"CustomerId\") REFERENCES \"Customer\" (\"CustomerId\")\n",
            ")\n",
            "\n",
            "/*\n",
            "3 rows from Invoice table:\n",
            "InvoiceId\tCustomerId\tInvoiceDate\tBillingAddress\tBillingCity\tBillingState\tBillingCountry\tBillingPostalCode\tTotal\n",
            "1\t2\t2021-01-01 00:00:00\tTheodor-Heuss-Straße 34\tStuttgart\tNone\tGermany\t70174\t1.98\n",
            "2\t4\t2021-01-02 00:00:00\tUllevålsveien 14\tOslo\tNone\tNorway\t0171\t3.96\n",
            "3\t8\t2021-01-03 00:00:00\tGrétrystraat 63\tBrussels\tNone\tBelgium\t1000\t5.94\n",
            "*/\n",
            "\n",
            "\n",
            "CREATE TABLE \"InvoiceLine\" (\n",
            "\t\"InvoiceLineId\" INTEGER NOT NULL, \n",
            "\t\"InvoiceId\" INTEGER NOT NULL, \n",
            "\t\"TrackId\" INTEGER NOT NULL, \n",
            "\t\"UnitPrice\" NUMERIC(10, 2) NOT NULL, \n",
            "\t\"Quantity\" INTEGER NOT NULL, \n",
            "\tPRIMARY KEY (\"InvoiceLineId\"), \n",
            "\tFOREIGN KEY(\"TrackId\") REFERENCES \"Track\" (\"TrackId\"), \n",
            "\tFOREIGN KEY(\"InvoiceId\") REFERENCES \"Invoice\" (\"InvoiceId\")\n",
            ")\n",
            "\n",
            "/*\n",
            "3 rows from InvoiceLine table:\n",
            "InvoiceLineId\tInvoiceId\tTrackId\tUnitPrice\tQuantity\n",
            "1\t1\t2\t0.99\t1\n",
            "2\t1\t4\t0.99\t1\n",
            "3\t2\t6\t0.99\t1\n",
            "*/\n",
            "\n",
            "\n",
            "CREATE TABLE \"MediaType\" (\n",
            "\t\"MediaTypeId\" INTEGER NOT NULL, \n",
            "\t\"Name\" NVARCHAR(120), \n",
            "\tPRIMARY KEY (\"MediaTypeId\")\n",
            ")\n",
            "\n",
            "/*\n",
            "3 rows from MediaType table:\n",
            "MediaTypeId\tName\n",
            "1\tMPEG audio file\n",
            "2\tProtected AAC audio file\n",
            "3\tProtected MPEG-4 video file\n",
            "*/\n",
            "\n",
            "\n",
            "CREATE TABLE \"Playlist\" (\n",
            "\t\"PlaylistId\" INTEGER NOT NULL, \n",
            "\t\"Name\" NVARCHAR(120), \n",
            "\tPRIMARY KEY (\"PlaylistId\")\n",
            ")\n",
            "\n",
            "/*\n",
            "3 rows from Playlist table:\n",
            "PlaylistId\tName\n",
            "1\tMusic\n",
            "2\tMovies\n",
            "3\tTV Shows\n",
            "*/\n",
            "\n",
            "\n",
            "CREATE TABLE \"PlaylistTrack\" (\n",
            "\t\"PlaylistId\" INTEGER NOT NULL, \n",
            "\t\"TrackId\" INTEGER NOT NULL, \n",
            "\tPRIMARY KEY (\"PlaylistId\", \"TrackId\"), \n",
            "\tFOREIGN KEY(\"TrackId\") REFERENCES \"Track\" (\"TrackId\"), \n",
            "\tFOREIGN KEY(\"PlaylistId\") REFERENCES \"Playlist\" (\"PlaylistId\")\n",
            ")\n",
            "\n",
            "/*\n",
            "3 rows from PlaylistTrack table:\n",
            "PlaylistId\tTrackId\n",
            "1\t3402\n",
            "1\t3389\n",
            "1\t3390\n",
            "*/\n",
            "\n",
            "\n",
            "CREATE TABLE \"Track\" (\n",
            "\t\"TrackId\" INTEGER NOT NULL, \n",
            "\t\"Name\" NVARCHAR(200) NOT NULL, \n",
            "\t\"AlbumId\" INTEGER, \n",
            "\t\"MediaTypeId\" INTEGER NOT NULL, \n",
            "\t\"GenreId\" INTEGER, \n",
            "\t\"Composer\" NVARCHAR(220), \n",
            "\t\"Milliseconds\" INTEGER NOT NULL, \n",
            "\t\"Bytes\" INTEGER, \n",
            "\t\"UnitPrice\" NUMERIC(10, 2) NOT NULL, \n",
            "\tPRIMARY KEY (\"TrackId\"), \n",
            "\tFOREIGN KEY(\"MediaTypeId\") REFERENCES \"MediaType\" (\"MediaTypeId\"), \n",
            "\tFOREIGN KEY(\"GenreId\") REFERENCES \"Genre\" (\"GenreId\"), \n",
            "\tFOREIGN KEY(\"AlbumId\") REFERENCES \"Album\" (\"AlbumId\")\n",
            ")\n",
            "\n",
            "/*\n",
            "3 rows from Track table:\n",
            "TrackId\tName\tAlbumId\tMediaTypeId\tGenreId\tComposer\tMilliseconds\tBytes\tUnitPrice\n",
            "1\tFor Those About To Rock (We Salute You)\t1\t1\t1\tAngus Young, Malcolm Young, Brian Johnson\t343719\t11170334\t0.99\n",
            "2\tBalls to the Wall\t2\t2\t1\tU. Dirkschneider, W. Hoffmann, H. Frank, P. Baltes, S. Kaufmann, G. Hoffmann\t342562\t5510424\t0.99\n",
            "3\tFast As a Shark\t3\t2\t1\tF. Baltes, S. Kaufman, U. Dirkscneider & W. Hoffman\t230619\t3990994\t0.99\n",
            "*/\n"
          ]
        }
      ]
    },
    {
      "cell_type": "markdown",
      "source": [
        "This code retrieves the main prompt template from a LangChain SQL database chain, inserts the database schema information into the prompt, and then displays a truncated version of the resulting prompt. This is a common debugging or inspection step to see how the prompt will look when it's sent to the language model."
      ],
      "metadata": {
        "id": "WYyoPAbRiIFE"
      }
    },
    {
      "cell_type": "code",
      "source": [
        "prompt_with_context = chain.get_prompts()[0].partial(table_info=context[\"table_info\"])\n",
        "print(prompt_with_context.pretty_repr()[:1500])"
      ],
      "metadata": {
        "colab": {
          "base_uri": "https://localhost:8080/"
        },
        "id": "JR8U3D7VcDDT",
        "outputId": "bd4178e4-6fdd-4c43-91e7-32da1ad13c59"
      },
      "execution_count": 14,
      "outputs": [
        {
          "output_type": "stream",
          "name": "stdout",
          "text": [
            "You are a SQLite expert. Given an input question, first create a syntactically correct SQLite query to run, then look at the results of the query and return the answer to the input question.\n",
            "Unless the user specifies in the question a specific number of examples to obtain, query for at most 5 results using the LIMIT clause as per SQLite. You can order the results to return the most informative data in the database.\n",
            "Never query for all columns from a table. You must query only the columns that are needed to answer the question. Wrap each column name in double quotes (\") to denote them as delimited identifiers.\n",
            "Pay attention to use only the column names you can see in the tables below. Be careful to not query for columns that do not exist. Also, pay attention to which column is in which table.\n",
            "Pay attention to use date('now') function to get the current date, if the question involves \"today\".\n",
            "\n",
            "Use the following format:\n",
            "\n",
            "Question: Question here\n",
            "SQLQuery: SQL Query to run\n",
            "SQLResult: Result of the SQLQuery\n",
            "Answer: Final answer here\n",
            "\n",
            "Only use the following tables:\n",
            "\n",
            "CREATE TABLE \"Album\" (\n",
            "\t\"AlbumId\" INTEGER NOT NULL, \n",
            "\t\"Title\" NVARCHAR(160) NOT NULL, \n",
            "\t\"ArtistId\" INTEGER NOT NULL, \n",
            "\tPRIMARY KEY (\"AlbumId\"), \n",
            "\tFOREIGN KEY(\"ArtistId\") REFERENCES \"Artist\" (\"ArtistId\")\n",
            ")\n",
            "\n",
            "/*\n",
            "3 rows from Album table:\n",
            "AlbumId\tTitle\tArtistId\n",
            "1\tFor Those About To Rock We Salute You\t1\n",
            "2\tBalls to the Wall\t2\n",
            "3\tRestless and Wild\t2\n",
            "*/\n",
            "\n",
            "\n",
            "CREATE TABLE \"Artist\" (\n",
            "\t\"ArtistId\" INTEGER NOT NULL, \n",
            "\t\"Name\" NVARCHAR(120)\n"
          ]
        }
      ]
    },
    {
      "cell_type": "markdown",
      "source": [
        "# 5. Few-shot examples"
      ],
      "metadata": {
        "id": "4EbyW4GIc_bz"
      }
    },
    {
      "cell_type": "markdown",
      "source": [
        "### Define a list of example question-SQL query pairs\n",
        "\n",
        "1. example list\n",
        "\n",
        "a. examples: This is a list of dictionaries. Each dictionary represents a single example.\n",
        "\n",
        "b. Each dictionary has two keys:\n",
        "\n",
        "\"input\": The natural language question.\n",
        "\n",
        "\"query\": The corresponding SQL query that answers the question.\n",
        "\n",
        "2. example pairs\n",
        "\n",
        "The list contains several example pairs, covering a variety of SQL query types:\n",
        "\n",
        "a. Simple Queries:\n",
        "\n",
        "\"List all artists.\" -> SELECT * FROM Artist; (Retrieves all rows from the Artist table)\n",
        "\n",
        "\"List all customers from Canada.\" -> SELECT * FROM Customer WHERE Country = 'Canada'; (Filters rows based on a condition)\n",
        "\n",
        "\"Find the total number of invoices.\" -> SELECT COUNT(*) FROM Invoice; (Counts the number of rows)\n",
        "\n",
        "\"How many employees are there\" -> SELECT COUNT(*) FROM \"Employee\" (Counts the number of rows from a table containing a space in its name, which requires quoting)\n",
        "\n",
        "b. Subqueries:\n",
        "\n",
        "\"Find all albums for the artist 'AC/DC'.\" -> SELECT * FROM Album WHERE ArtistId = (SELECT ArtistId FROM Artist WHERE Name = 'AC/DC'); (Uses a subquery to find the ArtistId)\n",
        "\n",
        "\"List all tracks in the 'Rock' genre.\" -> SELECT * FROM Track WHERE GenreId = (SELECT GenreId FROM Genre WHERE Name = 'Rock'); (Similar subquery pattern)\n",
        "\n",
        "c. Aggregate Functions:\n",
        "\n",
        "\"Find the total duration of all tracks.\" -> SELECT SUM(Milliseconds) FROM Track; (Calculates the sum of a column)\n",
        "\n",
        "\"How many tracks are there in the album with ID 5?\" -> SELECT COUNT(*) FROM Track WHERE AlbumId = 5; (Counts rows with a specific condition)\n",
        "\n",
        "\"Who are the top 5 customers by total purchase?\" -> SELECT CustomerId, SUM(Total) AS TotalPurchase FROM Invoice GROUP BY CustomerId ORDER BY TotalPurchase DESC LIMIT 5; (Uses SUM, GROUP BY, ORDER BY, and LIMIT)\n",
        "\n",
        "d. Filtering:\n",
        "\n",
        "\"List all tracks that are longer than 5 minutes.\" -> SELECT * FROM Track WHERE Milliseconds > 300000; (Filters based on a numerical condition)\n",
        "\n",
        "\"Which albums are from the year 2000?\" -> SELECT * FROM Album WHERE strftime('%Y', ReleaseDate) = '2000'; (Filters based on a date condition, using strftime)\n",
        "\n",
        "Summary\n",
        "\n",
        "This code defines a set of examples that map natural language questions to their corresponding SQL queries. These examples showcase a range of SQL query types and can be used for various purposes, such as training, testing, or demonstrating a natural language to SQL system. They provide a clear mapping between human language and database queries."
      ],
      "metadata": {
        "id": "2-m_idEyjxxr"
      }
    },
    {
      "cell_type": "code",
      "source": [
        "examples = [\n",
        "    {\"input\": \"List all artists.\", \"query\": \"SELECT * FROM Artist;\"},\n",
        "    {\n",
        "        \"input\": \"Find all albums for the artist 'AC/DC'.\",\n",
        "        \"query\": \"SELECT * FROM Album WHERE ArtistId = (SELECT ArtistId FROM Artist WHERE Name = 'AC/DC');\",\n",
        "    },\n",
        "    {\n",
        "        \"input\": \"List all tracks in the 'Rock' genre.\",\n",
        "        \"query\": \"SELECT * FROM Track WHERE GenreId = (SELECT GenreId FROM Genre WHERE Name = 'Rock');\",\n",
        "    },\n",
        "    {\n",
        "        \"input\": \"Find the total duration of all tracks.\",\n",
        "        \"query\": \"SELECT SUM(Milliseconds) FROM Track;\",\n",
        "    },\n",
        "    {\n",
        "        \"input\": \"List all customers from Canada.\",\n",
        "        \"query\": \"SELECT * FROM Customer WHERE Country = 'Canada';\",\n",
        "    },\n",
        "    {\n",
        "        \"input\": \"How many tracks are there in the album with ID 5?\",\n",
        "        \"query\": \"SELECT COUNT(*) FROM Track WHERE AlbumId = 5;\",\n",
        "    },\n",
        "    {\n",
        "        \"input\": \"Find the total number of invoices.\",\n",
        "        \"query\": \"SELECT COUNT(*) FROM Invoice;\",\n",
        "    },\n",
        "    {\n",
        "        \"input\": \"List all tracks that are longer than 5 minutes.\",\n",
        "        \"query\": \"SELECT * FROM Track WHERE Milliseconds > 300000;\",\n",
        "    },\n",
        "    {\n",
        "        \"input\": \"Who are the top 5 customers by total purchase?\",\n",
        "        \"query\": \"SELECT CustomerId, SUM(Total) AS TotalPurchase FROM Invoice GROUP BY CustomerId ORDER BY TotalPurchase DESC LIMIT 5;\",\n",
        "    },\n",
        "    {\n",
        "        \"input\": \"Which albums are from the year 2000?\",\n",
        "        \"query\": \"SELECT * FROM Album WHERE strftime('%Y', ReleaseDate) = '2000';\",\n",
        "    },\n",
        "    {\n",
        "        \"input\": \"How many employees are there\",\n",
        "        \"query\": 'SELECT COUNT(*) FROM \"Employee\"',\n",
        "    },\n",
        "]"
      ],
      "metadata": {
        "id": "-Ha_iewpcr8T"
      },
      "execution_count": 15,
      "outputs": []
    },
    {
      "cell_type": "markdown",
      "source": [
        "### Setup the FewShotPromptTemplate\n",
        "\n",
        "How it Works:\n",
        "\n",
        "1. Examples: The examples list provides the LLM with a few examples of how to translate natural language questions into SQL queries.\n",
        "2. Formatting: The example_prompt template is used to format each example into the desired structure.\n",
        "3. Prefix and Suffix: The prefix and suffix provide context and instructions to the LLM.\n",
        "4. Placeholders: The placeholders ({input}, {query}, {top_k}, {table_info}) allow you to dynamically insert data into the prompt.\n",
        "\n",
        "This code creates a FewShotPromptTemplate that provides the LLM with a few examples of question-SQL query pairs, along with instructions and context. This allows the LLM to learn from the examples and generate accurate SQL queries for new questions. The use of placeholders makes the prompt template flexible and reusable."
      ],
      "metadata": {
        "id": "i1yZvQuvk-aD"
      }
    },
    {
      "cell_type": "code",
      "source": [
        "from langchain_core.prompts import FewShotPromptTemplate, PromptTemplate\n",
        "\n",
        "example_prompt = PromptTemplate.from_template(\"User input: {input}\\nSQL query: {query}\")\n",
        "prompt = FewShotPromptTemplate(\n",
        "    examples=examples[:5],\n",
        "    example_prompt=example_prompt,\n",
        "    prefix=\"You are a SQLite expert. Given an input question, create a syntactically correct SQLite query to run. Unless otherwise specificed, do not return more than {top_k} rows.\\n\\nHere is the relevant table info: {table_info}\\n\\nBelow are a number of examples of questions and their corresponding SQL queries.\",\n",
        "    suffix=\"User input: {input}\\nSQL query: \",\n",
        "    input_variables=[\"input\", \"top_k\", \"table_info\"],\n",
        ")"
      ],
      "metadata": {
        "id": "6qZtWcU-dOa2"
      },
      "execution_count": 16,
      "outputs": []
    },
    {
      "cell_type": "markdown",
      "source": [
        "This code demonstrates how to format a FewShotPromptTemplate with specific input values and then print the resulting prompt. This allows you to see how the prompt will look when it's sent to the language model, which is useful for debugging and understanding the prompt structure."
      ],
      "metadata": {
        "id": "UeVaUQF7l35-"
      }
    },
    {
      "cell_type": "code",
      "source": [
        "print(prompt.format(input=\"How many artists are there?\", top_k=3, table_info=\"foo\"))"
      ],
      "metadata": {
        "colab": {
          "base_uri": "https://localhost:8080/"
        },
        "id": "zXCRuuQNdVm8",
        "outputId": "a1ab29c9-eb8c-48cd-eb33-0557ccf6785c"
      },
      "execution_count": 17,
      "outputs": [
        {
          "output_type": "stream",
          "name": "stdout",
          "text": [
            "You are a SQLite expert. Given an input question, create a syntactically correct SQLite query to run. Unless otherwise specificed, do not return more than 3 rows.\n",
            "\n",
            "Here is the relevant table info: foo\n",
            "\n",
            "Below are a number of examples of questions and their corresponding SQL queries.\n",
            "\n",
            "User input: List all artists.\n",
            "SQL query: SELECT * FROM Artist;\n",
            "\n",
            "User input: Find all albums for the artist 'AC/DC'.\n",
            "SQL query: SELECT * FROM Album WHERE ArtistId = (SELECT ArtistId FROM Artist WHERE Name = 'AC/DC');\n",
            "\n",
            "User input: List all tracks in the 'Rock' genre.\n",
            "SQL query: SELECT * FROM Track WHERE GenreId = (SELECT GenreId FROM Genre WHERE Name = 'Rock');\n",
            "\n",
            "User input: Find the total duration of all tracks.\n",
            "SQL query: SELECT SUM(Milliseconds) FROM Track;\n",
            "\n",
            "User input: List all customers from Canada.\n",
            "SQL query: SELECT * FROM Customer WHERE Country = 'Canada';\n",
            "\n",
            "User input: How many artists are there?\n",
            "SQL query: \n"
          ]
        }
      ]
    },
    {
      "cell_type": "markdown",
      "source": [
        "# 6.  Dynamic few-shot examples"
      ],
      "metadata": {
        "id": "NvkCCo40dqJC"
      }
    },
    {
      "cell_type": "code",
      "source": [
        "!pip install faiss-cpu"
      ],
      "metadata": {
        "colab": {
          "base_uri": "https://localhost:8080/"
        },
        "id": "bffIOMxNd1Ev",
        "outputId": "5537778f-67ae-4a24-c48b-183c313f076a"
      },
      "execution_count": 19,
      "outputs": [
        {
          "output_type": "stream",
          "name": "stdout",
          "text": [
            "Collecting faiss-cpu\n",
            "  Downloading faiss_cpu-1.10.0-cp311-cp311-manylinux_2_28_x86_64.whl.metadata (4.4 kB)\n",
            "Requirement already satisfied: numpy<3.0,>=1.25.0 in /usr/local/lib/python3.11/dist-packages (from faiss-cpu) (1.26.4)\n",
            "Requirement already satisfied: packaging in /usr/local/lib/python3.11/dist-packages (from faiss-cpu) (24.2)\n",
            "Downloading faiss_cpu-1.10.0-cp311-cp311-manylinux_2_28_x86_64.whl (30.7 MB)\n",
            "\u001b[2K   \u001b[90m━━━━━━━━━━━━━━━━━━━━━━━━━━━━━━━━━━━━━━━━\u001b[0m \u001b[32m30.7/30.7 MB\u001b[0m \u001b[31m22.7 MB/s\u001b[0m eta \u001b[36m0:00:00\u001b[0m\n",
            "\u001b[?25hInstalling collected packages: faiss-cpu\n",
            "Successfully installed faiss-cpu-1.10.0\n"
          ]
        }
      ]
    },
    {
      "cell_type": "markdown",
      "source": [
        "### Setting up the semantically similarity example selector\n",
        "\n",
        "How it Works:\n",
        "\n",
        "1. Embeddings Generation:\n",
        "\n",
        "When the SemanticSimilarityExampleSelector is created, it generates embeddings for the \"input\" (natural language question) in each example using the OpenAIEmbeddings model.These embeddings are then stored in the FAISS vector store.\n",
        "\n",
        "2. Similarity Search:\n",
        "\n",
        "When a new input question is provided to the selector, it generates an embedding for the new question using the same OpenAIEmbeddings model.\n",
        "It then performs a similarity search in the FAISS vector store to find the examples with the most similar embeddings.\n",
        "\n",
        "3. Example Retrieval:\n",
        "\n",
        "The selector returns the top k (in this case, 5) examples that are most semantically similar to the input question.\n",
        "\n",
        "Purpose:\n",
        "\n",
        "1. Semantic Similarity: This example selector allows the system to find examples that are semantically similar to the user's question, even if the phrasing is different.\n",
        "\n",
        "2. Contextual Examples: By retrieving similar examples, the system can provide the LLM with relevant context and guidance for generating accurate SQL queries.\n",
        "\n",
        "3. Improved Accuracy: Using semantic similarity can improve the accuracy of the generated SQL queries by providing the LLM with more relevant examples.\n",
        "\n",
        "Summary:\n",
        "\n",
        "This code sets up a semantic similarity example selector that uses OpenAI embeddings and FAISS to find the most similar example questions to a given input question. This allows the system to provide the LLM with relevant examples, which helps it generate more accurate SQL queries."
      ],
      "metadata": {
        "id": "cNXnUDOumjAY"
      }
    },
    {
      "cell_type": "code",
      "source": [
        "from langchain_community.vectorstores import FAISS\n",
        "from langchain_core.example_selectors import SemanticSimilarityExampleSelector\n",
        "from langchain_openai import OpenAIEmbeddings\n",
        "\n",
        "example_selector = SemanticSimilarityExampleSelector.from_examples(\n",
        "    examples,\n",
        "    OpenAIEmbeddings(),\n",
        "    FAISS,\n",
        "    k=5,\n",
        "    input_keys=[\"input\"],\n",
        ")"
      ],
      "metadata": {
        "id": "CQCDUMOIdhQb"
      },
      "execution_count": 20,
      "outputs": []
    },
    {
      "cell_type": "markdown",
      "source": [
        "This code demonstrates how to use the SemanticSimilarityExampleSelector to retrieve relevant examples based on an input question. This allows the system to provide the LLM with contextual examples, which helps it generate more accurate SQL queries."
      ],
      "metadata": {
        "id": "23KEP2_enaga"
      }
    },
    {
      "cell_type": "code",
      "source": [
        "example_selector.select_examples({\"input\": \"how many artists are there?\"})"
      ],
      "metadata": {
        "colab": {
          "base_uri": "https://localhost:8080/"
        },
        "id": "7gauShl4dvch",
        "outputId": "7541f0ad-1b35-4818-a0be-eac2f36eab4d"
      },
      "execution_count": 21,
      "outputs": [
        {
          "output_type": "execute_result",
          "data": {
            "text/plain": [
              "[{'input': 'List all artists.', 'query': 'SELECT * FROM Artist;'},\n",
              " {'input': 'How many employees are there',\n",
              "  'query': 'SELECT COUNT(*) FROM \"Employee\"'},\n",
              " {'input': 'How many tracks are there in the album with ID 5?',\n",
              "  'query': 'SELECT COUNT(*) FROM Track WHERE AlbumId = 5;'},\n",
              " {'input': 'Which albums are from the year 2000?',\n",
              "  'query': \"SELECT * FROM Album WHERE strftime('%Y', ReleaseDate) = '2000';\"},\n",
              " {'input': \"List all tracks in the 'Rock' genre.\",\n",
              "  'query': \"SELECT * FROM Track WHERE GenreId = (SELECT GenreId FROM Genre WHERE Name = 'Rock');\"}]"
            ]
          },
          "metadata": {},
          "execution_count": 21
        }
      ]
    },
    {
      "cell_type": "markdown",
      "source": [
        "How it Works (with Example Selector):\n",
        "\n",
        "1. Dynamic Example Selection: When the prompt.format(...) method is called, the example_selector will be used to select the most semantically similar examples based on the input question.\n",
        "\n",
        "2. Formatting: The example_prompt template is used to format each selected example into the desired structure.\n",
        "\n",
        "3. Prefix and Suffix: The prefix and suffix provide context and instructions to the LLM.\n",
        "\n",
        "4. Placeholders: The placeholders ({input}, {top_k}, {table_info}) allow you to dynamically insert data into the prompt.\n",
        "\n",
        "Summary\n",
        "\n",
        "This code creates a FewShotPromptTemplate that uses a SemanticSimilarityExampleSelector to dynamically select the most relevant examples for a given input question. This allows the system to provide the LLM with contextual examples, which helps it generate more accurate SQL queries. The use of placeholders makes the prompt template flexible and reusable."
      ],
      "metadata": {
        "id": "F_03FftNnnqq"
      }
    },
    {
      "cell_type": "code",
      "source": [
        "prompt = FewShotPromptTemplate(\n",
        "    example_selector=example_selector,\n",
        "    example_prompt=example_prompt,\n",
        "    prefix=\"You are a SQLite expert. Given an input question, create a syntactically correct SQLite query to run. Unless otherwise specificed, do not return more than {top_k} rows.\\n\\nHere is the relevant table info: {table_info}\\n\\nBelow are a number of examples of questions and their corresponding SQL queries.\",\n",
        "    suffix=\"User input: {input}\\nSQL query: \",\n",
        "    input_variables=[\"input\", \"top_k\", \"table_info\"],\n",
        ")"
      ],
      "metadata": {
        "id": "9xUAXqpSd8rN"
      },
      "execution_count": 22,
      "outputs": []
    },
    {
      "cell_type": "markdown",
      "source": [
        "This code demonstrates how to format a FewShotPromptTemplate with specific input values, using a SemanticSimilarityExampleSelector to dynamically select the examples. It then prints the resulting prompt, which would be sent to a language model to generate a SQL query. The dynamic selection of examples makes the prompt more adaptable to different types of questions."
      ],
      "metadata": {
        "id": "1GmuOsg1oNJM"
      }
    },
    {
      "cell_type": "code",
      "source": [
        "print(prompt.format(input=\"how many artists are there?\", top_k=3, table_info=\"foo\"))"
      ],
      "metadata": {
        "colab": {
          "base_uri": "https://localhost:8080/"
        },
        "id": "OU39WtVneKmq",
        "outputId": "c61a0f18-573c-40bf-82d9-a155fea729a0"
      },
      "execution_count": 23,
      "outputs": [
        {
          "output_type": "stream",
          "name": "stdout",
          "text": [
            "You are a SQLite expert. Given an input question, create a syntactically correct SQLite query to run. Unless otherwise specificed, do not return more than 3 rows.\n",
            "\n",
            "Here is the relevant table info: foo\n",
            "\n",
            "Below are a number of examples of questions and their corresponding SQL queries.\n",
            "\n",
            "User input: List all artists.\n",
            "SQL query: SELECT * FROM Artist;\n",
            "\n",
            "User input: How many employees are there\n",
            "SQL query: SELECT COUNT(*) FROM \"Employee\"\n",
            "\n",
            "User input: How many tracks are there in the album with ID 5?\n",
            "SQL query: SELECT COUNT(*) FROM Track WHERE AlbumId = 5;\n",
            "\n",
            "User input: Which albums are from the year 2000?\n",
            "SQL query: SELECT * FROM Album WHERE strftime('%Y', ReleaseDate) = '2000';\n",
            "\n",
            "User input: List all tracks in the 'Rock' genre.\n",
            "SQL query: SELECT * FROM Track WHERE GenreId = (SELECT GenreId FROM Genre WHERE Name = 'Rock');\n",
            "\n",
            "User input: how many artists are there?\n",
            "SQL query: \n"
          ]
        }
      ]
    },
    {
      "cell_type": "markdown",
      "source": [
        "This code demonstrates how to use a LangChain chain to generate and execute SQL queries based on natural language questions. It sets up a chain, provides a question, and then prints the results of the query."
      ],
      "metadata": {
        "id": "WUot6M5Ho-k2"
      }
    },
    {
      "cell_type": "code",
      "source": [
        "chain = create_sql_query_chain(llm, db, prompt)\n",
        "chain.invoke({\"question\": \"how many artists are there?\"})"
      ],
      "metadata": {
        "colab": {
          "base_uri": "https://localhost:8080/",
          "height": 35
        },
        "id": "EAaezB1_eNJW",
        "outputId": "e5a9a1fe-f5fc-468c-a838-6e4b094dc8c1"
      },
      "execution_count": 24,
      "outputs": [
        {
          "output_type": "execute_result",
          "data": {
            "text/plain": [
              "'```sql\\nSELECT COUNT(*) FROM Artist;\\n```'"
            ],
            "application/vnd.google.colaboratory.intrinsic+json": {
              "type": "string"
            }
          },
          "metadata": {},
          "execution_count": 24
        }
      ]
    },
    {
      "cell_type": "code",
      "source": [
        "chain = create_sql_query_chain(llm, db, prompt)\n",
        "chain.invoke({\"question\": \"how many customers are there?\"})"
      ],
      "metadata": {
        "colab": {
          "base_uri": "https://localhost:8080/",
          "height": 35
        },
        "id": "x9h-IWHeeSEs",
        "outputId": "4ef696b3-eb98-407c-885a-81fd308f29f8"
      },
      "execution_count": 27,
      "outputs": [
        {
          "output_type": "execute_result",
          "data": {
            "text/plain": [
              "'```sql\\nSELECT COUNT(*) FROM \"Customer\";\\n```'"
            ],
            "application/vnd.google.colaboratory.intrinsic+json": {
              "type": "string"
            }
          },
          "metadata": {},
          "execution_count": 27
        }
      ]
    },
    {
      "cell_type": "code",
      "source": [
        "chain = create_sql_query_chain(llm, db, prompt)\n",
        "chain.invoke({\"question\": \"how many albums are there?\"})"
      ],
      "metadata": {
        "colab": {
          "base_uri": "https://localhost:8080/",
          "height": 35
        },
        "id": "MUvRhLpCpJVT",
        "outputId": "54ad6de4-825b-4388-e54a-83bd8ccb733e"
      },
      "execution_count": 28,
      "outputs": [
        {
          "output_type": "execute_result",
          "data": {
            "text/plain": [
              "'```sql\\nSELECT COUNT(*) FROM Album;\\n```'"
            ],
            "application/vnd.google.colaboratory.intrinsic+json": {
              "type": "string"
            }
          },
          "metadata": {},
          "execution_count": 28
        }
      ]
    },
    {
      "cell_type": "code",
      "source": [
        "chain = create_sql_query_chain(llm, db, prompt)\n",
        "chain.invoke({\"question\": \"name the artist with most number of albums?\"})"
      ],
      "metadata": {
        "colab": {
          "base_uri": "https://localhost:8080/",
          "height": 53
        },
        "id": "opEM5cZRpOD-",
        "outputId": "939f6a97-c1c5-4c8a-fd91-33870342dfba"
      },
      "execution_count": 29,
      "outputs": [
        {
          "output_type": "execute_result",
          "data": {
            "text/plain": [
              "'```sql\\nSELECT Artist.Name, COUNT(Album.AlbumId) AS AlbumCount\\nFROM Artist\\nJOIN Album ON Artist.ArtistId = Album.ArtistId\\nGROUP BY Artist.ArtistId\\nORDER BY AlbumCount DESC\\nLIMIT 1;\\n```'"
            ],
            "application/vnd.google.colaboratory.intrinsic+json": {
              "type": "string"
            }
          },
          "metadata": {},
          "execution_count": 29
        }
      ]
    },
    {
      "cell_type": "code",
      "source": [],
      "metadata": {
        "id": "TZRYoPFApXVf"
      },
      "execution_count": null,
      "outputs": []
    }
  ]
}